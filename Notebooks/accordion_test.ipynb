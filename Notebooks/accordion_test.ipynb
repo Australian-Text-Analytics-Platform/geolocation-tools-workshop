{
 "cells": [
  {
   "cell_type": "code",
   "execution_count": null,
   "metadata": {
    "pycharm": {
     "name": "#%%\n"
    }
   },
   "outputs": [],
   "source": [
    "import sys\n",
    "!{sys.executable} -m pip install ipywidgets==7.6.2"
   ]
  },
  {
   "cell_type": "code",
   "execution_count": 1,
   "metadata": {
    "pycharm": {
     "name": "#%%\n"
    }
   },
   "outputs": [
    {
     "name": "stdout",
     "output_type": "stream",
     "text": [
      "7.6.2\n"
     ]
    }
   ],
   "source": [
    "# from IPython.display import display\n",
    "import ipywidgets as widgets\n",
    "print(widgets.__version__)"
   ]
  },
  {
   "cell_type": "code",
   "execution_count": 3,
   "metadata": {
    "pycharm": {
     "name": "#%%\n"
    }
   },
   "outputs": [
    {
     "data": {
      "text/plain": "Accordion(children=(VBox(children=(Checkbox(value=False, description='a'), Checkbox(value=False, description='…",
      "application/vnd.jupyter.widget-view+json": {
       "version_major": 2,
       "version_minor": 0,
       "model_id": "9b951f810a91461ebd6bf127f8655544"
      }
     },
     "metadata": {},
     "output_type": "display_data"
    }
   ],
   "source": [
    "# Dummy data\n",
    "placenames = [\n",
    "    {\n",
    "        \"placename\": \"here\",\n",
    "        \"locations\": {\"candidates\": [\"a\",\"b\",\"c\"]}\n",
    "    },\n",
    "    {\n",
    "        \"placename\": \"somewhere\",\n",
    "        \"locations\": {\"candidates\": [\"d\",\"e\",\"f\"]}\n",
    "    },\n",
    "    {\n",
    "        \"placename\": \"nowhere\",\n",
    "        \"locations\": {\"candidates\": [\"g\",\"h\",\"i\"]}\n",
    "    },\n",
    "]\n",
    "\n",
    "# Create the accordion\n",
    "accordion = widgets.Accordion()\n",
    "\n",
    "\n",
    "# accordion.children = [widgets.Label(placename[\"placename\"]) for placename in placenames]\n",
    "\n",
    "# Build the checkboxes for all candidates\n",
    "accordion_children = []\n",
    "for placename in placenames:\n",
    "\n",
    "\n",
    "    checkboxes = [widgets.Checkbox(value=False, description=candidate)\n",
    "                        for candidate in placename[\"locations\"][\"candidates\"]]\n",
    "    placename[\"checkboxes\"] = checkboxes\n",
    "    accordion_children.append(widgets.VBox(checkboxes))\n",
    "\n",
    "[accordion.set_title(i, placename[\"placename\"]) for i, placename in enumerate(placenames)]\n",
    "accordion.children = accordion_children\n",
    "accordion\n",
    "\n"
   ]
  },
  {
   "cell_type": "code",
   "execution_count": 4,
   "metadata": {
    "pycharm": {
     "name": "#%%\n"
    }
   },
   "outputs": [
    {
     "data": {
      "text/plain": "[{'placename': 'here',\n  'locations': {'candidates': ['a', 'b', 'c']},\n  'checkboxes': [Checkbox(value=True, description='a'),\n   Checkbox(value=True, description='b'),\n   Checkbox(value=False, description='c')]},\n {'placename': 'somewhere',\n  'locations': {'candidates': ['d', 'e', 'f']},\n  'checkboxes': [Checkbox(value=False, description='d'),\n   Checkbox(value=True, description='e'),\n   Checkbox(value=False, description='f')]},\n {'placename': 'nowhere',\n  'locations': {'candidates': ['g', 'h', 'i']},\n  'checkboxes': [Checkbox(value=True, description='g'),\n   Checkbox(value=False, description='h'),\n   Checkbox(value=False, description='i')]}]"
     },
     "execution_count": 4,
     "metadata": {},
     "output_type": "execute_result"
    }
   ],
   "source": [
    "placenames"
   ]
  }
 ],
 "metadata": {
  "kernelspec": {
   "display_name": "venv",
   "language": "python",
   "name": "venv"
  },
  "language_info": {
   "codemirror_mode": {
    "name": "ipython",
    "version": 3
   },
   "file_extension": ".py",
   "mimetype": "text/x-python",
   "name": "python",
   "nbconvert_exporter": "python",
   "pygments_lexer": "ipython3",
   "version": "3.9.12"
  }
 },
 "nbformat": 4,
 "nbformat_minor": 1
}