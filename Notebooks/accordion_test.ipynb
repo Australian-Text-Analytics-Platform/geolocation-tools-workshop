{
 "cells": [
  {
   "cell_type": "code",
   "execution_count": null,
   "metadata": {
    "pycharm": {
     "name": "#%%\n"
    }
   },
   "outputs": [],
   "source": [
    "import sys\n",
    "!{sys.executable} -m pip install ipywidgets==7.6.2"
   ]
  },
  {
   "cell_type": "code",
   "execution_count": 1,
   "metadata": {
    "pycharm": {
     "name": "#%%\n"
    }
   },
   "outputs": [
    {
     "name": "stdout",
     "output_type": "stream",
     "text": [
      "7.6.2\n"
     ]
    }
   ],
   "source": [
    "# from IPython.display import display\n",
    "import ipywidgets as widgets\n",
    "print(widgets.__version__)"
   ]
  },
  {
   "cell_type": "code",
   "execution_count": 31,
   "metadata": {
    "pycharm": {
     "name": "#%%\n"
    }
   },
   "outputs": [
    {
     "data": {
      "application/vnd.jupyter.widget-view+json": {
       "model_id": "db125fc30d00468b9d77431d7f9e638d",
       "version_major": 2,
       "version_minor": 0
      },
      "text/plain": [
       "Accordion(children=(VBox(children=(RadioButtons(layout=Layout(width='max-content'), options=('a', 'b', 'c'), v…"
      ]
     },
     "metadata": {},
     "output_type": "display_data"
    }
   ],
   "source": [
    "# Dummy data\n",
    "placenames = [\n",
    "    {\n",
    "        \"placename\": \"here\",\n",
    "        \"bestmatch\": None,\n",
    "        \"locations\": {\"candidates\": [\"a\",\"b\",\"c\"]}\n",
    "    },\n",
    "    {\n",
    "        \"placename\": \"somewhere\",\n",
    "        \"bestmatch\": 2,\n",
    "        \"locations\": {\"candidates\": [\"d\",\"e\",\"f\"]}\n",
    "    },\n",
    "    {\n",
    "        \"placename\": \"nowhere\",\n",
    "        \"bestmatch\": 1,\n",
    "        \"locations\": {\"candidates\": [\"g\",\"h\",\"i\"]}\n",
    "    },\n",
    "]\n",
    "\n",
    "# Create the accordion\n",
    "accordion = widgets.Accordion()\n",
    "\n",
    "\n",
    "# accordion.children = [widgets.Label(placename[\"placename\"]) for placename in placenames]\n",
    "\n",
    "# Build the checkboxes for all candidates\n",
    "accordion_children = []\n",
    "for placename in placenames:\n",
    "\n",
    "    #checkboxes = [widgets.Checkbox(value=False, description=candidate)\n",
    "    buttonboxes = [widgets.RadioButtons(layout={'width':'max-content'},\n",
    "                                        options = [candidate for candidate in placename[\"locations\"][\"candidates\"]]\n",
    "                                      )]\n",
    "    \n",
    "    placename[\"locations\"][\"buttonboxes\"] = buttonboxes\n",
    "    accordion_children.append(widgets.VBox(buttonboxes))\n",
    "\n",
    "[accordion.set_title(i, placename[\"placename\"]) for i, placename in enumerate(placenames)]\n",
    "accordion.children = accordion_children\n",
    "accordion\n",
    "\n"
   ]
  },
  {
   "cell_type": "code",
   "execution_count": 32,
   "metadata": {
    "pycharm": {
     "name": "#%%\n"
    }
   },
   "outputs": [
    {
     "data": {
      "text/plain": [
       "[{'placename': 'here',\n",
       "  'bestmatch': None,\n",
       "  'locations': {'candidates': ['a', 'b', 'c'],\n",
       "   'buttonboxes': [RadioButtons(layout=Layout(width='max-content'), options=('a', 'b', 'c'), value='a')]}},\n",
       " {'placename': 'somewhere',\n",
       "  'bestmatch': 2,\n",
       "  'locations': {'candidates': ['d', 'e', 'f'],\n",
       "   'buttonboxes': [RadioButtons(layout=Layout(width='max-content'), options=('d', 'e', 'f'), value='d')]}},\n",
       " {'placename': 'nowhere',\n",
       "  'bestmatch': 1,\n",
       "  'locations': {'candidates': ['g', 'h', 'i'],\n",
       "   'buttonboxes': [RadioButtons(layout=Layout(width='max-content'), options=('g', 'h', 'i'), value='g')]}}]"
      ]
     },
     "execution_count": 32,
     "metadata": {},
     "output_type": "execute_result"
    }
   ],
   "source": [
    "placenames"
   ]
  },
  {
   "cell_type": "code",
   "execution_count": 33,
   "metadata": {},
   "outputs": [
    {
     "data": {
      "application/vnd.jupyter.widget-view+json": {
       "model_id": "b2fadb72170c4e639ae3c905df3a9e18",
       "version_major": 2,
       "version_minor": 0
      },
      "text/plain": [
       "VBox(children=(HBox(children=(Label(value=\"'here' matches best with [a]\"),)), Accordion(children=(HBox(childre…"
      ]
     },
     "metadata": {},
     "output_type": "display_data"
    },
    {
     "data": {
      "application/vnd.jupyter.widget-view+json": {
       "model_id": "e05b3cbfd3b54ca29f8ee07800932f4e",
       "version_major": 2,
       "version_minor": 0
      },
      "text/plain": [
       "VBox(children=(HBox(children=(Label(value=\"'somewhere' matches best with [f]\"),)), Accordion(children=(HBox(ch…"
      ]
     },
     "metadata": {},
     "output_type": "display_data"
    },
    {
     "data": {
      "application/vnd.jupyter.widget-view+json": {
       "model_id": "9acbf1827437469f81e30e50d2775fbe",
       "version_major": 2,
       "version_minor": 0
      },
      "text/plain": [
       "VBox(children=(HBox(children=(Label(value=\"'nowhere' matches best with [h]\"),)), Accordion(children=(HBox(chil…"
      ]
     },
     "metadata": {},
     "output_type": "display_data"
    }
   ],
   "source": [
    "# individually for each placename\n",
    "for placename in placenames:\n",
    "    #print(placename)\n",
    "    \n",
    "    # Get the best match\n",
    "    if (placename['bestmatch']!=None):\n",
    "        bestmatch_index = placename['bestmatch']\n",
    "    else:\n",
    "        # Otherwise, pick the first\n",
    "        bestmatch_index = 0\n",
    "    bestmatch = placename[\"locations\"][\"candidates\"][bestmatch_index]\n",
    "    \n",
    "    # select the current bestmatch\n",
    "    placename['locations']['buttonboxes'][0].index = bestmatch_index\n",
    "    \n",
    "    # Create a HBox for the Placename (and eventually also Best Match)\n",
    "    placename_box = widgets.HBox([widgets.Label(\"'\"+\n",
    "                                                placename['placename']+\n",
    "                                                \"' matches best with [\"+\n",
    "                                                bestmatch+\n",
    "                                                \"]\")])\n",
    "    \n",
    "    # Create an Accordian (in a HBox) for the candidates \n",
    "    new_accordion = widgets.Accordion()\n",
    "    new_accordion.set_title(0,\"Expand to chooose a different location\")\n",
    "    new_accordion.children = [widgets.HBox(placename[\"locations\"][\"buttonboxes\"])]\n",
    "    \n",
    "    # Put the HBoxes together in a VBox\n",
    "    whole_box = widgets.VBox([placename_box,\n",
    "                              new_accordion\n",
    "                              ])\n",
    "    \n",
    "    # show it all!\n",
    "    # Note: this doesn't close one accordion if another is opened \n",
    "    display(whole_box)"
   ]
  },
  {
   "cell_type": "code",
   "execution_count": 6,
   "metadata": {},
   "outputs": [
    {
     "data": {
      "text/plain": [
       "[{'placename': 'here',\n",
       "  'locations': {'candidates': ['a', 'b', 'c'],\n",
       "   'buttonboxes': [RadioButtons(layout=Layout(width='max-content'), options=('a', 'b', 'c'), value='a')]}},\n",
       " {'placename': 'somewhere',\n",
       "  'locations': {'candidates': ['d', 'e', 'f'],\n",
       "   'buttonboxes': [RadioButtons(index=2, layout=Layout(width='max-content'), options=('d', 'e', 'f'), value='f')]}},\n",
       " {'placename': 'nowhere',\n",
       "  'locations': {'candidates': ['g', 'h', 'i'],\n",
       "   'buttonboxes': [RadioButtons(index=1, layout=Layout(width='max-content'), options=('g', 'h', 'i'), value='h')]}}]"
      ]
     },
     "execution_count": 6,
     "metadata": {},
     "output_type": "execute_result"
    }
   ],
   "source": [
    "placenames"
   ]
  },
  {
   "cell_type": "code",
   "execution_count": 28,
   "metadata": {},
   "outputs": [],
   "source": [
    "#construct output\n",
    "output_array=[['Placename',\"Location\"]]\n",
    "for placename in placenames:\n",
    "    # Extract the selection\n",
    "    bestmatch_index = placename['locations']['buttonboxes'][0].index\n",
    "    # Format the record \n",
    "    geolocdata = [placename['placename'],\n",
    "                  placename['locations']['candidates'][bestmatch_index]]\n",
    "    # Add the record\n",
    "    output_array.append(geolocdata)"
   ]
  },
  {
   "cell_type": "code",
   "execution_count": 29,
   "metadata": {},
   "outputs": [
    {
     "data": {
      "text/plain": [
       "[['Placename', 'Location'],\n",
       " ['here', 'a'],\n",
       " ['somewhere', 'd'],\n",
       " ['nowhere', 'g']]"
      ]
     },
     "execution_count": 29,
     "metadata": {},
     "output_type": "execute_result"
    }
   ],
   "source": [
    "output_array"
   ]
  },
  {
   "cell_type": "code",
   "execution_count": 46,
   "metadata": {},
   "outputs": [
    {
     "data": {
      "application/vnd.jupyter.widget-view+json": {
       "model_id": "ac7ee466976c4420bcc34e34181272cc",
       "version_major": 2,
       "version_minor": 0
      },
      "text/plain": [
       "Label(value='Changes in source values are reflected in target1')"
      ]
     },
     "metadata": {},
     "output_type": "display_data"
    },
    {
     "data": {
      "application/vnd.jupyter.widget-view+json": {
       "model_id": "c2c43c944bcb43c7b14a04a9bb0e2b90",
       "version_major": 2,
       "version_minor": 0
      },
      "text/plain": [
       "Label(value='x', description='Source')"
      ]
     },
     "metadata": {},
     "output_type": "display_data"
    },
    {
     "data": {
      "application/vnd.jupyter.widget-view+json": {
       "model_id": "7610802eb7144d5d80c114172cd6ef89",
       "version_major": 2,
       "version_minor": 0
      },
      "text/plain": [
       "RadioButtons(options=('x', 'y', 'z'), value='x')"
      ]
     },
     "metadata": {},
     "output_type": "display_data"
    }
   ],
   "source": [
    "# You can link the value of a Label widget to the selection of a Radio Button \n",
    "# https://ipywidgets.readthedocs.io/en/latest/examples/Widget%20Events.html\n",
    "caption = widgets.Label(value='Changes in source values are reflected in target1')\n",
    "source = widgets.RadioButtons(options=('x','y','z'),value='x')\n",
    "target1 = widgets.Label(description='Source')\n",
    "dl = widgets.dlink((source, 'value'),(target1, 'value'))\n",
    "display(caption, target1, source)"
   ]
  },
  {
   "cell_type": "code",
   "execution_count": null,
   "metadata": {},
   "outputs": [],
   "source": []
  }
 ],
 "metadata": {
  "kernelspec": {
   "display_name": "Python 3",
   "language": "python",
   "name": "python3"
  },
  "language_info": {
   "codemirror_mode": {
    "name": "ipython",
    "version": 3
   },
   "file_extension": ".py",
   "mimetype": "text/x-python",
   "name": "python",
   "nbconvert_exporter": "python",
   "pygments_lexer": "ipython3",
   "version": "3.7.13"
  }
 },
 "nbformat": 4,
 "nbformat_minor": 1
}
