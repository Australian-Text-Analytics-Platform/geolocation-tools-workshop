{
 "cells": [
  {
   "cell_type": "code",
   "execution_count": 1,
   "outputs": [],
   "source": [
    "%%capture\n",
    "!pip install ipywidgets==8.0.1"
   ],
   "metadata": {
    "collapsed": false,
    "pycharm": {
     "name": "#%%\n"
    }
   }
  },
  {
   "cell_type": "code",
   "execution_count": 37,
   "outputs": [
    {
     "name": "stdout",
     "output_type": "stream",
     "text": [
      "8.0.1\n"
     ]
    }
   ],
   "source": [
    "from IPython.display import display\n",
    "import ipywidgets as widgets\n",
    "print(widgets.__version__)"
   ],
   "metadata": {
    "collapsed": false,
    "pycharm": {
     "name": "#%%\n"
    }
   }
  },
  {
   "cell_type": "code",
   "execution_count": 114,
   "outputs": [
    {
     "data": {
      "text/plain": "Accordion(children=(VBox(children=(Checkbox(value=False, description='a'), Checkbox(value=False, description='…",
      "application/vnd.jupyter.widget-view+json": {
       "version_major": 2,
       "version_minor": 0,
       "model_id": "9b5596ad123a4a19ad1c23c41c969c74"
      }
     },
     "execution_count": 114,
     "metadata": {},
     "output_type": "execute_result"
    }
   ],
   "source": [
    "placenames = [\n",
    "    {\n",
    "        \"placename\": \"here\",\n",
    "        \"locations\": {\"candidates\": [\"a\",\"b\",\"c\"]}\n",
    "    },\n",
    "    {\n",
    "        \"placename\": \"somewhere\",\n",
    "        \"locations\": {\"candidates\": [\"d\",\"e\",\"f\"]}\n",
    "    },\n",
    "    {\n",
    "        \"placename\": \"nowhere\",\n",
    "        \"locations\": {\"candidates\": [\"g\",\"h\",\"i\"]}\n",
    "    },\n",
    "]\n",
    "\n",
    "accordion = widgets.Accordion()\n",
    "accordion.titles = [placename[\"placename\"] for placename in placenames]\n",
    "\n",
    "accordion_children = []\n",
    "for placename in placenames:\n",
    "    checkboxes = [widgets.Checkbox(value=False, description=candidate)\n",
    "                        for candidate in placename[\"locations\"][\"candidates\"]]\n",
    "    placename[\"checkboxes\"] = checkboxes\n",
    "    accordion_children.append(widgets.VBox(checkboxes))\n",
    "accordion.children = accordion_children\n",
    "\n",
    "accordion"
   ],
   "metadata": {
    "collapsed": false,
    "pycharm": {
     "name": "#%%\n"
    }
   }
  },
  {
   "cell_type": "code",
   "execution_count": 115,
   "outputs": [
    {
     "data": {
      "text/plain": "[{'placename': 'here',\n  'locations': {'candidates': ['a', 'b', 'c']},\n  'checkboxes': [Checkbox(value=False, description='a'),\n   Checkbox(value=False, description='b'),\n   Checkbox(value=False, description='c')]},\n {'placename': 'somewhere',\n  'locations': {'candidates': ['d', 'e', 'f']},\n  'checkboxes': [Checkbox(value=True, description='d'),\n   Checkbox(value=True, description='e'),\n   Checkbox(value=False, description='f')]},\n {'placename': 'nowhere',\n  'locations': {'candidates': ['g', 'h', 'i']},\n  'checkboxes': [Checkbox(value=True, description='g'),\n   Checkbox(value=True, description='h'),\n   Checkbox(value=False, description='i')]}]"
     },
     "execution_count": 115,
     "metadata": {},
     "output_type": "execute_result"
    }
   ],
   "source": [
    "placenames"
   ],
   "metadata": {
    "collapsed": false,
    "pycharm": {
     "name": "#%%\n"
    }
   }
  },
  {
   "cell_type": "code",
   "execution_count": null,
   "outputs": [],
   "source": [],
   "metadata": {
    "collapsed": false,
    "pycharm": {
     "name": "#%%\n"
    }
   }
  }
 ],
 "metadata": {
  "kernelspec": {
   "name": "python3",
   "language": "python",
   "display_name": "Python 3 (ipykernel)"
  },
  "language_info": {
   "codemirror_mode": {
    "name": "ipython",
    "version": 2
   },
   "file_extension": ".py",
   "mimetype": "text/x-python",
   "name": "python",
   "nbconvert_exporter": "python",
   "pygments_lexer": "ipython2",
   "version": "2.7.6"
  }
 },
 "nbformat": 4,
 "nbformat_minor": 0
}