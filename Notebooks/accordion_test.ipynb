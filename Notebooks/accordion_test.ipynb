{
 "cells": [
  {
   "cell_type": "code",
   "execution_count": null,
   "metadata": {
    "pycharm": {
     "name": "#%%\n"
    }
   },
   "outputs": [],
   "source": [
    "import sys\n",
    "!{sys.executable} -m pip install ipywidgets==7.6.2"
   ]
  },
  {
   "cell_type": "code",
   "execution_count": null,
   "metadata": {
    "pycharm": {
     "name": "#%%\n"
    }
   },
   "outputs": [],
   "source": [
    "# from IPython.display import display\n",
    "import ipywidgets as widgets\n",
    "print(widgets.__version__)"
   ]
  },
  {
   "cell_type": "code",
   "execution_count": null,
   "metadata": {
    "pycharm": {
     "name": "#%%\n"
    }
   },
   "outputs": [],
   "source": [
    "# Dummy data\n",
    "placenames = [\n",
    "    {\n",
    "        \"placename\": \"here\",\n",
    "        \"locations\": {\"candidates\": [\"a\",\"b\",\"c\"]}\n",
    "    },\n",
    "    {\n",
    "        \"placename\": \"somewhere\",\n",
    "        \"locations\": {\"candidates\": [\"d\",\"e\",\"f\"]}\n",
    "    },\n",
    "    {\n",
    "        \"placename\": \"nowhere\",\n",
    "        \"locations\": {\"candidates\": [\"g\",\"h\",\"i\"]}\n",
    "    },\n",
    "]\n",
    "\n",
    "# Create the accordion\n",
    "accordion = widgets.Accordion()\n",
    "\n",
    "\n",
    "# accordion.children = [widgets.Label(placename[\"placename\"]) for placename in placenames]\n",
    "\n",
    "# Build the checkboxes for all candidates\n",
    "accordion_children = []\n",
    "for placename in placenames:\n",
    "\n",
    "    #checkboxes = [widgets.Checkbox(value=False, description=candidate)\n",
    "    buttonboxes = [widgets.RadioButtons(layout={'width':'max-content'},\n",
    "                                        options = [candidate for candidate in placename[\"locations\"][\"candidates\"]]\n",
    "                                      )]\n",
    "    \n",
    "    placename[\"locations\"][\"buttonboxes\"] = buttonboxes\n",
    "    accordion_children.append(widgets.VBox(buttonboxes))\n",
    "\n",
    "[accordion.set_title(i, placename[\"placename\"]) for i, placename in enumerate(placenames)]\n",
    "accordion.children = accordion_children\n",
    "accordion\n",
    "\n"
   ]
  },
  {
   "cell_type": "code",
   "execution_count": null,
   "metadata": {
    "pycharm": {
     "name": "#%%\n"
    }
   },
   "outputs": [],
   "source": [
    "placenames"
   ]
  },
  {
   "cell_type": "code",
   "execution_count": null,
   "metadata": {},
   "outputs": [],
   "source": [
    "# individually for each placename\n",
    "for placename in placenames:\n",
    "    # Create a HBox for the Placename (and eventually also Best Match)\n",
    "    placename_box = widgets.HBox([widgets.Label(placename['placename'])])\n",
    "    \n",
    "    # Create an Accordian (in a HBox) for the candidates \n",
    "    new_accordion = widgets.Accordion()\n",
    "    new_accordion.set_title(0,\"Expand to chooose a different location\")\n",
    "    new_accordion.children = [widgets.HBox(placename[\"locations\"][\"buttonboxes\"])]\n",
    "    \n",
    "    # Put the HBoxes together in a VBox\n",
    "    whole_box = widgets.VBox([placename_box,\n",
    "                              new_accordion\n",
    "                              ])\n",
    "    \n",
    "    # show it all!\n",
    "    # Note: this doesn't close one accordion if another is opened \n",
    "    display(whole_box)"
   ]
  },
  {
   "cell_type": "code",
   "execution_count": null,
   "metadata": {},
   "outputs": [],
   "source": [
    "placenames"
   ]
  },
  {
   "cell_type": "code",
   "execution_count": null,
   "metadata": {},
   "outputs": [],
   "source": [
    "#construct output\n",
    "output_array=[['Placename',\"Location\"]]\n",
    "for placename in placenames:\n",
    "    # Extract the selection\n",
    "    bestmatch_index = placename['locations']['buttonboxes'][0].index\n",
    "    # Format the record \n",
    "    geolocdata = [placename['placename'],\n",
    "                  placename['locations']['candidates'][bestmatch_index]]\n",
    "    # Add the record\n",
    "    output_array.append(geolocdata)"
   ]
  },
  {
   "cell_type": "code",
   "execution_count": null,
   "metadata": {},
   "outputs": [],
   "source": [
    "output_array"
   ]
  },
  {
   "cell_type": "code",
   "execution_count": null,
   "metadata": {},
   "outputs": [],
   "source": []
  }
 ],
 "metadata": {
  "kernelspec": {
   "display_name": "Python 3",
   "language": "python",
   "name": "python3"
  },
  "language_info": {
   "codemirror_mode": {
    "name": "ipython",
    "version": 3
   },
   "file_extension": ".py",
   "mimetype": "text/x-python",
   "name": "python",
   "nbconvert_exporter": "python",
   "pygments_lexer": "ipython3",
   "version": "3.7.13"
  }
 },
 "nbformat": 4,
 "nbformat_minor": 1
}
