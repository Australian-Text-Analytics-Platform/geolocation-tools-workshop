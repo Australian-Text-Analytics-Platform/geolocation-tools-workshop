{
 "cells": [
  {
   "cell_type": "code",
   "execution_count": null,
   "metadata": {
    "pycharm": {
     "name": "#%%\n"
    }
   },
   "outputs": [],
   "source": [
    "import sys\n",
    "!{sys.executable} -m pip install ipywidgets==7.6.2"
   ]
  },
  {
   "cell_type": "code",
   "execution_count": 1,
   "metadata": {
    "pycharm": {
     "name": "#%%\n"
    }
   },
   "outputs": [
    {
     "name": "stdout",
     "output_type": "stream",
     "text": [
      "7.6.2\n"
     ]
    }
   ],
   "source": [
    "# from IPython.display import display\n",
    "import ipywidgets as widgets\n",
    "print(widgets.__version__)"
   ]
  },
  {
   "cell_type": "code",
   "execution_count": 11,
   "metadata": {
    "pycharm": {
     "name": "#%%\n"
    }
   },
   "outputs": [
    {
     "data": {
      "application/vnd.jupyter.widget-view+json": {
       "model_id": "7fff10716bf44cb1bbf81538d21ff604",
       "version_major": 2,
       "version_minor": 0
      },
      "text/plain": [
       "Accordion(children=(VBox(children=(RadioButtons(layout=Layout(width='max-content'), options=('a', 'b', 'c'), v…"
      ]
     },
     "metadata": {},
     "output_type": "display_data"
    }
   ],
   "source": [
    "# Dummy data\n",
    "placenames = [\n",
    "    {\n",
    "        \"placename\": \"here\",\n",
    "        \"locations\": {\"candidates\": [\"a\",\"b\",\"c\"]}\n",
    "    },\n",
    "    {\n",
    "        \"placename\": \"somewhere\",\n",
    "        \"locations\": {\"candidates\": [\"d\",\"e\",\"f\"]}\n",
    "    },\n",
    "    {\n",
    "        \"placename\": \"nowhere\",\n",
    "        \"locations\": {\"candidates\": [\"g\",\"h\",\"i\"]}\n",
    "    },\n",
    "]\n",
    "\n",
    "# Create the accordion\n",
    "accordion = widgets.Accordion()\n",
    "\n",
    "\n",
    "# accordion.children = [widgets.Label(placename[\"placename\"]) for placename in placenames]\n",
    "\n",
    "# Build the checkboxes for all candidates\n",
    "accordion_children = []\n",
    "for placename in placenames:\n",
    "\n",
    "    #checkboxes = [widgets.Checkbox(value=False, description=candidate)\n",
    "    buttonboxes = [widgets.RadioButtons(layout={'width':'max-content'},\n",
    "                                        options = [candidate for candidate in placename[\"locations\"][\"candidates\"]]\n",
    "                                      )]\n",
    "    \n",
    "    placename[\"locations\"][\"buttonboxes\"] = buttonboxes\n",
    "    accordion_children.append(widgets.VBox(buttonboxes))\n",
    "\n",
    "[accordion.set_title(i, placename[\"placename\"]) for i, placename in enumerate(placenames)]\n",
    "accordion.children = accordion_children\n",
    "accordion\n",
    "\n"
   ]
  },
  {
   "cell_type": "code",
   "execution_count": 14,
   "metadata": {
    "pycharm": {
     "name": "#%%\n"
    }
   },
   "outputs": [
    {
     "data": {
      "text/plain": [
       "[{'placename': 'here',\n",
       "  'locations': {'candidates': ['a', 'b', 'c'],\n",
       "   'buttonboxes': [RadioButtons(layout=Layout(width='max-content'), options=('a', 'b', 'c'), value='a')]}},\n",
       " {'placename': 'somewhere',\n",
       "  'locations': {'candidates': ['d', 'e', 'f'],\n",
       "   'buttonboxes': [RadioButtons(index=1, layout=Layout(width='max-content'), options=('d', 'e', 'f'), value='e')]}},\n",
       " {'placename': 'nowhere',\n",
       "  'locations': {'candidates': ['g', 'h', 'i'],\n",
       "   'buttonboxes': [RadioButtons(layout=Layout(width='max-content'), options=('g', 'h', 'i'), value='g')]}}]"
      ]
     },
     "execution_count": 14,
     "metadata": {},
     "output_type": "execute_result"
    }
   ],
   "source": [
    "placenames"
   ]
  },
  {
   "cell_type": "code",
   "execution_count": 39,
   "metadata": {},
   "outputs": [
    {
     "data": {
      "application/vnd.jupyter.widget-view+json": {
       "model_id": "378188eaf38a4df986f93e18a5265d2e",
       "version_major": 2,
       "version_minor": 0
      },
      "text/plain": [
       "VBox(children=(HBox(children=(Label(value='here'),)), Accordion(children=(HBox(children=(RadioButtons(layout=L…"
      ]
     },
     "metadata": {},
     "output_type": "display_data"
    },
    {
     "data": {
      "application/vnd.jupyter.widget-view+json": {
       "model_id": "92bb957b373948999afcaba0f2b446d6",
       "version_major": 2,
       "version_minor": 0
      },
      "text/plain": [
       "VBox(children=(HBox(children=(Label(value='somewhere'),)), Accordion(children=(HBox(children=(RadioButtons(ind…"
      ]
     },
     "metadata": {},
     "output_type": "display_data"
    },
    {
     "data": {
      "application/vnd.jupyter.widget-view+json": {
       "model_id": "36ea5070967b4a6ca4be1cc960956b6c",
       "version_major": 2,
       "version_minor": 0
      },
      "text/plain": [
       "VBox(children=(HBox(children=(Label(value='nowhere'),)), Accordion(children=(HBox(children=(RadioButtons(index…"
      ]
     },
     "metadata": {},
     "output_type": "display_data"
    }
   ],
   "source": [
    "# individually for each placename\n",
    "for placename in placenames:\n",
    "    # Create a HBox for the Placename (and eventually also Best Match)\n",
    "    placename_box = widgets.HBox([widgets.Label(placename['placename'])])\n",
    "    \n",
    "    # Create an Accordian (in a HBox) for the candidates \n",
    "    new_accordion = widgets.Accordion()\n",
    "    new_accordion.set_title(0,\"Expand to chooose a different location\")\n",
    "    new_accordion.children = [widgets.HBox(placename[\"locations\"][\"buttonboxes\"])]\n",
    "    \n",
    "    # Put the HBoxes together in a VBox\n",
    "    whole_box = widgets.VBox([placename_box,\n",
    "                              new_accordion\n",
    "                              ])\n",
    "    \n",
    "    # show it all!\n",
    "    # Note: this doesn't close one accordion if another is opened \n",
    "    display(whole_box)"
   ]
  },
  {
   "cell_type": "code",
   "execution_count": 40,
   "metadata": {},
   "outputs": [
    {
     "data": {
      "text/plain": [
       "[{'placename': 'here',\n",
       "  'locations': {'candidates': ['a', 'b', 'c'],\n",
       "   'buttonboxes': [RadioButtons(layout=Layout(width='max-content'), options=('a', 'b', 'c'), value='a')]},\n",
       "  'WidgetBoxes': VBox(children=(HBox(children=(Label(value='here'),)), Accordion(children=(HBox(children=(RadioButtons(layout=Layout(width='max-content'), options=('a', 'b', 'c'), value='a'),)),), _titles={'0': 'Expand to chooose a different location'})))},\n",
       " {'placename': 'somewhere',\n",
       "  'locations': {'candidates': ['d', 'e', 'f'],\n",
       "   'buttonboxes': [RadioButtons(index=2, layout=Layout(width='max-content'), options=('d', 'e', 'f'), value='f')]},\n",
       "  'WidgetBoxes': VBox(children=(HBox(children=(Label(value='somewhere'),)), Accordion(children=(HBox(children=(RadioButtons(index=2, layout=Layout(width='max-content'), options=('d', 'e', 'f'), value='f'),)),), _titles={'0': 'Expand to chooose a different location'})))},\n",
       " {'placename': 'nowhere',\n",
       "  'locations': {'candidates': ['g', 'h', 'i'],\n",
       "   'buttonboxes': [RadioButtons(index=2, layout=Layout(width='max-content'), options=('g', 'h', 'i'), value='i')]},\n",
       "  'WidgetBoxes': VBox(children=(HBox(children=(Label(value='nowhere'),)), Accordion(children=(HBox(children=(RadioButtons(index=2, layout=Layout(width='max-content'), options=('g', 'h', 'i'), value='i'),)),), _titles={'0': 'Expand to chooose a different location'})))}]"
      ]
     },
     "execution_count": 40,
     "metadata": {},
     "output_type": "execute_result"
    }
   ],
   "source": [
    "placenames"
   ]
  },
  {
   "cell_type": "code",
   "execution_count": null,
   "metadata": {},
   "outputs": [],
   "source": []
  }
 ],
 "metadata": {
  "kernelspec": {
   "display_name": "Python 3",
   "language": "python",
   "name": "python3"
  },
  "language_info": {
   "codemirror_mode": {
    "name": "ipython",
    "version": 3
   },
   "file_extension": ".py",
   "mimetype": "text/x-python",
   "name": "python",
   "nbconvert_exporter": "python",
   "pygments_lexer": "ipython3",
   "version": "3.7.6"
  }
 },
 "nbformat": 4,
 "nbformat_minor": 1
}
