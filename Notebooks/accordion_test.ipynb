{
 "cells": [
  {
   "cell_type": "code",
   "execution_count": null,
   "metadata": {
    "pycharm": {
     "name": "#%%\n"
    }
   },
   "outputs": [],
   "source": [
    "import sys\n",
    "!{sys.executable} -m pip install ipywidgets==7.6.2"
   ]
  },
  {
   "cell_type": "code",
   "execution_count": 1,
   "metadata": {
    "pycharm": {
     "name": "#%%\n"
    }
   },
   "outputs": [
    {
     "name": "stdout",
     "output_type": "stream",
     "text": [
      "7.6.2\n"
     ]
    }
   ],
   "source": [
    "# from IPython.display import display\n",
    "import ipywidgets as widgets\n",
    "print(widgets.__version__)"
   ]
  },
  {
   "cell_type": "code",
   "execution_count": 13,
   "metadata": {
    "pycharm": {
     "name": "#%%\n"
    }
   },
   "outputs": [
    {
     "data": {
      "application/vnd.jupyter.widget-view+json": {
       "model_id": "b40f6cc86703424fa6c8d39c48bf98b8",
       "version_major": 2,
       "version_minor": 0
      },
      "text/plain": [
       "Accordion(children=(VBox(children=(RadioButtons(layout=Layout(width='max-content'), options=('a', 'b', 'c'), v…"
      ]
     },
     "metadata": {},
     "output_type": "display_data"
    }
   ],
   "source": [
    "# Dummy data\n",
    "placenames = [\n",
    "    {\n",
    "        \"placename\": \"here\",\n",
    "        \"bestmatch\": None,\n",
    "        \"locations\": {\"candidates\": [\"a\",\"b\",\"c\"]}\n",
    "    },\n",
    "    {\n",
    "        \"placename\": \"somewhere\",\n",
    "        \"bestmatch\": 2,\n",
    "        \"locations\": {\"candidates\": [\"d\",\"e\",\"f\"]}\n",
    "    },\n",
    "    {\n",
    "        \"placename\": \"nowhere\",\n",
    "        \"bestmatch\": 1,\n",
    "        \"locations\": {\"candidates\": [\"g\",\"h\",\"i\"]}\n",
    "    },\n",
    "]\n",
    "\n",
    "# Create the accordion\n",
    "accordion = widgets.Accordion()\n",
    "\n",
    "\n",
    "# accordion.children = [widgets.Label(placename[\"placename\"]) for placename in placenames]\n",
    "\n",
    "# Build the checkboxes for all candidates\n",
    "accordion_children = []\n",
    "for placename in placenames:\n",
    "\n",
    "    #checkboxes = [widgets.Checkbox(value=False, description=candidate)\n",
    "    buttonboxes = [widgets.RadioButtons(layout={'width':'max-content'},\n",
    "                                        options = [candidate for candidate in placename[\"locations\"][\"candidates\"]]\n",
    "                                      )]\n",
    "    \n",
    "    placename[\"locations\"][\"buttonboxes\"] = buttonboxes\n",
    "    accordion_children.append(widgets.VBox(buttonboxes))\n",
    "\n",
    "[accordion.set_title(i, placename[\"placename\"]) for i, placename in enumerate(placenames)]\n",
    "accordion.children = accordion_children\n",
    "accordion\n",
    "\n"
   ]
  },
  {
   "cell_type": "code",
   "execution_count": 14,
   "metadata": {
    "pycharm": {
     "name": "#%%\n"
    }
   },
   "outputs": [
    {
     "data": {
      "text/plain": [
       "[{'placename': 'here',\n",
       "  'bestmatch': None,\n",
       "  'locations': {'candidates': ['a', 'b', 'c'],\n",
       "   'buttonboxes': [RadioButtons(layout=Layout(width='max-content'), options=('a', 'b', 'c'), value='a')]}},\n",
       " {'placename': 'somewhere',\n",
       "  'bestmatch': 2,\n",
       "  'locations': {'candidates': ['d', 'e', 'f'],\n",
       "   'buttonboxes': [RadioButtons(layout=Layout(width='max-content'), options=('d', 'e', 'f'), value='d')]}},\n",
       " {'placename': 'nowhere',\n",
       "  'bestmatch': 1,\n",
       "  'locations': {'candidates': ['g', 'h', 'i'],\n",
       "   'buttonboxes': [RadioButtons(layout=Layout(width='max-content'), options=('g', 'h', 'i'), value='g')]}}]"
      ]
     },
     "execution_count": 14,
     "metadata": {},
     "output_type": "execute_result"
    }
   ],
   "source": [
    "placenames"
   ]
  },
  {
   "cell_type": "code",
   "execution_count": 15,
   "metadata": {},
   "outputs": [
    {
     "data": {
      "application/vnd.jupyter.widget-view+json": {
       "model_id": "323262501c7c47febdc20865f8863724",
       "version_major": 2,
       "version_minor": 0
      },
      "text/plain": [
       "VBox(children=(HBox(children=(Label(value=\"'here' matches best with [a]\"),)), Accordion(children=(HBox(childre…"
      ]
     },
     "metadata": {},
     "output_type": "display_data"
    },
    {
     "data": {
      "application/vnd.jupyter.widget-view+json": {
       "model_id": "9fbbe92a363e40689a0af275aadb2202",
       "version_major": 2,
       "version_minor": 0
      },
      "text/plain": [
       "VBox(children=(HBox(children=(Label(value=\"'somewhere' matches best with [f]\"),)), Accordion(children=(HBox(ch…"
      ]
     },
     "metadata": {},
     "output_type": "display_data"
    },
    {
     "data": {
      "application/vnd.jupyter.widget-view+json": {
       "model_id": "894876f019ee4b7580b8e58f40a43a3a",
       "version_major": 2,
       "version_minor": 0
      },
      "text/plain": [
       "VBox(children=(HBox(children=(Label(value=\"'nowhere' matches best with [h]\"),)), Accordion(children=(HBox(chil…"
      ]
     },
     "metadata": {},
     "output_type": "display_data"
    }
   ],
   "source": [
    "# individually for each placename\n",
    "for placename in placenames:\n",
    "    #print(placename)\n",
    "    \n",
    "    # Get the best match\n",
    "    if (placename['bestmatch']!=None):\n",
    "        bestmatch_index = placename['bestmatch']\n",
    "    else:\n",
    "        # Otherwise, pick the first candidate\n",
    "        bestmatch_index = 0\n",
    "    bestmatch = placename[\"locations\"][\"candidates\"][bestmatch_index]\n",
    "    \n",
    "    # Select the button for the current bestmatch\n",
    "    placename['locations']['buttonboxes'][0].index = bestmatch_index\n",
    "    \n",
    "    # Create a HBox for the Placename \n",
    "    placename_box = widgets.HBox([widgets.Label(\"'\"+\n",
    "                                                placename['placename']+\n",
    "                                                \"' matches best with [\"+\n",
    "                                                bestmatch+\n",
    "                                                \"]\")])\n",
    "    \n",
    "    # Create an Accordian (in a HBox) for the candidates \n",
    "    new_accordion = widgets.Accordion()\n",
    "    new_accordion.set_title(0,\"Expand to chooose a different location\")\n",
    "    new_accordion.children = [widgets.HBox(placename[\"locations\"][\"buttonboxes\"])]\n",
    "    new_accordion.selected_index=None # close the accordion at startup\n",
    "\n",
    "    # Put the HBoxes together in a VBox\n",
    "    whole_box = widgets.VBox([placename_box,\n",
    "                              new_accordion\n",
    "                              ])\n",
    "    \n",
    "    # show it all!\n",
    "    # Note: this doesn't close one accordion if another is opened \n",
    "    display(whole_box)\n",
    "    \n"
   ]
  },
  {
   "cell_type": "code",
   "execution_count": 16,
   "metadata": {},
   "outputs": [
    {
     "data": {
      "text/plain": [
       "[{'placename': 'here',\n",
       "  'bestmatch': None,\n",
       "  'locations': {'candidates': ['a', 'b', 'c'],\n",
       "   'buttonboxes': [RadioButtons(layout=Layout(width='max-content'), options=('a', 'b', 'c'), value='a')]}},\n",
       " {'placename': 'somewhere',\n",
       "  'bestmatch': 2,\n",
       "  'locations': {'candidates': ['d', 'e', 'f'],\n",
       "   'buttonboxes': [RadioButtons(index=1, layout=Layout(width='max-content'), options=('d', 'e', 'f'), value='e')]}},\n",
       " {'placename': 'nowhere',\n",
       "  'bestmatch': 1,\n",
       "  'locations': {'candidates': ['g', 'h', 'i'],\n",
       "   'buttonboxes': [RadioButtons(index=2, layout=Layout(width='max-content'), options=('g', 'h', 'i'), value='i')]}}]"
      ]
     },
     "execution_count": 16,
     "metadata": {},
     "output_type": "execute_result"
    }
   ],
   "source": [
    "placenames"
   ]
  },
  {
   "cell_type": "code",
   "execution_count": 17,
   "metadata": {},
   "outputs": [],
   "source": [
    "#construct output\n",
    "output_array=[['Placename',\"Location\"]]\n",
    "for placename in placenames:\n",
    "    # Extract the selection\n",
    "    bestmatch_index = placename['locations']['buttonboxes'][0].index\n",
    "    # Format the record \n",
    "    geolocdata = [placename['placename'],\n",
    "                  placename['locations']['candidates'][bestmatch_index]]\n",
    "    # Add the record\n",
    "    output_array.append(geolocdata)"
   ]
  },
  {
   "cell_type": "code",
   "execution_count": 18,
   "metadata": {},
   "outputs": [
    {
     "data": {
      "text/plain": [
       "[['Placename', 'Location'],\n",
       " ['here', 'a'],\n",
       " ['somewhere', 'e'],\n",
       " ['nowhere', 'i']]"
      ]
     },
     "execution_count": 18,
     "metadata": {},
     "output_type": "execute_result"
    }
   ],
   "source": [
    "output_array"
   ]
  },
  {
   "cell_type": "code",
   "execution_count": 24,
   "metadata": {},
   "outputs": [
    {
     "data": {
      "application/vnd.jupyter.widget-view+json": {
       "model_id": "ad12861c95c9455797c868e77def649b",
       "version_major": 2,
       "version_minor": 0
      },
      "text/plain": [
       "Label(value='Changes in source values are reflected in target1')"
      ]
     },
     "metadata": {},
     "output_type": "display_data"
    },
    {
     "data": {
      "application/vnd.jupyter.widget-view+json": {
       "model_id": "bda88610436c48c48734900d9b1c33b8",
       "version_major": 2,
       "version_minor": 0
      },
      "text/plain": [
       "Label(value='x', description='Source')"
      ]
     },
     "metadata": {},
     "output_type": "display_data"
    },
    {
     "data": {
      "application/vnd.jupyter.widget-view+json": {
       "model_id": "c4e72fba00b64a3e8a8812c0433a958a",
       "version_major": 2,
       "version_minor": 0
      },
      "text/plain": [
       "RadioButtons(options=('x', 'y', 'z'), value='x')"
      ]
     },
     "metadata": {},
     "output_type": "display_data"
    }
   ],
   "source": [
    "# You can link the value of a Label widget to the selection of a Radio Button \n",
    "# https://ipywidgets.readthedocs.io/en/latest/examples/Widget%20Events.html\n",
    "caption = widgets.Label(value='Changes in source values are reflected in target1')\n",
    "source = widgets.RadioButtons(options=('x','y','z'),value='x')\n",
    "target1 = widgets.Label(description='Source',value=source.value)\n",
    "#dl = widgets.dlink((source, 'value'),(target1, 'value'))\n",
    "display(caption, target1, source)\n",
    "\n",
    "# Linking only changes one value to match the other.\n",
    "# Alternatively, just respond to the Source change and use it to make a brand new value for the Target1.\n",
    "def on_change(v):\n",
    "    x = \"You have chosen \"+v['new']\n",
    "    target1.value=x\n",
    "source.observe(on_change, names='value')\n",
    "\n",
    "# The problem with this is that if you have multiple placename and accordions widgets, \n",
    "# how do you match each source and target?"
   ]
  },
  {
   "cell_type": "code",
   "execution_count": null,
   "metadata": {},
   "outputs": [],
   "source": []
  },
  {
   "cell_type": "code",
   "execution_count": null,
   "metadata": {},
   "outputs": [],
   "source": []
  }
 ],
 "metadata": {
  "kernelspec": {
   "display_name": "Python 3",
   "language": "python",
   "name": "python3"
  },
  "language_info": {
   "codemirror_mode": {
    "name": "ipython",
    "version": 3
   },
   "file_extension": ".py",
   "mimetype": "text/x-python",
   "name": "python",
   "nbconvert_exporter": "python",
   "pygments_lexer": "ipython3",
   "version": "3.7.13"
  }
 },
 "nbformat": 4,
 "nbformat_minor": 1
}
