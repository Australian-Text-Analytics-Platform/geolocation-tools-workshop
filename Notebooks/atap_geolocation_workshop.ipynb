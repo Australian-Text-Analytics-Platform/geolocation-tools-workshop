{
 "cells": [
  {
   "cell_type": "markdown",
   "metadata": {},
   "source": [
    "# ATAP Notebook for the Geolocation project\n",
    "\n",
    "This notebook helps you access the Geolocation tools in a Python development environment."
   ]
  },
  {
   "cell_type": "markdown",
   "metadata": {},
   "source": [
    "### Contents\n",
    "* [Premise](#section-premise)\n",
    "* [Requirements](#section-requirements) \n",
    "* [Data Preparation](#section-datapreparation)\n",
    "* [Named Entity Recognition](#section-ner)\n",
    " * [Look for NEs](#section-nes)\n",
    " * [Reviewing Candidate Placenames](#section-reviewplacenames)\n",
    "* [Finding Locations for Placenames](#section-findinglocs)\n",
    " * [Identifying States and Capitals](#section-statescapitals)\n",
    " * [Searching a Gazzetteer for Locations](#section-searchgazetteer)"
   ]
  },
  {
   "cell_type": "markdown",
   "metadata": {},
   "source": [
    "## Premise <a class=\"anchor\" id=\"section-premise\"></a>\n",
    "*This section explains the Geolocation project and tools.*"
   ]
  },
  {
   "cell_type": "markdown",
   "metadata": {},
   "source": [
    "The Geolocation project relates to doctoral research done by [Fiannuala Morgan](https://finnoscarmorgan.github.io/) at the Australian National University. It uses software to identify placenames in archived historical texts, then compares them to data about known locations to identify where the placenames may be located. \n",
    "\n",
    "This notebook is designed to allow you to perform similar operations on textual documents.\n",
    "\n",
    "<div class=\"alert alert-block alert-success\">\n",
    "It will teach you how to\n",
    "<ul>\n",
    "    <li>use the spaCy library to identify and classify Named Entities (NEs)</li>\n",
    "    <li>identify multi-word expressions (MWE) that are NEs</li>\n",
    "    <li>search for spatial data about specific locations or places in gazetteers of such data</li>\n",
    "    <li>determine which locations are referred to by placenames, based on the context in which they are used in a text</li>\n",
    "</ul>\n",
    "</div>"
   ]
  },
  {
   "cell_type": "markdown",
   "metadata": {},
   "source": [
    "## Requirements <a class=\"anchor\" id=\"section-requirements\"></a>"
   ]
  },
  {
   "cell_type": "markdown",
   "metadata": {},
   "source": [
    "<div class=\"alert alert-block alert-info\">\n",
    "This notebook uses various Python libraries. Most will come with your Python installation, but the following are crucial:\n",
    "<ul>\n",
    "    <li> pandas</li> \n",
    "    <li> json</li> \n",
    "    <li> nltk</li> \n",
    "    <li> geopandas</li> \n",
    "    <li> shapely  </li> \n",
    "</ul>\n",
    "</div>"
   ]
  },
  {
   "cell_type": "code",
   "execution_count": 3,
   "metadata": {},
   "outputs": [],
   "source": [
    "# TODO: UPDATE\n",
    "# Many of these are probably not needed.\n",
    "\n",
    "import os\n",
    "from pickle import NONE\n",
    "import nltk\n",
    "import csv\n",
    "import time\n",
    "import urllib\n",
    "import requests\n",
    "import json\n",
    "import math\n",
    "\n",
    "#import matplotlib.pyplot as plt\n",
    "import pandas as pd\n",
    "import numpy as np\n",
    "\n",
    "# Geopandas is used to work with spatial data\n",
    "# If you have issues installing it on a MAcOS, \n",
    "# see https://stackoverflow.com/questions/71137617/error-installing-geopandas-in-python-on-mac-m1\n",
    "#import geopandas as gpd\n",
    "#from geopandas import GeoDataFrame\n",
    "\n",
    "# NLTK is used to work with textual data \n",
    "#from nltk.tag import StanfordNERTagger\n",
    "#from nltk.tokenize import word_tokenize\n",
    "\n",
    "# spaCy is used for a pipeline of NLP functions\n",
    "import spacy\n",
    "from spacy.tokens import Span\n",
    "from spacy import displacy\n",
    "\n",
    "# Shapely is used to work with geometric shapes\n",
    "#from shapely.geometry import Point\n",
    "\n",
    "# Fuzzywuzzy is used for fuzzy searches\n",
    "#from fuzzywuzzy import fuzz\n",
    "\n",
    "# used for the checklist\n",
    "import ipywidgets as widgets"
   ]
  },
  {
   "cell_type": "markdown",
   "metadata": {},
   "source": [
    "# Data preparation <a class=\"anchor\" id=\"section-datapreparation\"></a>"
   ]
  },
  {
   "cell_type": "markdown",
   "metadata": {},
   "source": [
    "You also want to set up some directories for the import and output of data."
   ]
  },
  {
   "cell_type": "code",
   "execution_count": 4,
   "metadata": {},
   "outputs": [],
   "source": [
    "## Declare the data directories\n",
    "## This presumes that Notebooks/ is the current working directory  \n",
    "text_directory = os.path.normpath(\"../Texts/\")\n",
    "csv_directory = os.path.normpath(\"../ner_output/\")\n",
    "reference_directory = os.path.normpath(\"../Data\")\n",
    "#maps_directory = os.path.normpath(\"../maps/\")\n",
    "\n",
    "## Create the data directories\n",
    "if not os.path.exists(text_directory):\n",
    "    os.makedirs(text_directory)\n",
    "if not os.path.exists(csv_directory):\n",
    "   os.makedirs(csv_directory)\n",
    "if not os.path.exists(reference_directory):\n",
    "   os.makedirs(reference_directory)\n",
    "\n",
    "#if not os.path.exists(maps_directory):\n",
    "#    os.makedirs(maps_directory)"
   ]
  },
  {
   "cell_type": "markdown",
   "metadata": {},
   "source": [
    "For this workshop, we will be examining the text of *For the Term of His Natural Life*, an 1874CE novel by Marcus Clarke that is in the public domain. Our copy was obtained via the [Gutenburg Project Australia](https://gutenberg.net.au/ebooks/e00016.txt). It is an unformatted textfile. We have slightly simplified it further by reducing it to only standard ASCII characters, replacing any accented characters with their unaccented forms and the British Pound Sterling symbol with the word pounds. \n",
    "\n",
    "The novel is divided into four books, each based in different regions of the world. You can start with the second book, which is titled *BOOK II.\\-\\-MACQUARIE HARBOUR.  1833*. \n"
   ]
  },
  {
   "cell_type": "code",
   "execution_count": null,
   "metadata": {},
   "outputs": [],
   "source": [
    "#filename=\"FtToHNL_BOOK_1.txt\"\n",
    "filename=\"FtToHNL_BOOK_2.txt\"\n",
    "print(\"Working on | \", filename)\n",
    "\n",
    "# set the specific path for the 'filename' which is basically working through a list of everything that is in the folder\n",
    "textlocation = os.path.normpath(os.path.join(text_directory, filename))\n",
    "text_filename = os.path.basename(textlocation)\n",
    "\n",
    "text = open(textlocation, encoding=\"utf-8\").read()"
   ]
  },
  {
   "cell_type": "markdown",
   "metadata": {},
   "source": [
    "This is no more than a long string of characters. So far, you have done no processing. "
   ]
  },
  {
   "cell_type": "code",
   "execution_count": null,
   "metadata": {},
   "outputs": [],
   "source": [
    "text[0:499] # look at the first 500 characters"
   ]
  },
  {
   "cell_type": "markdown",
   "metadata": {},
   "source": [
    "## Named Entity Recognition <a class=\"anchor\" id=\"section-ner\"></a>\n",
    "*This section provides tools on identifying named entities in textual data*"
   ]
  },
  {
   "cell_type": "markdown",
   "metadata": {},
   "source": [
    "### Look for NEs <a class=\"anchor\" id=\"section-nes\"></a>"
   ]
  },
  {
   "cell_type": "markdown",
   "metadata": {},
   "source": [
    "Named Entities (NEs) are proper noun phrases within text, like names of places, people or organisations."
   ]
  },
  {
   "cell_type": "markdown",
   "metadata": {},
   "source": [
    "There are various packages that can include Named Enity Recognition (NER), e.g., the [Stanza CoreNLP](https://colab.research.google.com/github/stanfordnlp/stanza/blob/main/demo/Stanza_CoreNLP_Interface.ipynb), the Stanford NER, and the spaCy library. They often combine machine learning and a rule-based system to identify NEs and classify them into categories."
   ]
  },
  {
   "cell_type": "markdown",
   "metadata": {},
   "source": [
    "For this notebook, you will be using the spaCy NER - https://spacy.io/usage/linguistic-features#morphology .  This is available as a Python library."
   ]
  },
  {
   "cell_type": "markdown",
   "metadata": {},
   "source": [
    "SpaCy allows you to load a language model that has been trained on various examples of the language of interest. "
   ]
  },
  {
   "cell_type": "code",
   "execution_count": null,
   "metadata": {},
   "outputs": [],
   "source": [
    "nlp = spacy.load(\"en_core_web_sm\")"
   ]
  },
  {
   "cell_type": "markdown",
   "metadata": {},
   "source": [
    "SpaCy will automatically run the model through various levels of natural language processing. This pipeline includes tokenising the text into individual tokens or terms, like words, values and puncuation."
   ]
  },
  {
   "cell_type": "markdown",
   "metadata": {},
   "source": [
    "TODO: Update\n",
    "\n",
    "It is simple to use the client. You just tell it to annotate the text. However, Stanza allows you to specify what to annotate the text with. For instance, you might want it to tokenise the terms, label their parts-of-speech and lemmatised forms as well as recognising any NEs."
   ]
  },
  {
   "cell_type": "markdown",
   "metadata": {},
   "source": [
    "TODO: Update\n",
    "\n",
    "<div class=\"alert alert-block alert-info\">\n",
    "The options for the Stanza client include:<ul>\n",
    "    <li> <strong>tokenize - </strong> split into words or terms </li> \n",
    "      <li>    <strong>ssplit - </strong> split into sentences or independent statements</li> \n",
    "     <li>     <strong>pos -  </strong> syntactic parts-of-speech</li> \n",
    "      <li>    <strong>lemma -  </strong> lemmatised form (not always a root form)</li> \n",
    "      <li>    <strong>ner - </strong> named entity recognition</li> \n",
    "      <li>    <strong>depparse -  </strong> parsing of dependencies</li> \n",
    "      <li>    <strong>coref - </strong> co-reference resolution</li> \n",
    "      <li>    <strong>kbppandas - </strong> KBP competition format</li> \n",
    "</ul>\n",
    "A full explanation can be found at <a href=\"https://stanfordnlp.github.io/CoreNLP/pipeline.html\">https://stanfordnlp.github.io/CoreNLP/pipeline.html</a></div>"
   ]
  },
  {
   "cell_type": "markdown",
   "metadata": {},
   "source": [
    "For example, the default line contains the following."
   ]
  },
  {
   "cell_type": "code",
   "execution_count": null,
   "metadata": {},
   "outputs": [],
   "source": [
    "print(\"Pipeline:\", nlp.pipe_names)"
   ]
  },
  {
   "cell_type": "markdown",
   "metadata": {},
   "source": [
    "Text sent to the spaCy model will be processed by the pipeline."
   ]
  },
  {
   "cell_type": "code",
   "execution_count": null,
   "metadata": {},
   "outputs": [],
   "source": [
    "# sample text\n",
    "sampletext = \"Autonomous cars shift insurance liability toward manufacturers\""
   ]
  },
  {
   "cell_type": "code",
   "execution_count": null,
   "metadata": {},
   "outputs": [],
   "source": [
    "doc = nlp(sampletext)\n",
    "doc"
   ]
  },
  {
   "cell_type": "markdown",
   "metadata": {},
   "source": [
    "The output from the pipeline is then  available in the output structure of the spaCy model."
   ]
  },
  {
   "cell_type": "code",
   "execution_count": null,
   "metadata": {},
   "outputs": [],
   "source": [
    "for token in doc:\n",
    "    print(token.text,\" - \", \"Morph: \",token.morph, \n",
    "          \"\\n   Dep: \",token.dep_, \n",
    "          \"\\n   Head: \",token.head.text, \n",
    "          \"\\n   Pos: \",token.head.pos_,\n",
    "          \"\\n   Child: \",[child for child in token.children])\n"
   ]
  },
  {
   "cell_type": "markdown",
   "metadata": {},
   "source": [
    "However, you might not want some of this pipeline processing as it may not be beneficial to your analysis. Any unneeded processing will also slow the system down and place a greater demand on the memory. This is particularly true of the parser. Luckily, it is easy to stipulate what you want excluded from the pipeline. "
   ]
  },
  {
   "cell_type": "code",
   "execution_count": null,
   "metadata": {},
   "outputs": [],
   "source": [
    "doc=nlp(sampletext, disable=[\"tok2vec\", \"tagger\", \"parser\", \"attribute_ruler\", \"lemmatizer\"])"
   ]
  },
  {
   "cell_type": "code",
   "execution_count": null,
   "metadata": {},
   "outputs": [],
   "source": [
    "for token in doc:\n",
    "    print(token.text,\" - \", \"Morph: \",token.morph, \n",
    "          \"\\n   Dep: \",token.dep_, \n",
    "          \"\\n   Head: \",token.head.text, \n",
    "          \"\\n   Pos: \",token.head.pos_,\n",
    "          \"\\n   Child: \",[child for child in token.children])"
   ]
  },
  {
   "cell_type": "markdown",
   "metadata": {},
   "source": [
    "Of course, what you are interested in is the NER. Each sentence sent down the pipeline with the ner will get a list of entities that have been found. "
   ]
  },
  {
   "cell_type": "code",
   "execution_count": null,
   "metadata": {},
   "outputs": [],
   "source": [
    "sampletext = \"Apple is looking at buying a U.K. startup based in London for $1 billion.\""
   ]
  },
  {
   "cell_type": "code",
   "execution_count": null,
   "metadata": {},
   "outputs": [],
   "source": [
    "doc = nlp(sampletext)\n",
    "\n",
    "for ent in doc.ents:\n",
    "    print(ent.text, \"[\",ent.label_,\"]\")"
   ]
  },
  {
   "cell_type": "markdown",
   "metadata": {},
   "source": [
    "As you can see, each entity is labelled with a category."
   ]
  },
  {
   "cell_type": "markdown",
   "metadata": {},
   "source": [
    "TODO: UPDATE\n",
    "\n",
    "<div class=\"alert alert-block alert-info\">\n",
    "    The NER categories classified by Stanza include:\n",
    "   <ul>\n",
    "<li><strong>Default:</strong>\n",
    "LOCATION, ORGANIZATION, PERSON</li>\n",
    "<li><strong>High recall: </strong>\n",
    "DATE, LOCATION, MONEY, ORGANIZATION, PERCENT, PERSON, TIME, MISC</li>\n",
    "<li><strong>KBP fine-grained:</strong>\n",
    "CAUSE_OF_DEATH, CITY, COUNTRY, CRIMINAL_CHARGE, EMAIL, HANDLE,\n",
    "IDEOLOGY, NATIONALITY, RELIGION, STATE_OR_PROVINCE, TITLE, URL</li>\n",
    "</ul>\n",
    "</div>"
   ]
  },
  {
   "cell_type": "markdown",
   "metadata": {},
   "source": [
    "TODO: Update\n",
    "\n",
    "Most tokenised terms in the sentence have O as their NER value (that is the letter O not the number 0). Some however have been categorised. For instance, Van and Diemen are both classified as being PERSON named entities, Tasman is an ORGANIZATION and Cape and Pillar are in the LOCATION category. These categories are specific to Stanza. There are two key levels of processing available - the normal level will only identify the categories LOCATION, ORGANIZATION and PERSON, but the high recall processing will also consider other specialised phrases like TIME and MONEY which are not really named entities. Stanza can also look for the categories used in the KBP competition like CITY, COUNTRY and NATIONALITY, but this fine-grained processing will be slower.\n"
   ]
  },
  {
   "cell_type": "markdown",
   "metadata": {},
   "source": [
    "The data for the entities includes the character position for the start and the end of the NE."
   ]
  },
  {
   "cell_type": "code",
   "execution_count": null,
   "metadata": {},
   "outputs": [],
   "source": [
    "doc = nlp(sampletext)\n",
    "\n",
    "for ent in doc.ents:\n",
    "    print(ent.text, ent.start_char, ent.end_char, ent.label_)"
   ]
  },
  {
   "cell_type": "markdown",
   "metadata": {},
   "source": [
    "Each token will also have a value that indicates whether it is part of an NE."
   ]
  },
  {
   "cell_type": "code",
   "execution_count": null,
   "metadata": {},
   "outputs": [],
   "source": [
    "for token in doc:\n",
    "    print(token.text, \"[\", token.ent_type_, \"]\")"
   ]
  },
  {
   "cell_type": "markdown",
   "metadata": {},
   "source": [
    "TODO: Update\n",
    "\n",
    "The annotations so far show that *Cape* and *Pillar* are both a LOCATION NE, but not that *Cape Pillar* is actually the complete name of the location. However Stanza does also recognise multi-word expressions (MWEs), even though it recognises that they are part of an NE. Each *Sentence* annotated by Stanza has a list of [NE *Mentions*](https://stanfordnlp.github.io/CoreNLP/entitymentions.html) which are also given NER categories as their *Type*. "
   ]
  },
  {
   "cell_type": "markdown",
   "metadata": {},
   "source": [
    "It is also possible to hand-code entities after the NER has been done. This can help make up for any common irregularities with the NER for your input documents."
   ]
  },
  {
   "cell_type": "markdown",
   "metadata": {},
   "source": [
    "For instance, this model doesn't recognise that FB is a NE."
   ]
  },
  {
   "cell_type": "code",
   "execution_count": null,
   "metadata": {},
   "outputs": [],
   "source": [
    "sampletext = \"FB is hiring a new vice president of global policy\"\n",
    "\n",
    "doc = nlp(sampletext)\n",
    "ents = [(ent.text, ent.start_char, ent.end_char, ent.label_) for ent in doc.ents]\n",
    "print('Entities before:', ents)\n",
    "# The model didn't recognize \"fb\" as an entity :-("
   ]
  },
  {
   "cell_type": "markdown",
   "metadata": {},
   "source": [
    "The solution is to create a new entry for the list of entities."
   ]
  },
  {
   "cell_type": "code",
   "execution_count": null,
   "metadata": {},
   "outputs": [],
   "source": [
    "# Create a spaCy span for the new entity\n",
    "fb_ent = Span(doc, 0, 1, label=\"ORG\")\n",
    "orig_ents = list(doc.ents)\n",
    "\n",
    "# Assign a complete list of ents to doc.ents\n",
    "doc.ents = orig_ents + [fb_ent]\n",
    "\n",
    "ents = [(ent.text, ent.start, ent.end, ent.label_) for ent in doc.ents]\n",
    "print('Entities after:', ents)"
   ]
  },
  {
   "cell_type": "markdown",
   "metadata": {},
   "source": [
    "Even the data for the tokens is updated. "
   ]
  },
  {
   "cell_type": "code",
   "execution_count": null,
   "metadata": {},
   "outputs": [],
   "source": [
    "for token in doc:\n",
    "    print(token.text, \"[\", token.ent_type_, \"]\")"
   ]
  },
  {
   "cell_type": "markdown",
   "metadata": {},
   "source": [
    "SpaCy also allows the input documents to be processed in batches. This helps better manage the processing demands of the system throughout the pipeline when there are multiple files or many sentences."
   ]
  },
  {
   "cell_type": "code",
   "execution_count": null,
   "metadata": {},
   "outputs": [],
   "source": [
    "# multiple texts in a list\n",
    "sampletexts = [\"Autonomous cars shift insurance liability toward manufacturers\",\"This is a text\", \"These are lots of texts\", \"...\"]\n",
    "\n",
    "# remove what elements you don't need from the pipeline\n",
    "for doc in nlp.pipe(sampletexts, disable=[\"tok2vec\", \"tagger\", \"parser\", \"attribute_ruler\", \"lemmatizer\"]):\n",
    "    print(\"Entities: \",[(ent.text, ent.label_) for ent in doc.ents])\n",
    "    for token in doc:\n",
    "        print(\"   \",token.text, \"[\", token.ent_type_, \"]\")\n"
   ]
  },
  {
   "cell_type": "markdown",
   "metadata": {},
   "source": [
    "While you can process the output of the piped pipeline straight away, you can't print it unless you convert it into a list."
   ]
  },
  {
   "cell_type": "code",
   "execution_count": null,
   "metadata": {},
   "outputs": [],
   "source": [
    "docs = nlp.pipe(sampletexts, disable=[\"tok2vec\", \"tagger\", \"parser\", \"attribute_ruler\", \"lemmatizer\"])\n",
    "print(docs)"
   ]
  },
  {
   "cell_type": "code",
   "execution_count": null,
   "metadata": {},
   "outputs": [],
   "source": [
    "print(list(docs))"
   ]
  },
  {
   "cell_type": "markdown",
   "metadata": {},
   "source": [
    "TODO: Can't remember what this is trying to do. Think it has to do with the IOB."
   ]
  },
  {
   "cell_type": "code",
   "execution_count": null,
   "metadata": {},
   "outputs": [],
   "source": [
    "from spacy.attrs import ENT_IOB, ENT_TYPE\n",
    "\n",
    "nlp = spacy.load(\"en_core_web_sm\")\n",
    "#doc = nlp.make_doc(\"London is a big city in the United Kingdom and New York is in the United States of America.\")\n",
    "doc = nlp(\"London is a big city in the United Kingdom and New York is in the United States of America.\")\n",
    "\n",
    "ents = [(e.text, e.start_char, e.end_char, e.label_) for e in doc.ents]\n",
    "print(\"Entities: \",ents)\n",
    "\n",
    "print(\"\\nBefore:\", doc.ents)  # []\n",
    "\n",
    "header = [ENT_IOB, ENT_TYPE]\n",
    "attr_array = np.zeros((len(doc), len(header)), dtype=\"uint64\")\n",
    "attr_array[0, 0] = 3  # B\n",
    "attr_array[0, 1] = doc.vocab.strings[\"GPE\"]\n",
    "doc.from_array(header, attr_array)\n",
    "ents = [(e.text, e.start_char, e.end_char, e.label_) for e in doc.ents]\n",
    "print(\"\\nEntities: \",ents)\n",
    "\n",
    "print(\"\\nAfter\", doc.ents)  # [London]"
   ]
  },
  {
   "cell_type": "markdown",
   "metadata": {},
   "source": [
    "TODO: Placeholder in-case we want to show of the displacy rendering."
   ]
  },
  {
   "cell_type": "code",
   "execution_count": null,
   "metadata": {},
   "outputs": [],
   "source": [
    "sampletext = \"When Sebastian Thrun started working on self-driving cars at Google in 2007, few people outside of the company took him seriously.\"\n",
    "\n",
    "nlp = spacy.load(\"en_core_web_sm\")\n",
    "doc = nlp(sampletext)\n",
    "\n",
    "# displacy from spaCy\n",
    "displacy.render(doc, style=\"ent\")"
   ]
  },
  {
   "cell_type": "markdown",
   "metadata": {},
   "source": [
    "TODO: talk about extracting just the NER types we want."
   ]
  },
  {
   "cell_type": "code",
   "execution_count": null,
   "metadata": {},
   "outputs": [],
   "source": [
    "spacy.explain('LOC')"
   ]
  },
  {
   "cell_type": "code",
   "execution_count": null,
   "metadata": {},
   "outputs": [],
   "source": [
    "spacy.explain('FAC')"
   ]
  },
  {
   "cell_type": "code",
   "execution_count": null,
   "metadata": {},
   "outputs": [],
   "source": [
    "spacy.explain('GPE')"
   ]
  },
  {
   "cell_type": "code",
   "execution_count": null,
   "metadata": {},
   "outputs": [],
   "source": [
    "spacy.explain('ORG')"
   ]
  },
  {
   "cell_type": "markdown",
   "metadata": {},
   "source": [
    "TODO: Run through a single chapter (variable: text) before doing the entire collection?\n",
    "    This will allow all NEs to be shown, then the filter be introduced.\n",
    "    This will put it more on topic."
   ]
  },
  {
   "cell_type": "code",
   "execution_count": null,
   "metadata": {},
   "outputs": [],
   "source": [
    "text[0:499]"
   ]
  },
  {
   "cell_type": "code",
   "execution_count": null,
   "metadata": {},
   "outputs": [],
   "source": [
    "doc = nlp(text)\n",
    "\n",
    "# document level\n",
    "ents = [(e.text, e.start_char, e.end_char, e.label_) for e in doc.ents]\n",
    "    \n",
    "i=0 # entity counter\n",
    "# token level\n",
    "for e in doc.ents:\n",
    "    print(\"{:5}\\t\\t{:30s}\\t{}\".format(i+1,e.text, e.label_))\n",
    "    i=i+1"
   ]
  },
  {
   "cell_type": "markdown",
   "metadata": {},
   "source": [
    "TODO: Expand on this explanation with example context.\n",
    "Talk about the issue with _Van Diemen's_ versus _Van Diemen's Land_ (and _Tasman's Head_)"
   ]
  },
  {
   "cell_type": "markdown",
   "metadata": {},
   "source": [
    "These categories are assigned according to the context in which the NE is used. For this reason, _Van Diemen's_ is considered an *ORG*, a *PERSON* and a *FAC*, depending on its linguistic context. Note also that _VAN DIEMEN'S LAND_ in the title of the chapter isn't recognised as a NE, probably due to its unconventional case."
   ]
  },
  {
   "cell_type": "markdown",
   "metadata": {},
   "source": [
    "TODO: Expand on this explanation."
   ]
  },
  {
   "cell_type": "markdown",
   "metadata": {},
   "source": [
    "Of course, not all of these NE are suitable for placenames, so you will need to make a list of what categories regularly contain placenames."
   ]
  },
  {
   "cell_type": "code",
   "execution_count": null,
   "metadata": {},
   "outputs": [],
   "source": [
    "PLACENAME_CATEGORIES = [\"LOC\", \"GPE\", \"FAC\", \"ORG\"]"
   ]
  },
  {
   "cell_type": "markdown",
   "metadata": {},
   "source": [
    "## Reviewing Candidate Placenames <a class=\"anchor\" id=\"section-reviewplacenames\"></a>"
   ]
  },
  {
   "cell_type": "markdown",
   "metadata": {},
   "source": [
    "You can now put all of this together and find the placenames that are identified by spaCy in each chapter of the text. They can all be collected in a single dataframe."
   ]
  },
  {
   "cell_type": "code",
   "execution_count": null,
   "metadata": {},
   "outputs": [],
   "source": [
    "# where we store the details about each instance of the placenames\n",
    "placenames_df = pd.DataFrame(columns=['Book','Chapter',\"NEIndex\",\"Placename\"])"
   ]
  },
  {
   "cell_type": "code",
   "execution_count": null,
   "metadata": {},
   "outputs": [],
   "source": [
    "# define which chapters and books you want to annotate\n",
    "CHAPTERS=[1,2,3] \n",
    "BOOKS=[1,2]"
   ]
  },
  {
   "cell_type": "raw",
   "metadata": {},
   "source": [
    "You should define what spaCy processing you do or don't want in the pipeline."
   ]
  },
  {
   "cell_type": "code",
   "execution_count": null,
   "metadata": {},
   "outputs": [],
   "source": [
    "disabledPipeline=[\"tok2vec\", \"tagger\", \"parser\", \"attribute_ruler\", \"lemmatizer\"]"
   ]
  },
  {
   "cell_type": "markdown",
   "metadata": {},
   "source": [
    "Now let's process FtToHNL."
   ]
  },
  {
   "cell_type": "code",
   "execution_count": null,
   "metadata": {},
   "outputs": [],
   "source": [
    "nlp = spacy.load(\"en_core_web_sm\")\n",
    "\n",
    "i=0 # counter of the entities\n",
    "for b in BOOKS:\n",
    "    for c in CHAPTERS:\n",
    "        filename = \"FtToHNL_BOOK_\"+str(b)+\"_CHAPTER_\"+str(c)+\".txt\" \n",
    "        # set the specific path for the 'filename'\n",
    "        textlocation = os.path.normpath(os.path.join(text_directory, filename))\n",
    "        text_filename = os.path.basename(textlocation)\n",
    "\n",
    "        # read this chapter\n",
    "        text = open(textlocation, encoding=\"utf-8\").read()\n",
    "        print(\"Working on |\",filename)\n",
    "        \n",
    "        # run spaCy    \n",
    "        doc = nlp(text,disable=disabledPipeline)\n",
    "\n",
    "        # document level\n",
    "        ents = [(e.text, e.start_char, e.end_char, e.label_) for e in doc.ents]\n",
    "\n",
    "        # token level\n",
    "        for e in doc.ents:\n",
    "            if e.label_ in PLACENAME_CATEGORIES: # filter out MONEY, DATE etc\n",
    "                print(\"{:5}\\t\\t{:30s}\\t{}\".format(i+1,e.text, e.label_))\n",
    "                # To help understand the context of the text, extract the occurence\n",
    "                context_text=doc.text[e.start_char-30:e.end_char+30].replace(\"\\n\",\" \")\n",
    "                \n",
    "                # Code to render with displacy\n",
    "                #context_doc={\"text\":str(i+1)+\" \\t \"+context_text,\n",
    "                #             \"ents\":[{\"start\": len(str(i+1)+\"   \")+30, \n",
    "                #                      \"end\":   len(str(i+1)+\"   \"+context_text)-30, \n",
    "                #                      \"label\": e.label_}],\n",
    "                #             \"title\": None}\n",
    "                #print(context_doc)\n",
    "                #displacy.render(context_doc, style=\"ent\", manual=True, jupyter=True)\n",
    "\n",
    "                # find the placenames according to spaCy\n",
    "                new_placename = {'Book':b,              # The Book number\n",
    "                                'Chapter':c,            # The Chapter number\n",
    "                                'NEIndex':i,            # A reference number to the nth Named Entity \n",
    "                                'Placename':e.text,     # The placename in the text\n",
    "                                'Category':e.label_,    # The spaCy category\n",
    "                                'Context':context_text, # The textual context where the placename was found\n",
    "                                'Approval':1}        # A flag for whether this is a suitable placename\n",
    "                placenames_df = placenames_df.append(new_placename, ignore_index=True)\n",
    "                \n",
    "            i=i+1 # entity counter"
   ]
  },
  {
   "cell_type": "code",
   "execution_count": null,
   "metadata": {},
   "outputs": [],
   "source": [
    "placenames_df[['Book','Chapter','NEIndex','Placename','Category']]"
   ]
  },
  {
   "cell_type": "markdown",
   "metadata": {},
   "source": [
    "This shows that a lot more placenames were found in Book 2 than Book 1. This makes sense since Book 1 is set on board an ocean voyage, whereas Book 2 is at Macquarie Harbour in Australia."
   ]
  },
  {
   "cell_type": "markdown",
   "metadata": {},
   "source": [
    "However, there are a number of NEs that are unlikely to be placenames, regardless of what spaCy categoriesd them as. It is best to consider the context in which the terms were used. Use the checkboxes to select which terms you do consider to be placenames."
   ]
  },
  {
   "cell_type": "code",
   "execution_count": null,
   "metadata": {},
   "outputs": [],
   "source": [
    "#import ipywidgets as widgets\n",
    "\n",
    "def changed(b):\n",
    "    # The system sets the _property_lock_, changes the value, then releases the _property_lock_.\n",
    "    # The confusing thing is that there is a value for the checkbox and a value for the property lock.\n",
    "    # changed() is called three times for every change to the checkbox.\n",
    "\n",
    "    # If you want to see any change to the checkbox value, uncomment this print()) command\n",
    "    if b['name']=='value':\n",
    "        #print(b,\"\\n\")\n",
    "        #print(\"found value\")\n",
    "        k=b['new']\n",
    "        #print(\"    \",k)\n",
    "    #print(b,\"\\n\")\n",
    "\n",
    "placename_items=[]\n",
    "context_items=[]\n",
    "num_items=[]\n",
    "\n",
    "# Time to try to make checkboxes for every placename for b in BOOKS:\n",
    "for b in BOOKS:\n",
    "    for c in CHAPTERS:\n",
    "        # Get the NEs from this book and chapter\n",
    "        pbc=placenames_df[(placenames_df[\"Book\"]==b) & (placenames_df[\"Chapter\"]==c)]\n",
    "        for i in pbc[\"NEIndex\"]:\n",
    "            context_text=pbc[pbc[\"NEIndex\"]==i][\"Context\"].values[0]\n",
    "            category=pbc[pbc[\"NEIndex\"]==i][\"Category\"].values[0]\n",
    "            \n",
    "        # Make lists of the candidate placenames, context text and index numbers \n",
    "        # Only the placenames are given a checkbox. \n",
    "        placename_items = placename_items + [widgets.Checkbox(True,description=i) for i in pbc[\"Placename\"]]\n",
    "        context_items = context_items + [widgets.Label(pbc[pbc[\"NEIndex\"]==i][\"Context\"].values[0]) for i in pbc[\"NEIndex\"]]\n",
    "        num_items = num_items + [widgets.Label(str(i)) for i in pbc[\"NEIndex\"]]\n",
    "\n",
    "# create a display\n",
    "num_placenames=len(placename_items)\n",
    "left_box = widgets.VBox(placename_items)\n",
    "right_box = widgets.VBox(context_items)\n",
    "num_box = widgets.VBox(num_items)\n",
    "whole_box = widgets.HBox([num_box, left_box, right_box])\n",
    "        \n",
    "display(whole_box)\n",
    "\n",
    "# respond to any changes in the checkboxes\n",
    "for i in range(num_placenames):\n",
    "    placename_items[i].observe(changed)"
   ]
  },
  {
   "cell_type": "markdown",
   "metadata": {},
   "source": [
    "You can now copy all the values from the checkboxes to the data, so you know which placenames you have approved."
   ]
  },
  {
   "cell_type": "code",
   "execution_count": null,
   "metadata": {},
   "outputs": [],
   "source": [
    "# Transfer the status of each checklist item to the data\n",
    "for i in range(num_placenames):\n",
    "    #print(num_items[i].value,placename_items[i].value,placename_items[i].description)\n",
    "\n",
    "    NEIndex_num = int(num_items[i].value)\n",
    "    approval_flag = placename_items[i].value\n",
    "    \n",
    "    #print(\"Looking for [\"+str(NEIndex_num)+\"]\")\n",
    "    \n",
    "    # set the flag to match the checklist\n",
    "    for p in placenames_df[\"NEIndex\"]:\n",
    "        if (p-NEIndex_num == 0):\n",
    "            placenames_df.loc[placenames_df[\"NEIndex\"] == NEIndex_num,\"Approval\"] = approval_flag"
   ]
  },
  {
   "cell_type": "markdown",
   "metadata": {},
   "source": [
    "You can now visualise the result."
   ]
  },
  {
   "cell_type": "code",
   "execution_count": null,
   "metadata": {},
   "outputs": [],
   "source": [
    "placenames_df[['NEIndex','Placename','Approval']]"
   ]
  },
  {
   "cell_type": "markdown",
   "metadata": {},
   "source": [
    "From this, you can extract the final list of distinct placenames that you have approved. While the names aren't sorted (though they could be), if you missed unselecting an NE on the checklist, this will help find it. All you need to do is go back to the checklist, unselect it, then run all other steps from there to here."
   ]
  },
  {
   "cell_type": "code",
   "execution_count": null,
   "metadata": {},
   "outputs": [],
   "source": [
    "# Make a unique list of the approved placenames\n",
    "approved_placenames = placenames_df[placenames_df[\"Approval\"]==True]['Placename'].unique()\n",
    "approved_placenames"
   ]
  },
  {
   "cell_type": "markdown",
   "metadata": {},
   "source": [
    "The final step is to save this new data to a csv file. You have already defined the directory for your data files."
   ]
  },
  {
   "cell_type": "code",
   "execution_count": null,
   "metadata": {},
   "outputs": [],
   "source": [
    "filename = \"FtToHNL_placenames.csv\"\n",
    "save_location = os.path.normpath(os.path.join(csv_directory, filename))\n",
    "save_filename = os.path.basename(save_location)\n",
    "print(\"Saving to placename data to \",save_location)"
   ]
  },
  {
   "cell_type": "code",
   "execution_count": null,
   "metadata": {},
   "outputs": [],
   "source": [
    "# save the list \n",
    "# using the savetxt from the numpy module\n",
    "np.savetxt(save_location, \n",
    "           approved_placenames,\n",
    "           delimiter =\", \", \n",
    "           fmt ='% s')"
   ]
  },
  {
   "cell_type": "code",
   "execution_count": null,
   "metadata": {},
   "outputs": [],
   "source": []
  },
  {
   "cell_type": "code",
   "execution_count": null,
   "metadata": {},
   "outputs": [],
   "source": []
  },
  {
   "cell_type": "markdown",
   "metadata": {},
   "source": [
    "TODO: Remove the MWE section as it is not needed for spaCy.\n",
    "Stopped the code form executing for now, but kept for reference while updating the above steps."
   ]
  },
  {
   "cell_type": "markdown",
   "metadata": {},
   "source": [
    "### MWEs as Named Entities  <a class=\"anchor\" id=\"section-mwes\"></a>"
   ]
  },
  {
   "cell_type": "markdown",
   "metadata": {},
   "source": [
    "The annotations so far show that *Cape* and *Pillar* are both a LOCATION NE, but not that *Cape Pillar* is actually the complete name of the location. However Stanza does also recognise multi-word expressions (MWEs), even though it recognises that they are part of an NE. Each *Sentence* annotated by Stanza has a list of [NE *Mentions*](https://stanfordnlp.github.io/CoreNLP/entitymentions.html) which are also given NER categories as their *Type*. "
   ]
  },
  {
   "cell_type": "raw",
   "metadata": {},
   "source": [
    "    print(\"{}\\t{:30s}\\t{}\".format(\"Sentence\", \"Mention\", \"Type\"))\n",
    "    for i, sent in enumerate(document.sentence):\n",
    "        for m in sent.mentions:\n",
    "            print(\"{:5}\\t\\t{:30s}\\t{}\".format(i+1,m.entityMentionText, m.entityType))\n"
   ]
  },
  {
   "cell_type": "markdown",
   "metadata": {},
   "source": [
    "Obviously, this isn't perfect. While *Van Diemen* is recognised as a *PERSON* NE, *Van Diemen's Land* (i.e., the former name for Tasmania) isn't recognised as a *LOCATION*. This is because Stanza is trained to only recognise certain combinations of words and categories as a new MWE category. These rules can however be added to but this workshop won't explore this aspect."
   ]
  },
  {
   "cell_type": "markdown",
   "metadata": {},
   "source": [
    "Each token is also annotated with an index number corresponding to any Mention it is part of. Each token can only be part of one Mention. While the Mentions may be annotated per Sentence, the index number is actually considering all Sentences and Mentions in the annotated text."
   ]
  },
  {
   "cell_type": "raw",
   "metadata": {},
   "source": [
    "TotalNumMentions=0 # keep a running list of how many NEs are identified\n",
    "print(\"{:15s}\\t{:15s}\\t{:6s}\\t{:10s}\\t{:10s}\\t{}\".format(\"word\",\"lemma\",\"POS\",\"NER\",\"Mention Index\",\"Mention\"))\n",
    "\n",
    "for i, sent in enumerate(document.sentence):\n",
    "    NumMentions = len(sent.mentions) # count how many NEs annotated to this sentence\n",
    "    if NumMentions:\n",
    "        print(\"\\n[Sentence {}]\".format(i+1))\n",
    "        for t in sent.token:\n",
    "            # only output tokens that are in NEs\n",
    "            if t.ner != 'O': # Letter, not zero!\n",
    "                # get the full text for the NE\n",
    "                mentionStr=sent.mentions[t.entityMentionIndex -  TotalNumMentions].entityMentionText                \n",
    "                print(\"{:15s}\\t{:15s}\\t{:6s}\\t{:10s}\\t{:10}\\t{}\".format(t.word, \n",
    "                                                                 t.lemma, \n",
    "                                                                 t.pos, \n",
    "                                                                 t.ner, \n",
    "                                                                 t.entityMentionIndex, \n",
    "                                                                 mentionStr))\n",
    "    TotalNumMentions += NumMentions # add to the running total"
   ]
  },
  {
   "cell_type": "markdown",
   "metadata": {},
   "source": [
    "Of course, you are mainly interested in the Named Entities relate to locations. The location-based NER categories used by Stanza are:\n",
    "* *LOCATION*\n",
    "* *CITY*\n",
    "* *COUNTRY*\n",
    "* *STATE_OR_PROVINCE*"
   ]
  },
  {
   "cell_type": "markdown",
   "metadata": {},
   "source": [
    "*NATIONALITY* might also be considered but it may depend on whether you care about phrases like *student of English history* or *Frenchman's cap*, or not.\n",
    "It is easy to filter out all other NEs."
   ]
  },
  {
   "cell_type": "raw",
   "metadata": {},
   "source": [
    "# NATIONALITY is ignored \n",
    "LOCATION_CATEGORIES = ['LOCATION','CITY','COUNTRY','STATE_OR_PROVINCE']\n",
    "\n",
    "# Iterate over all detected entity mentions\n",
    "print(\"{:30s}\\t{}\".format(\"Mention\", \"Type\"))\n",
    "\n",
    "STANZA_Locations = [] # list of locations Stanza recognises\n",
    "for sent in document.sentence:\n",
    "    for m in sent.mentions:\n",
    "        if (m.entityType in LOCATION_CATEGORIES): # ignore any nonLocation NEs\n",
    "            print(\"{:30s}\\t{}\".format(m.entityMentionText, m.entityType))\n",
    "            STANZA_Locations.append(m.entityMentionText)\n",
    "            \n",
    "print(\"\\n{}\".format(STANZA_Locations))"
   ]
  },
  {
   "cell_type": "markdown",
   "metadata": {},
   "source": [
    "You can now put all of this together and find the placenames that are identified by Stanza in each chapter of the text. They can all be collected in a single dataframe."
   ]
  },
  {
   "cell_type": "raw",
   "metadata": {},
   "source": [
    "placenames = pd.DataFrame(columns=['Book','Chapter',\"NEIndex\",\"Placename\"])"
   ]
  },
  {
   "cell_type": "raw",
   "metadata": {},
   "source": [
    "# define which chapters and books you want to annotate\n",
    "CHAPTERS=[1,2,3] \n",
    "BOOKS=[1,2]"
   ]
  },
  {
   "cell_type": "markdown",
   "metadata": {},
   "source": [
    "__\\[MN Note\\]__ Change this to a background server, rather than a server on demand?"
   ]
  },
  {
   "cell_type": "raw",
   "metadata": {},
   "source": [
    "for b in BOOKS:\n",
    "    for c in CHAPTERS:\n",
    "        filename = \"FtToHNL_BOOK_\"+str(b)+\"_CHAPTER_\"+str(c)+\".txt\" \n",
    "        # set the specific path for the 'filename' which is basically working through a list of everything that is in the folder\n",
    "        textlocation = os.path.normpath(os.path.join(text_directory, filename))\n",
    "        text_filename = os.path.basename(textlocation)\n",
    "\n",
    "        # read this chapter\n",
    "        text = open(textlocation, encoding=\"utf-8\").read()\n",
    "        print(\"Working on |\",filename)\n",
    "        \n",
    "        # run the Stanza server & client\n",
    "        # https://nlp.stanford.edu/software/regexner.html\n",
    "        # java -mx1g -cp '*' edu.stanford.nlp.pipeline.StanfordCoreNLP \n",
    "        #      -annotators 'tokenize,ssplit,pos,lemma,ner' -file JuliaGillard.txt\n",
    "        # java -mx1g -cp '*' edu.stanford.nlp.pipeline.StanfordCoreNLP \n",
    "        #      -annotators 'tokenize,ssplit,pos,lemma,ner,regexner' -file JuliaGillard.txt\n",
    "        #      -regexner.mapping jg-regexner.txt\n",
    "        #\n",
    "        # with CoreNLPClient(properties={\n",
    "        #  'annotators': 'tokenize,ssplit,pos',\n",
    "        #  'pos.model': '/path/to/custom-model.ser.gz'\n",
    "        # }) as client:\n",
    "        #with CoreNLPClient(annotators=['tokenize','ssplit', 'pos', 'lemma', 'ner','regexner'], \n",
    "        #           memory='4G', \n",
    "        #           annotators=['tokenize','ssplit', 'pos', 'lemma', 'ner','regexner'], \n",
    "        #           endpoint='http://localhost:9001', \n",
    "        #           be_quiet=True) as client:\n",
    "        with CoreNLPClient(properties={\n",
    "            'annotators': 'tokenize,ssplit,pos,lemma,ner,regexner', \n",
    "            'regexner.mapping':'jg-regexner.txt',\n",
    "            'memory':'4G', \n",
    "            'endpoint':'http://localhost:9001', \n",
    "            'be_quiet':True\n",
    "        }) as client:\n",
    "            # Annotate the text (presuming it is not too large)\n",
    "            document = client.annotate(text)\n",
    "        \n",
    "        # find the placenames according to Stanza\n",
    "        for sent in document.sentence:\n",
    "            for m in sent.mentions:\n",
    "                if (m.entityType in LOCATION_CATEGORIES):\n",
    "                    new_placename = {'Book':b,\n",
    "                                    'Chapter':c,\n",
    "                                    'NEIndex':m.entityMentionIndex,\n",
    "                                    'Placename':m.entityMentionText,\n",
    "                                    'Category':m.entityType}\n",
    "                    placenames = placenames.append(new_placename, ignore_index=True)"
   ]
  },
  {
   "cell_type": "markdown",
   "metadata": {},
   "source": [
    "This shows that a lot more placenames were found in Book 2 than Book 1. This makes sense since Book 1 is set on board an ocean voyage, whereas Book 2 is at Macquarie Harbour in Australia.  "
   ]
  },
  {
   "cell_type": "markdown",
   "metadata": {},
   "source": [
    "The final step is to save this new data to a csv file. You have already defined the directory for your data files."
   ]
  },
  {
   "cell_type": "raw",
   "metadata": {},
   "source": [
    "filename = \"FtToHNL_placenames_v2.txt\"\n",
    "save_location = os.path.normpath(os.path.join(csv_directory, filename))\n",
    "save_filename = os.path.basename(save_location)\n",
    "print(\"Saving placename data to \",save_location)"
   ]
  },
  {
   "cell_type": "raw",
   "metadata": {},
   "source": [
    "placenames.to_csv(save_location)"
   ]
  },
  {
   "cell_type": "raw",
   "metadata": {},
   "source": [
    "print(document)\n"
   ]
  },
  {
   "cell_type": "markdown",
   "metadata": {},
   "source": [
    "## Finding Locations for the Placenames <a class=\"anchor\" id=\"section-findinglocs\"></a>"
   ]
  },
  {
   "cell_type": "markdown",
   "metadata": {},
   "source": [
    "Now that you have a list of placenames from the text, the next step is to work out their location on Earth. For this you can use a combination of specialised lists of locations, gazzetteers and heuristics. The objective is to match every placename with the coordinates of a known location."
   ]
  },
  {
   "cell_type": "markdown",
   "metadata": {},
   "source": [
    "The first step is to read the file of your placenames."
   ]
  },
  {
   "cell_type": "code",
   "execution_count": 41,
   "metadata": {},
   "outputs": [
    {
     "name": "stdout",
     "output_type": "stream",
     "text": [
      "Working on |  FtToHNL_placenames.csv\n"
     ]
    }
   ],
   "source": [
    "filename=\"FtToHNL_placenames.csv\"\n",
    "print(\"Working on | \", filename)\n",
    "\n",
    "# set the specific path for the 'filename' which is basically working through a list of everything that is in the folder\n",
    "data_location = os.path.normpath(os.path.join(csv_directory, filename))\n",
    "data_filename = os.path.basename(data_location)\n",
    "\n",
    "# Using pandas, read the csv file. This will place it in a dataframe format. \n",
    "placenames_df = pd.read_csv(data_location, encoding=\"utf-8\",header=None)"
   ]
  },
  {
   "cell_type": "code",
   "execution_count": 42,
   "metadata": {},
   "outputs": [],
   "source": [
    "placenames_df = placenames_df.rename(columns={placenames_df.columns[0]: 'Placename'})"
   ]
  },
  {
   "cell_type": "code",
   "execution_count": 43,
   "metadata": {},
   "outputs": [
    {
     "data": {
      "text/html": [
       "<div>\n",
       "<style scoped>\n",
       "    .dataframe tbody tr th:only-of-type {\n",
       "        vertical-align: middle;\n",
       "    }\n",
       "\n",
       "    .dataframe tbody tr th {\n",
       "        vertical-align: top;\n",
       "    }\n",
       "\n",
       "    .dataframe thead th {\n",
       "        text-align: right;\n",
       "    }\n",
       "</style>\n",
       "<table border=\"1\" class=\"dataframe\">\n",
       "  <thead>\n",
       "    <tr style=\"text-align: right;\">\n",
       "      <th></th>\n",
       "      <th>Placename</th>\n",
       "    </tr>\n",
       "  </thead>\n",
       "  <tbody>\n",
       "    <tr>\n",
       "      <th>0</th>\n",
       "      <td>the sleepy sea</td>\n",
       "    </tr>\n",
       "    <tr>\n",
       "      <th>1</th>\n",
       "      <td>the Bay of Biscay</td>\n",
       "    </tr>\n",
       "    <tr>\n",
       "      <th>2</th>\n",
       "      <td>Heath</td>\n",
       "    </tr>\n",
       "    <tr>\n",
       "      <th>3</th>\n",
       "      <td>London</td>\n",
       "    </tr>\n",
       "    <tr>\n",
       "      <th>4</th>\n",
       "      <td>Van Diemen's Land</td>\n",
       "    </tr>\n",
       "    <tr>\n",
       "      <th>...</th>\n",
       "      <td>...</td>\n",
       "    </tr>\n",
       "    <tr>\n",
       "      <th>75</th>\n",
       "      <td>Grummet Island</td>\n",
       "    </tr>\n",
       "    <tr>\n",
       "      <th>76</th>\n",
       "      <td>Grummet</td>\n",
       "    </tr>\n",
       "    <tr>\n",
       "      <th>77</th>\n",
       "      <td>Malabar</td>\n",
       "    </tr>\n",
       "    <tr>\n",
       "      <th>78</th>\n",
       "      <td>Dawes</td>\n",
       "    </tr>\n",
       "    <tr>\n",
       "      <th>79</th>\n",
       "      <td>Sydney</td>\n",
       "    </tr>\n",
       "  </tbody>\n",
       "</table>\n",
       "<p>80 rows × 1 columns</p>\n",
       "</div>"
      ],
      "text/plain": [
       "            Placename\n",
       "0      the sleepy sea\n",
       "1   the Bay of Biscay\n",
       "2               Heath\n",
       "3              London\n",
       "4   Van Diemen's Land\n",
       "..                ...\n",
       "75     Grummet Island\n",
       "76            Grummet\n",
       "77            Malabar\n",
       "78              Dawes\n",
       "79             Sydney\n",
       "\n",
       "[80 rows x 1 columns]"
      ]
     },
     "execution_count": 43,
     "metadata": {},
     "output_type": "execute_result"
    }
   ],
   "source": [
    "placenames_df"
   ]
  },
  {
   "cell_type": "markdown",
   "metadata": {},
   "source": [
    "### Identifying States and Capitals <a class=\"anchor\" id=\"section-statescapitals\"></a>"
   ]
  },
  {
   "cell_type": "markdown",
   "metadata": {},
   "source": [
    "Some placenames, like *High Street* or *Maryborough*, may be very common across the world, or even in Australia. However, certain placenames refer to significant locations, like states, territories, large geographic features or capital cities. As such, if they are mentioned in a text, the placename is more likely to refer to the major location than a town or village in Tasmania."
   ]
  },
  {
   "cell_type": "markdown",
   "metadata": {},
   "source": [
    "These significant locations are a finite set. They can be defined in a reference file that can be reused when reviewing the placenames of any text."
   ]
  },
  {
   "cell_type": "markdown",
   "metadata": {},
   "source": [
    "A good point for you to start is a file about locations like modern capital cities and countries, combined with historical locations of significance."
   ]
  },
  {
   "cell_type": "code",
   "execution_count": 44,
   "metadata": {},
   "outputs": [
    {
     "name": "stdout",
     "output_type": "stream",
     "text": [
      "Working on |  reference_location_data.csv\n"
     ]
    }
   ],
   "source": [
    "filename=\"reference_location_data.csv\"\n",
    "print(\"Working on | \", filename)\n",
    "\n",
    "# set the specific path for the 'filename' which is basically working through a list of everything that is in the folder\n",
    "reference_location = os.path.normpath(os.path.join(reference_directory, filename))\n",
    "reference_filename = os.path.basename(reference_location)"
   ]
  },
  {
   "cell_type": "markdown",
   "metadata": {},
   "source": [
    "Rather than reading this and then processing it, you can process each line as you read it."
   ]
  },
  {
   "cell_type": "code",
   "execution_count": 45,
   "metadata": {},
   "outputs": [],
   "source": [
    "# Place the reference data in a dataframe\n",
    "locref_df = pd.read_csv(reference_location, encoding=\"utf-8\", header=0)"
   ]
  },
  {
   "cell_type": "code",
   "execution_count": 46,
   "metadata": {},
   "outputs": [
    {
     "data": {
      "text/html": [
       "<div>\n",
       "<style scoped>\n",
       "    .dataframe tbody tr th:only-of-type {\n",
       "        vertical-align: middle;\n",
       "    }\n",
       "\n",
       "    .dataframe tbody tr th {\n",
       "        vertical-align: top;\n",
       "    }\n",
       "\n",
       "    .dataframe thead th {\n",
       "        text-align: right;\n",
       "    }\n",
       "</style>\n",
       "<table border=\"1\" class=\"dataframe\">\n",
       "  <thead>\n",
       "    <tr style=\"text-align: right;\">\n",
       "      <th></th>\n",
       "      <th>LocationName</th>\n",
       "      <th>Category</th>\n",
       "      <th>Longitude</th>\n",
       "      <th>Latitude</th>\n",
       "      <th>PartOf</th>\n",
       "    </tr>\n",
       "  </thead>\n",
       "  <tbody>\n",
       "    <tr>\n",
       "      <th>0</th>\n",
       "      <td>Abuja</td>\n",
       "      <td>Capital</td>\n",
       "      <td>9.083333</td>\n",
       "      <td>7.533333</td>\n",
       "      <td>Nigeria</td>\n",
       "    </tr>\n",
       "    <tr>\n",
       "      <th>1</th>\n",
       "      <td>Accra</td>\n",
       "      <td>Capital</td>\n",
       "      <td>5.550000</td>\n",
       "      <td>-0.216667</td>\n",
       "      <td>Ghana</td>\n",
       "    </tr>\n",
       "    <tr>\n",
       "      <th>2</th>\n",
       "      <td>Adamstown</td>\n",
       "      <td>Capital</td>\n",
       "      <td>-25.066667</td>\n",
       "      <td>-130.083333</td>\n",
       "      <td>Pitcairn Islands</td>\n",
       "    </tr>\n",
       "    <tr>\n",
       "      <th>3</th>\n",
       "      <td>Addis Ababa</td>\n",
       "      <td>Capital</td>\n",
       "      <td>9.033333</td>\n",
       "      <td>38.700000</td>\n",
       "      <td>Ethiopia</td>\n",
       "    </tr>\n",
       "    <tr>\n",
       "      <th>4</th>\n",
       "      <td>Aegina</td>\n",
       "      <td>Capital</td>\n",
       "      <td>37.740882</td>\n",
       "      <td>23.501421</td>\n",
       "      <td>Greece</td>\n",
       "    </tr>\n",
       "    <tr>\n",
       "      <th>...</th>\n",
       "      <td>...</td>\n",
       "      <td>...</td>\n",
       "      <td>...</td>\n",
       "      <td>...</td>\n",
       "      <td>...</td>\n",
       "    </tr>\n",
       "    <tr>\n",
       "      <th>543</th>\n",
       "      <td>Zagreb</td>\n",
       "      <td>Capital</td>\n",
       "      <td>45.800000</td>\n",
       "      <td>16.000000</td>\n",
       "      <td>Croatia</td>\n",
       "    </tr>\n",
       "    <tr>\n",
       "      <th>544</th>\n",
       "      <td>Zambia</td>\n",
       "      <td>Country</td>\n",
       "      <td>-15.416667</td>\n",
       "      <td>28.283333</td>\n",
       "      <td>Africa</td>\n",
       "    </tr>\n",
       "    <tr>\n",
       "      <th>545</th>\n",
       "      <td>Zanzibar City</td>\n",
       "      <td>Capital</td>\n",
       "      <td>-6.165193</td>\n",
       "      <td>39.198914</td>\n",
       "      <td>Tanzania</td>\n",
       "    </tr>\n",
       "    <tr>\n",
       "      <th>546</th>\n",
       "      <td>Zimbabwe</td>\n",
       "      <td>Country</td>\n",
       "      <td>-17.816667</td>\n",
       "      <td>31.033333</td>\n",
       "      <td>Africa</td>\n",
       "    </tr>\n",
       "    <tr>\n",
       "      <th>547</th>\n",
       "      <td>Zomba</td>\n",
       "      <td>Capital</td>\n",
       "      <td>-15.376586</td>\n",
       "      <td>35.335652</td>\n",
       "      <td>Malawi</td>\n",
       "    </tr>\n",
       "  </tbody>\n",
       "</table>\n",
       "<p>548 rows × 5 columns</p>\n",
       "</div>"
      ],
      "text/plain": [
       "      LocationName Category  Longitude    Latitude            PartOf\n",
       "0            Abuja  Capital   9.083333    7.533333           Nigeria\n",
       "1            Accra  Capital   5.550000   -0.216667             Ghana\n",
       "2        Adamstown  Capital -25.066667 -130.083333  Pitcairn Islands\n",
       "3      Addis Ababa  Capital   9.033333   38.700000          Ethiopia\n",
       "4           Aegina  Capital  37.740882   23.501421            Greece\n",
       "..             ...      ...        ...         ...               ...\n",
       "543         Zagreb  Capital  45.800000   16.000000           Croatia\n",
       "544         Zambia  Country -15.416667   28.283333            Africa\n",
       "545  Zanzibar City  Capital  -6.165193   39.198914          Tanzania\n",
       "546       Zimbabwe  Country -17.816667   31.033333            Africa\n",
       "547          Zomba  Capital -15.376586   35.335652            Malawi\n",
       "\n",
       "[548 rows x 5 columns]"
      ]
     },
     "execution_count": 46,
     "metadata": {},
     "output_type": "execute_result"
    }
   ],
   "source": [
    "locref_df"
   ]
  },
  {
   "cell_type": "markdown",
   "metadata": {},
   "source": [
    "\\[TODO\\]: update this text chunk to suit the workshop "
   ]
  },
  {
   "cell_type": "markdown",
   "metadata": {},
   "source": [
    "Of course, if you are researching historical texts, then some of these contemporary locations may have had different names. Old New York was once New Amsterdam (and had the [nickname of Gotham](https://www.nypl.org/blog/2011/01/25/so-why-do-we-call-it-gotham-anyway), amongst others). Istanbul was Constantinople. Some locations had [romanized names](https://en.wikipedia.org/wiki/Chinese_postal_romanization), like Beijing being called Peking. They may be a long time gone but you might want to add them to the list of significant known locations."
   ]
  },
  {
   "cell_type": "markdown",
   "metadata": {},
   "source": [
    "Another historical variant is changing which cities are the capitals. These may be due to political decisions, like the movement of the Australian parliament from Melbourne to the new city of Canberra, or they could be a necessity due to the results of war, like Bonn becoming the capital of West Germany after World War II. These older capitals may also have to be accomodated in your reference data."
   ]
  },
  {
   "cell_type": "markdown",
   "metadata": {},
   "source": [
    "Because FtToHNL is set in the 19th Century CE, the next step is to add various capital cities from then."
   ]
  },
  {
   "cell_type": "markdown",
   "metadata": {},
   "source": [
    "There are also larger geopolitical regions that may have been associated with placenames and cultures, for instance empires, dynasties and colonies like the British Empire or the Zulu Kingdom. Again, the borders and applicability of these political entities changed over time, so a contemporary reference list may not include them. "
   ]
  },
  {
   "cell_type": "markdown",
   "metadata": {},
   "source": [
    "The 19th Century CE was a time of many European Empires so for FtToHNL, you will need to add reference data associated with relevant entities."
   ]
  },
  {
   "cell_type": "markdown",
   "metadata": {},
   "source": [
    "When processing this reference file, you can add the old political entity, its capital (if known), the geographic region (like continent or part thereof) and the modern country it would be considered part of.  "
   ]
  },
  {
   "cell_type": "markdown",
   "metadata": {},
   "source": [
    "The next step is to see if any of the placenames from our selected chapters of FtToHNL match these locations."
   ]
  },
  {
   "cell_type": "markdown",
   "metadata": {},
   "source": [
    "[TO DO] Describe this without being technical "
   ]
  },
  {
   "cell_type": "markdown",
   "metadata": {},
   "source": [
    "If we match a placename, copy the geolocation data for the matching location. Otherwise, keep it empty so we know to keep looking for the placename."
   ]
  },
  {
   "cell_type": "code",
   "execution_count": 47,
   "metadata": {},
   "outputs": [
    {
     "name": "stdout",
     "output_type": "stream",
     "text": [
      "Still looking for  the sleepy sea\n",
      "Still looking for  the Bay of Biscay\n",
      "Still looking for  Heath\n",
      "*** Found London [Exact match]\n",
      "{'placename': 'London', 'locations': {'best_match':     LocationName Category  Longitude  Latitude          PartOf\n",
      "266       London  Capital       51.5 -0.083333  United Kingdom}}\n",
      "Still looking for  Van Diemen's Land\n",
      "Still looking for  Vickers\n",
      "Still looking for  Sylvia\n",
      "Still looking for  Bath\n",
      "Still looking for  Julia Vickers's\n",
      "Still looking for  Frere\n",
      "Still looking for  Chatham\n",
      "Still looking for  CHAPTER II\n",
      "Still looking for  Surgeon Pine\n",
      "Still looking for  Coromandel\n",
      "Still looking for  Pine\n",
      "*** Found India [Exact match]\n",
      "{'placename': 'India', 'locations': {'best_match':     LocationName Category  Longitude  Latitude PartOf\n",
      "206        India  Country       28.6      77.2   Asia}}\n",
      "Still looking for  the Hydaspes for Calcutta\n",
      "Still looking for  the poop guard\n",
      "Still looking for  MONOTONY\n",
      "Still looking for  Three'll\n",
      "Still looking for  Van Diemen's\n",
      "Still looking for  Tasman\n",
      "Still looking for  Cape Pillar\n",
      "Still looking for  Pirates' Bay\n",
      "Still looking for  east\n",
      "Still looking for  west\n",
      "Still looking for  the Isle of Wight\n",
      "Still looking for  the South-West Cape\n",
      "Still looking for  Swan Port\n",
      "Still looking for  Mediterranean\n",
      "Still looking for  Maria Island\n",
      "Still looking for  the Three Thumbs\n",
      "Still looking for  Peninsula\n",
      "Still looking for  Storm Bay\n",
      "Still looking for  Storing Island\n",
      "*** Found Italy [Exact match]\n",
      "{'placename': 'Italy', 'locations': {'best_match':     LocationName Category  Longitude   Latitude  PartOf\n",
      "215        Italy  Country       41.9  12.483333  Europe}}\n",
      "Still looking for  Sorrell\n",
      "Still looking for  Bruny Island\n",
      "Still looking for  Mount Royal\n",
      "Still looking for  D'Entrecasteaux Channel\n",
      "Still looking for  Actaeon\n",
      "Still looking for  the South Cape\n",
      "Still looking for  New Norfolk\n",
      "Still looking for  Derwent\n",
      "Still looking for  the Southern Ocean\n",
      "Still looking for  Tamar\n",
      "*** Found Victoria [Exact match]\n",
      "{'placename': 'Victoria', 'locations': {'best_match':     LocationName Category  Longitude  Latitude      PartOf\n",
      "523     Victoria  Capital  -4.616667     55.45  Seychelles}}\n",
      "Still looking for  Port Philip Bay\n",
      "*** Found Wellington [Exact match]\n",
      "{'placename': 'Wellington', 'locations': {'best_match':     LocationName Category  Longitude    Latitude       PartOf\n",
      "531   Wellington  Capital      -41.3  174.783333  New Zealand}}\n",
      "Still looking for  Dromedary\n",
      "Still looking for  Mount Wellington\n",
      "Still looking for  Launceston\n",
      "Still looking for  Smyrna\n",
      "Still looking for  Pyramid Island\n",
      "Still looking for  Rocky Point\n",
      "Still looking for  Port Davey\n",
      "Still looking for  Mount Direction\n",
      "Still looking for  Macquarie Harbour\n",
      "Still looking for  Mount Heemskirk\n",
      "Still looking for  Mount Zeehan\n",
      "Still looking for  King's River\n",
      "Still looking for  Sarah Island\n",
      "Still looking for  Philip's Island\n",
      "Still looking for  Hobart Town\n",
      "Still looking for  earth\n",
      "Still looking for  south-east\n",
      "Still looking for  Ladybird\n",
      "Still looking for  Commandant\n",
      "Still looking for  Port Arthur\n",
      "*** Found Honduras [Exact match]\n",
      "{'placename': 'Honduras', 'locations': {'best_match':     LocationName Category  Longitude   Latitude           PartOf\n",
      "200     Honduras  Country       14.1 -87.216667  Central America}}\n",
      "Still looking for  Arthur\n",
      "Still looking for  Hells Gates\n",
      "Still looking for  England\n",
      "Still looking for  New Town\n",
      "Still looking for  verandah.-She\n",
      "Still looking for  Grummet Island\n",
      "Still looking for  Grummet\n",
      "Still looking for  Malabar\n",
      "Still looking for  Dawes\n",
      "Still looking for  Sydney\n"
     ]
    }
   ],
   "source": [
    "\n",
    "geolocdata = [] # all the data about placenames and locations, once linked\n",
    "\n",
    "for placename in placenames_df['Placename']:\n",
    "    \n",
    "    # create a new geoloc entry about this placename\n",
    "    new_geolocdata={} \n",
    "    ## start a record for a placename\n",
    "    new_geolocdata['placename'] = placename\n",
    "    new_geolocdata['locations'] = {} # start with no location details\n",
    "    new_geolocdata['locations']['best_match'] = [] # start with no match\n",
    "    \n",
    "    # normalise its case and remove any leading whitespace\n",
    "    # This will be needed later for the gazzetteer\n",
    "    #safe_placename = urllib.parse.quote(placename.strip().lower()) \n",
    "\n",
    "    # Exact match\n",
    "    if(placename in list(locref_df['LocationName'])):\n",
    "        \n",
    "        print(\"*** Found\", placename,\"[Exact match]\")\n",
    "        # Copy the details from the reference file entry\n",
    "        new_geolocdata['locations']['best_match'] = locref_df[locref_df['LocationName']==placename]\n",
    "        \n",
    "    else:\n",
    "        print(\"Still looking for \", placename)\n",
    "    \n",
    "    # If you have a match, show it\n",
    "    if (len(new_geolocdata['locations']['best_match']) > 0):\n",
    "        print(new_geolocdata)\n",
    "        \n",
    "    geolocdata.append(new_geolocdata) # add the new placename data to the list"
   ]
  },
  {
   "cell_type": "markdown",
   "metadata": {},
   "source": [
    "Check that you have recorded the matches (and mismatches)"
   ]
  },
  {
   "cell_type": "code",
   "execution_count": 48,
   "metadata": {},
   "outputs": [
    {
     "data": {
      "text/plain": [
       "[{'placename': 'the sleepy sea', 'locations': {'best_match': []}},\n",
       " {'placename': 'the Bay of Biscay', 'locations': {'best_match': []}},\n",
       " {'placename': 'Heath', 'locations': {'best_match': []}},\n",
       " {'placename': 'London',\n",
       "  'locations': {'best_match':     LocationName Category  Longitude  Latitude          PartOf\n",
       "   266       London  Capital       51.5 -0.083333  United Kingdom}},\n",
       " {'placename': \"Van Diemen's Land\", 'locations': {'best_match': []}},\n",
       " {'placename': 'Vickers', 'locations': {'best_match': []}},\n",
       " {'placename': 'Sylvia', 'locations': {'best_match': []}},\n",
       " {'placename': 'Bath', 'locations': {'best_match': []}},\n",
       " {'placename': \"Julia Vickers's\", 'locations': {'best_match': []}},\n",
       " {'placename': 'Frere', 'locations': {'best_match': []}}]"
      ]
     },
     "execution_count": 48,
     "metadata": {},
     "output_type": "execute_result"
    }
   ],
   "source": [
    "geolocdata[:10]"
   ]
  },
  {
   "cell_type": "markdown",
   "metadata": {},
   "source": [
    "What locations did you end up finding?"
   ]
  },
  {
   "cell_type": "code",
   "execution_count": 49,
   "metadata": {},
   "outputs": [
    {
     "data": {
      "text/plain": [
       "['London Capital 51.5 -0.083333 United Kingdom',\n",
       " 'India Country 28.6 77.2 Asia',\n",
       " 'Italy Country 41.9 12.483333 Europe',\n",
       " 'Victoria Capital -4.616667 55.45 Seychelles',\n",
       " 'Wellington Capital -41.3 174.783333 New Zealand',\n",
       " 'Honduras Country 14.1 -87.216667 Central America']"
      ]
     },
     "execution_count": 49,
     "metadata": {},
     "output_type": "execute_result"
    }
   ],
   "source": [
    "matchdata = [p['locations']['best_match'].to_string(index=False,header=False) for p in geolocdata \n",
    "             if len(p['locations']['best_match'])>0]\n",
    "matchdata"
   ]
  },
  {
   "cell_type": "markdown",
   "metadata": {},
   "source": [
    "We can now forget about the dataframe with the complete set of reference data."
   ]
  },
  {
   "cell_type": "code",
   "execution_count": 50,
   "metadata": {},
   "outputs": [],
   "source": [
    "del locref_df"
   ]
  },
  {
   "cell_type": "markdown",
   "metadata": {},
   "source": [
    "### Searching a Gazetteer for Locations <a class=\"anchor\" id=\"section-searchgazzeteer\"></a>"
   ]
  },
  {
   "cell_type": "markdown",
   "metadata": {},
   "source": [
    "Search [Open Street Map (ODM)](https://nominatim.org/release-docs/develop/api/Search/) for locations that match the unknown placenames."
   ]
  },
  {
   "cell_type": "code",
   "execution_count": 51,
   "metadata": {},
   "outputs": [],
   "source": [
    "#install ratelimit\n",
    "import requests\n",
    "from IPython.display import JSON\n",
    "import json\n",
    "from pprint import pprint\n",
    "from ratelimit import limits, RateLimitException, sleep_and_retry\n",
    "#import pandas as pd"
   ]
  },
  {
   "cell_type": "code",
   "execution_count": 52,
   "metadata": {},
   "outputs": [],
   "source": [
    "# How many (max) results do we want for each name?\n",
    "#[TO DO] Make this a user setting, defaulting to 5\n",
    "# The normal is (Default: 10, Maximum: 50), according to https://nominatim.org/release-docs/develop/api/Search/\n",
    "limit = 5"
   ]
  },
  {
   "cell_type": "code",
   "execution_count": 53,
   "metadata": {},
   "outputs": [],
   "source": [
    "# Send rate-limited requests that stay within n requests per second\n",
    "# [TO DO] add link to webpage about this\n",
    "@sleep_and_retry\n",
    "@limits(calls=1, period=1)\n",
    "def osm_call_api(url):\n",
    "    response = requests.get(url)\n",
    "    return response\n",
    "\n",
    "# Format the api response to make comparison easier\n",
    "def osm_format_response(input):\n",
    "\n",
    "    # extract the country name, if any\n",
    "    hyperlocation = None;\n",
    "    if input[\"display_name\"].find(','):\n",
    "        # break up the address\n",
    "        namesplit = input[\"display_name\"].split(',')\n",
    "        # extract the rightmost term from the split\n",
    "        hyperlocation = namesplit[len(namesplit)-1]\n",
    "        #hyperlocation=len(namesplit)\n",
    "        \n",
    "        \n",
    "    # for now, keep the names consistent between records \n",
    "    response = {\"LocationName\": input[\"display_name\"], \n",
    "              \"Category\": input[\"type\"],\n",
    "              \"Latitude\": input[\"lat\"], \n",
    "              \"Longitude\": input[\"lon\"],\n",
    "              \"PartOf\": hyperlocation,\n",
    "              \"Gazetteer\": \"OSM\"\n",
    "                }\n",
    "    return response"
   ]
  },
  {
   "cell_type": "markdown",
   "metadata": {},
   "source": [
    "[TO BE DONE]"
   ]
  },
  {
   "cell_type": "markdown",
   "metadata": {},
   "source": [
    "You can now move to the data that is needed for the geolocation project."
   ]
  },
  {
   "cell_type": "code",
   "execution_count": 56,
   "metadata": {},
   "outputs": [
    {
     "name": "stdout",
     "output_type": "stream",
     "text": [
      "looking for the sleepy sea\n",
      "looking for the Bay of Biscay\n",
      "looking for Heath\n",
      "looking for Van Diemen's Land\n",
      "looking for Vickers\n",
      "looking for Sylvia\n",
      "looking for Bath\n",
      "looking for Julia Vickers's\n",
      "looking for Frere\n",
      "looking for Chatham\n",
      "looking for CHAPTER II\n",
      "looking for Surgeon Pine\n",
      "looking for Coromandel\n",
      "looking for Pine\n",
      "looking for the Hydaspes for Calcutta\n",
      "looking for the poop guard\n",
      "looking for MONOTONY\n",
      "looking for Three'll\n",
      "looking for Van Diemen's\n",
      "looking for Tasman\n",
      "looking for Cape Pillar\n",
      "looking for Pirates' Bay\n",
      "looking for east\n",
      "looking for west\n",
      "looking for the Isle of Wight\n",
      "looking for the South-West Cape\n",
      "looking for Swan Port\n",
      "looking for Mediterranean\n",
      "looking for Maria Island\n",
      "looking for the Three Thumbs\n",
      "looking for Peninsula\n",
      "looking for Storm Bay\n",
      "looking for Storing Island\n",
      "looking for Sorrell\n",
      "looking for Bruny Island\n",
      "looking for Mount Royal\n",
      "looking for D'Entrecasteaux Channel\n",
      "looking for Actaeon\n",
      "looking for the South Cape\n",
      "looking for New Norfolk\n",
      "looking for Derwent\n",
      "looking for the Southern Ocean\n",
      "looking for Tamar\n",
      "looking for Port Philip Bay\n",
      "looking for Dromedary\n",
      "looking for Mount Wellington\n",
      "looking for Launceston\n",
      "looking for Smyrna\n",
      "looking for Pyramid Island\n",
      "looking for Rocky Point\n",
      "looking for Port Davey\n",
      "looking for Mount Direction\n",
      "looking for Macquarie Harbour\n",
      "looking for Mount Heemskirk\n",
      "looking for Mount Zeehan\n",
      "looking for King's River\n",
      "looking for Sarah Island\n",
      "looking for Philip's Island\n",
      "looking for Hobart Town\n",
      "looking for earth\n",
      "looking for south-east\n",
      "looking for Ladybird\n",
      "looking for Commandant\n",
      "looking for Port Arthur\n",
      "looking for Arthur\n",
      "looking for Hells Gates\n",
      "looking for England\n",
      "looking for New Town\n",
      "looking for verandah.-She\n",
      "looking for Grummet Island\n",
      "looking for Grummet\n",
      "looking for Malabar\n",
      "looking for Dawes\n",
      "looking for Sydney\n"
     ]
    }
   ],
   "source": [
    "# For every placename in our list\n",
    "for p in geolocdata:\n",
    "    # Already found a location, so skip to the next placename\n",
    "    if len(p['locations']['best_match']) > 0:\n",
    "        continue\n",
    "        \n",
    "    placename = p['placename']\n",
    "    print (\"looking for\",placename)\n",
    "\n",
    "    # query the OSM database\n",
    "    url = f\"https://nominatim.openstreetmap.org/search?q={placename}&format=json&limit={limit}\"\n",
    "    response = osm_call_api(url)\n",
    "    response_dict = json.loads(response.text)\n",
    "    #print(response.text)\n",
    "\n",
    "    p['locations']['candidates']=None\n",
    "    \n",
    "    # Handle no results found\n",
    "    if len(response_dict) is 0:\n",
    "        # skip to the next placename\n",
    "        continue\n",
    "        \n",
    "    # Save the possible locations for later processing\n",
    "    data_frames = []\n",
    "\n",
    "    # Handle results found\n",
    "    for response_record in response_dict:\n",
    "        #  Use this to look at a reduced set of data from the results\n",
    "        #print(response_record)\n",
    "        cleaned_response = osm_format_response(response_record)\n",
    "        #print(\"   ...... \",cleaned_data)\n",
    "\n",
    "        # Add the data to a dataframe\n",
    "        # The cleaned_response should be in the form we want to keep.\n",
    "        data_frames.append(cleaned_response)\n",
    "\n",
    "        #df = pd.DataFrame(columns = [#'name' , \n",
    "        #                             'Location',\n",
    "        #                             \"Category\",\n",
    "        #                             \"Latitude\",\n",
    "        #                             \"Longitude\",\n",
    "        #                             \"PartOf\",\n",
    "        #                             \"Gazetteer\"])\n",
    "        #df = df.append({#\"name\": placename, \n",
    "        #                \"LocationName\": cleaned_response[\"LocationName\"],\n",
    "        #                \"Category\": cleaned_response[\"CategoryType\"],\n",
    "        #                'Latitude': cleaned_response[\"Latitude\"],\n",
    "        #                'Longitude': cleaned_response[\"Longitude\"],\n",
    "        #                'PartOf': cleaned_response[\"PartOf\"],\n",
    "        #                'Gazetteer': cleaned_response[\"Gazetteer\"]}, \n",
    "        #               ignore_index=True)\n",
    "        #data_frames.append(df)\n",
    "        \n",
    "        # print the output\n",
    "        matchdata = df.to_string(index=False,header=False)\n",
    "        #print(\"  *  \",matchdata)\n",
    "\n",
    "\n",
    "        #print(df)\n",
    "\n",
    "    # add the results to the geoloc dataframe\n",
    "    # review the outcomes later\n",
    "    p['locations']['candidates'] = data_frames\n",
    "\n",
    "    #print(p['locations']['candidates'])\n",
    "        \n",
    "    #exit()\n",
    "    "
   ]
  },
  {
   "cell_type": "markdown",
   "metadata": {},
   "source": [
    "What placenames have you still not found?"
   ]
  },
  {
   "cell_type": "code",
   "execution_count": 57,
   "metadata": {},
   "outputs": [
    {
     "data": {
      "text/plain": [
       "['the sleepy sea',\n",
       " \"Julia Vickers's\",\n",
       " 'the Hydaspes for Calcutta',\n",
       " 'the poop guard',\n",
       " 'MONOTONY',\n",
       " 'the Three Thumbs',\n",
       " 'Storing Island',\n",
       " 'Commandant',\n",
       " 'verandah.-She',\n",
       " 'Grummet Island']"
      ]
     },
     "execution_count": 57,
     "metadata": {},
     "output_type": "execute_result"
    }
   ],
   "source": [
    "unmatcheddata = [p['placename'] for p in geolocdata \n",
    "             if len(p['locations']['best_match'])==0 and p['locations']['candidates']==None]\n",
    "unmatcheddata"
   ]
  },
  {
   "cell_type": "markdown",
   "metadata": {},
   "source": [
    "Where have you found locations for placenames?"
   ]
  },
  {
   "cell_type": "code",
   "execution_count": 58,
   "metadata": {},
   "outputs": [
    {
     "data": {
      "text/plain": [
       "['the Bay of Biscay',\n",
       " 'Heath',\n",
       " 'London',\n",
       " \"Van Diemen's Land\",\n",
       " 'Vickers',\n",
       " 'Sylvia',\n",
       " 'Bath',\n",
       " 'Frere',\n",
       " 'Chatham',\n",
       " 'CHAPTER II',\n",
       " 'Surgeon Pine',\n",
       " 'Coromandel',\n",
       " 'Pine',\n",
       " 'India',\n",
       " \"Three'll\",\n",
       " \"Van Diemen's\",\n",
       " 'Tasman',\n",
       " 'Cape Pillar',\n",
       " \"Pirates' Bay\",\n",
       " 'east',\n",
       " 'west',\n",
       " 'the Isle of Wight',\n",
       " 'the South-West Cape',\n",
       " 'Swan Port',\n",
       " 'Mediterranean',\n",
       " 'Maria Island',\n",
       " 'Peninsula',\n",
       " 'Storm Bay',\n",
       " 'Italy',\n",
       " 'Sorrell',\n",
       " 'Bruny Island',\n",
       " 'Mount Royal',\n",
       " \"D'Entrecasteaux Channel\",\n",
       " 'Actaeon',\n",
       " 'the South Cape',\n",
       " 'New Norfolk',\n",
       " 'Derwent',\n",
       " 'the Southern Ocean',\n",
       " 'Tamar',\n",
       " 'Victoria',\n",
       " 'Port Philip Bay',\n",
       " 'Wellington',\n",
       " 'Dromedary',\n",
       " 'Mount Wellington',\n",
       " 'Launceston',\n",
       " 'Smyrna',\n",
       " 'Pyramid Island',\n",
       " 'Rocky Point',\n",
       " 'Port Davey',\n",
       " 'Mount Direction',\n",
       " 'Macquarie Harbour',\n",
       " 'Mount Heemskirk',\n",
       " 'Mount Zeehan',\n",
       " \"King's River\",\n",
       " 'Sarah Island',\n",
       " \"Philip's Island\",\n",
       " 'Hobart Town',\n",
       " 'earth',\n",
       " 'south-east',\n",
       " 'Ladybird',\n",
       " 'Port Arthur',\n",
       " 'Honduras',\n",
       " 'Arthur',\n",
       " 'Hells Gates',\n",
       " 'England',\n",
       " 'New Town',\n",
       " 'Grummet',\n",
       " 'Malabar',\n",
       " 'Dawes',\n",
       " 'Sydney']"
      ]
     },
     "execution_count": 58,
     "metadata": {},
     "output_type": "execute_result"
    }
   ],
   "source": [
    "matchdata = [p['placename'] for p in geolocdata \n",
    "             if len(p['locations']['best_match'])>0 or p['locations']['candidates']!=None]\n",
    "matchdata"
   ]
  },
  {
   "cell_type": "markdown",
   "metadata": {},
   "source": [
    "While Open Street Map is a wonderful resource, it focusses on current names of geographic locations. If the original source of your placenames was not written in the recent decades, then the OSM may not know the appropriate names of locations for the time of the document. "
   ]
  },
  {
   "cell_type": "markdown",
   "metadata": {},
   "source": [
    "One solution is to also look up a historical gazetteer, like the TLC. \n",
    "\n",
    "Like the OSM API, the TLCMap API has various options, like which type of search to use and whether to search any data in the database enetred by the public, rather than that which has been verified or entered by experts."
   ]
  },
  {
   "cell_type": "markdown",
   "metadata": {},
   "source": [
    "[TO DO] Describe the TLCMap"
   ]
  },
  {
   "cell_type": "markdown",
   "metadata": {},
   "source": [
    "For this workshop, you will look for exact matches between the placenames and the locations, and not consider any publicly entered data."
   ]
  },
  {
   "cell_type": "code",
   "execution_count": 65,
   "metadata": {},
   "outputs": [],
   "source": [
    "# Which order to do different searches for known locations\n",
    "search_type = 'exact' # alt values: 'exact', 'fuzzy', 'contains' \n",
    "\n",
    "# Flag whether to use data provided by the public\n",
    "search_public_data = False # alt values = True, False"
   ]
  },
  {
   "cell_type": "markdown",
   "metadata": {},
   "source": [
    "Like for the OSM, you will need a few functions to query the the API."
   ]
  },
  {
   "cell_type": "code",
   "execution_count": 66,
   "metadata": {},
   "outputs": [],
   "source": [
    "def tlc_build_url(placename: str, search_type: str, search_public_data: bool = False) -> str:\n",
    "    \"\"\"\n",
    "    Build a url to query the tlcmap/ghap API.\n",
    "    placename: the place we're trying to locate\n",
    "    search_type: what search type to use (accepts one of ['contains','fuzzy','exact'])\n",
    "    \n",
    "    ref: https://www.tlcmap.org/guides/ghap/#ws\n",
    "    \"\"\"\n",
    "    safe_placename = urllib.parse.quote(placename.strip().lower())\n",
    "\n",
    "    url = f\"https://tlcmap.org/ghap/search?\"\n",
    "\n",
    "    if search_type == 'fuzzy':\n",
    "        url += f\"fuzzyname={safe_placename}\"\n",
    "    elif search_type == 'exact':\n",
    "        url += f\"name={safe_placename}\"\n",
    "    elif search_type == 'contains':\n",
    "        url += f\"containsname={safe_placename}\"\n",
    "    else:\n",
    "        return None\n",
    "\n",
    "    # Search Australian National Placenames Survey provided data\n",
    "    url += \"&searchausgaz=on\"\n",
    "    \n",
    "    # Search public provided data, this data could be unreliable\n",
    "    if search_public_data == True:\n",
    "        url += \"&searchpublicdatasets=on\"\n",
    "    else:\n",
    "        url += \"&searchpublicdatasets=off\"\n",
    "        \n",
    "    # Retrieve data as JSON\n",
    "    url += \"&format=json\"\n",
    "    \n",
    "    # limit the number of results\n",
    "    url += \"&paging=1\"\n",
    "\n",
    "    return url\n",
    "\n",
    "# Send rate-limited requests that stay within n requests per second\n",
    "# [TO DO] add link to webpage about this\n",
    "@sleep_and_retry\n",
    "@limits(calls=1, period=1)\n",
    "def tlc_call_api(url):\n",
    "    r = requests.get(url)\n",
    "    if r.url == 'https://tlcmap.org/ghap/maxpaging':\n",
    "        return None\n",
    "    #if (type(response)==bytes and str(response) == 'No search results to display.'):\n",
    "    #    return None\n",
    "    #print(\"Response:\",r)\n",
    "\n",
    "    # If the reply says the placename wasn't found, customise the JSON data for the reply\n",
    "    if r.content.decode() == \"No search results to display.\":\n",
    "        # This should have obviously just be an empty list of features, but TLCMap is badly behaved\n",
    "        response = json.loads('{\"type\": \"FeatureCollection\",\"metadata\": {},\"features\": []}')\n",
    "    # SUCCESS! Record the spatial data provided in the reply\n",
    "    elif r.ok:\n",
    "        response = r.json()    # get [lon, lat] for spatial matches\n",
    "\n",
    "    return response\n",
    "\n",
    "    #log(f\"Query returned {response.status_code}\")\n",
    "    if response.ok:\n",
    "    #    \"\"\"\n",
    "    #    NOTE: we could catch json.decoder.JSONDecodeError, but since json=<3.4 doesn't raise this,\n",
    "    #         a generic ValueError is more portable\n",
    "    #    See: https://stackoverflow.com/questions/44714046/python3-unable-to-import-jsondecodeerror-from-json-decoder\n",
    "    #    \"\"\"\n",
    "    #    try:\n",
    "    #       data = json.loads(response.content)\n",
    "    #    except ValueError: #Error handling for 0 matches \n",
    "    #        return None\n",
    "        return response\n",
    "    return None\n",
    "\n",
    "def tlc_query_name(placename: str, search_type: str):\n",
    "    \"\"\"\n",
    "    Use tlcmap/ghap API to check a placename, implemented fuzzy search but will not handle non returns.\n",
    "    \"\"\"\n",
    "    url = tlc_build_url(placename, search_type, search_public_data)\n",
    "    #print(url)\n",
    "    if url:\n",
    "        return tlc_call_api(url)\n",
    "    return None"
   ]
  },
  {
   "cell_type": "code",
   "execution_count": 87,
   "metadata": {},
   "outputs": [],
   "source": [
    "# Format the api response to make comparison easier\n",
    "def tlc_format_response(input):\n",
    "\n",
    "    #if input = None:\n",
    "    #    return None\n",
    "    \n",
    "    locdata={} # formatted data\n",
    "    \n",
    "    # look at each location in the features\n",
    "    locationfeatures=input\n",
    "    if len(locationfeatures):\n",
    "        # Gather the locdata for one of the placename's location \n",
    "        if 'placename' in locationfeatures['properties']:\n",
    "            locdata['LocationName'] = locationfeatures['properties']['placename']\n",
    "        else:\n",
    "            locdata['LocationName'] = \"Unknown Location\"\n",
    "        if 'feature_term' in locationfeatures['properties']:\n",
    "            locdata['Category']=locationfeatures['properties'][\"feature_term\"]\n",
    "        else:\n",
    "            locdata['Category']=None\n",
    "        if 'longitude' in locationfeatures['properties']:\n",
    "            locdata['Longitude']=locationfeatures['properties'][\"longitude\"]\n",
    "        else:\n",
    "            locdata['Longitude']=None\n",
    "        if 'latitude' in locationfeatures['properties']:\n",
    "            locdata['Latitude']=locationfeatures['properties'][\"latitude\"]\n",
    "        else:\n",
    "            locdata['Latitude']=None\n",
    "        if 'state' in locationfeatures['properties']:\n",
    "            locdata['PartOf']=locationfeatures['properties']['state']\n",
    "        else:\n",
    "            locdata['PartOf']=None\n",
    "        locdata['Gazetteer']=\"TLCMap\"\n",
    "        response=locdata\n",
    "    else:\n",
    "        response=None\n",
    "\n",
    "    return response"
   ]
  },
  {
   "cell_type": "markdown",
   "metadata": {},
   "source": [
    "You can now search the TLCMap for locations matching the same placenames you previously searched for in the OSM."
   ]
  },
  {
   "cell_type": "code",
   "execution_count": 89,
   "metadata": {},
   "outputs": [
    {
     "name": "stdout",
     "output_type": "stream",
     "text": [
      "looking for the sleepy sea\n",
      "[]\n",
      "looking for the Bay of Biscay\n",
      "[{'LocationName': 'The Bay of Biscay, The Park, City of Nottingham, England, United Kingdom', 'Category': 'park', 'Latitude': '52.95425415', 'Longitude': '-1.159789836905746', 'PartOf': ' United Kingdom', 'Gazetteer': 'OSM'}]\n",
      "looking for Heath\n",
      "[{'LocationName': 'Heath, Rockwall County, Texas, United States', 'Category': 'administrative', 'Latitude': '32.8365147', 'Longitude': '-96.474987', 'PartOf': ' United States', 'Gazetteer': 'OSM'}, {'LocationName': 'Heath, Covington County, Alabama, United States', 'Category': 'administrative', 'Latitude': '31.3607243', 'Longitude': '-86.4696811', 'PartOf': ' United States', 'Gazetteer': 'OSM'}, {'LocationName': 'Heath, Licking County, Ohio, United States', 'Category': 'administrative', 'Latitude': '40.0228421', 'Longitude': '-82.4445991', 'PartOf': ' United States', 'Gazetteer': 'OSM'}, {'LocationName': 'Heath, Franklin County, Massachusetts, United States', 'Category': 'administrative', 'Latitude': '42.6898311', 'Longitude': '-72.8178076', 'PartOf': ' United States', 'Gazetteer': 'OSM'}, {'LocationName': 'Heath, Tippecanoe County, Indiana, 47924, United States', 'Category': 'hamlet', 'Latitude': '40.461147', 'Longitude': '-86.7333397', 'PartOf': ' United States', 'Gazetteer': 'OSM'}, {'LocationName': 'Heath', 'Category': 'trig station', 'Longitude': '149.3011111111111', 'Latitude': '-32.13166666666667', 'PartOf': 'NSW', 'Gazetteer': 'TLCMap'}]\n",
      "looking for Van Diemen's Land\n",
      "[{'LocationName': 'Tasmania, Australia', 'Category': 'administrative', 'Latitude': '-42.035067', 'Longitude': '146.6366887', 'PartOf': ' Australia', 'Gazetteer': 'OSM'}, {'LocationName': \"Van Diemen's Land, Kempston Rural, Bedford, England, United Kingdom\", 'Category': 'park', 'Latitude': '52.09974355', 'Longitude': '-0.5142026280666261', 'PartOf': ' United Kingdom', 'Gazetteer': 'OSM'}, {'LocationName': \"Van Diemen's Land\", 'Category': 'island1', 'Longitude': None, 'Latitude': None, 'PartOf': 'TAS', 'Gazetteer': 'TLCMap'}]\n",
      "looking for Vickers\n",
      "[{'LocationName': 'Vickers, Northwood, Wood County, Ohio, 43619, United States', 'Category': 'hamlet', 'Latitude': '41.6117096', 'Longitude': '-83.4958794', 'PartOf': ' United States', 'Gazetteer': 'OSM'}, {'LocationName': 'Vickers, Hall County, Georgia, 30506, United States', 'Category': 'hamlet', 'Latitude': '34.3525983', 'Longitude': '-83.93685', 'PartOf': ' United States', 'Gazetteer': 'OSM'}, {'LocationName': 'Vickers, Kountze, Hardin County, Texas, 77625, United States', 'Category': 'residential', 'Latitude': '30.373898', 'Longitude': '-94.319196', 'PartOf': ' United States', 'Gazetteer': 'OSM'}, {'LocationName': 'Vickers, Stanton Fitzwarren, South Marston, Swindon, England, United Kingdom', 'Category': 'primary', 'Latitude': '51.59845985', 'Longitude': '-1.7415535311162076', 'PartOf': ' United Kingdom', 'Gazetteer': 'OSM'}, {'LocationName': 'Vickers, South Houston, Harris County, Texas, 77587, United States', 'Category': 'residential', 'Latitude': '29.6687304', 'Longitude': '-95.2244965', 'PartOf': ' United States', 'Gazetteer': 'OSM'}]\n",
      "looking for Sylvia\n",
      "[{'LocationName': 'Sylvia, Reno County, Kansas, United States', 'Category': 'administrative', 'Latitude': '37.9580938', 'Longitude': '-98.4084398', 'PartOf': ' United States', 'Gazetteer': 'OSM'}, {'LocationName': 'Sylvia, Dickson County, Tennessee, United States', 'Category': 'hamlet', 'Latitude': '36.1717246', 'Longitude': '-87.4255674', 'PartOf': ' United States', 'Gazetteer': 'OSM'}, {'LocationName': 'Sylvia, Pegg Addition, Batesville, Independence County, Arkansas, 72501, United States', 'Category': 'residential', 'Latitude': '35.7593667', 'Longitude': '-91.6302065', 'PartOf': ' United States', 'Gazetteer': 'OSM'}, {'LocationName': 'Sylvia, La Marque, Galveston County, Texas, 77568, United States', 'Category': 'residential', 'Latitude': '29.356695', 'Longitude': '-94.964718', 'PartOf': ' United States', 'Gazetteer': 'OSM'}, {'LocationName': 'Sylvia, Paliparan Subdivision, Santo Niño, Marikina, Eastern Manila District, Metro Manila, 1800, Pilipinas / Philippines', 'Category': 'residential', 'Latitude': '14.6413659', 'Longitude': '121.100725', 'PartOf': ' Pilipinas / Philippines', 'Gazetteer': 'OSM'}, {'LocationName': 'Sylvia', 'Category': 'parish', 'Longitude': '143.81666666666666', 'Latitude': '-20.85', 'PartOf': 'QLD', 'Gazetteer': 'TLCMap'}]\n",
      "looking for Bath\n",
      "[{'LocationName': 'Bath, Bath and North East Somerset, West of England, England, United Kingdom', 'Category': 'city', 'Latitude': '51.3813864', 'Longitude': '-2.3596963', 'PartOf': ' United Kingdom', 'Gazetteer': 'OSM'}, {'LocationName': 'Bath County, Kentucky, United States', 'Category': 'administrative', 'Latitude': '38.1245248', 'Longitude': '-83.7249243', 'PartOf': ' United States', 'Gazetteer': 'OSM'}, {'LocationName': 'Bath, Sagadahoc County, Maine, 04530, United States', 'Category': 'administrative', 'Latitude': '43.910755', 'Longitude': '-69.820862', 'PartOf': ' United States', 'Gazetteer': 'OSM'}, {'LocationName': 'Bath Abbey, Kingston Buildings, Kingsmead, Bath, Bath and North East Somerset, West of England, England, BA1 1LT, United Kingdom', 'Category': 'place_of_worship', 'Latitude': '51.3814544', 'Longitude': '-2.358865873946672', 'PartOf': ' United Kingdom', 'Gazetteer': 'OSM'}, {'LocationName': 'Bath, Mason County, Illinois, United States', 'Category': 'administrative', 'Latitude': '40.1933784', 'Longitude': '-90.1409523', 'PartOf': ' United States', 'Gazetteer': 'OSM'}, {'LocationName': 'Bath', 'Category': 'locality unbounded)', 'Longitude': '138.49131', 'Latitude': '-34.83706', 'PartOf': 'SA', 'Gazetteer': 'TLCMap'}]\n",
      "looking for Julia Vickers's\n",
      "[]\n",
      "looking for Frere\n",
      "[{'LocationName': 'Ferrere, Asti, Piemonte, 14012, Italia', 'Category': 'administrative', 'Latitude': '44.875446', 'Longitude': '7.994732', 'PartOf': ' Italia', 'Gazetteer': 'OSM'}, {'LocationName': 'Frere, Umtshezi Ward 8, Umtshezi Local Municipality, Uthukela District Municipality, KwaZulu-Natal, South Africa', 'Category': 'suburb', 'Latitude': '-28.8922222', 'Longitude': '29.7747222', 'PartOf': ' South Africa', 'Gazetteer': 'OSM'}, {'LocationName': 'Frere, Acceglio, Cuneo, Piemonte, 12021, Italia', 'Category': 'hamlet', 'Latitude': '44.4701528', 'Longitude': '7.004274', 'PartOf': ' Italia', 'Gazetteer': 'OSM'}, {'LocationName': 'Frere, Clusone, Bergamo, Lombardia, 24023, Italia', 'Category': 'hamlet', 'Latitude': '45.879004', 'Longitude': '9.9476697', 'PartOf': ' Italia', 'Gazetteer': 'OSM'}, {'LocationName': 'Borgata Ferrere, Bernezzo, Cuneo, Piemonte, Italia', 'Category': 'hamlet', 'Latitude': '44.3666976', 'Longitude': '7.3916044', 'PartOf': ' Italia', 'Gazetteer': 'OSM'}]\n",
      "looking for Chatham\n",
      "[{'LocationName': 'Chatham County, North Carolina, United States', 'Category': 'administrative', 'Latitude': '35.7151316', 'Longitude': '-79.2533035', 'PartOf': ' United States', 'Gazetteer': 'OSM'}, {'LocationName': 'Chatham County, Georgia, United States', 'Category': 'administrative', 'Latitude': '31.9668887', 'Longitude': '-81.0626008', 'PartOf': ' United States', 'Gazetteer': 'OSM'}, {'LocationName': 'Chatham, Medway, England, United Kingdom', 'Category': 'town', 'Latitude': '51.3819167', 'Longitude': '0.526559', 'PartOf': ' United Kingdom', 'Gazetteer': 'OSM'}, {'LocationName': 'Chatham, Chatham-Kent, Southwestern Ontario, Ontario, N7M 2G6, Canada', 'Category': 'city', 'Latitude': '42.4057219', 'Longitude': '-82.1853837', 'PartOf': ' Canada', 'Gazetteer': 'OSM'}, {'LocationName': 'Chatham, Sangamon County, Illinois, 62629, United States', 'Category': 'administrative', 'Latitude': '39.676163', 'Longitude': '-89.7045439', 'PartOf': ' United States', 'Gazetteer': 'OSM'}, {'LocationName': 'Chatham', 'Category': 'homestead', 'Longitude': '116.8343', 'Latitude': '-31.30709', 'PartOf': 'WA', 'Gazetteer': 'TLCMap'}]\n",
      "looking for CHAPTER II\n",
      "[{'LocationName': 'Chapter II, Hemblington Road, Strumpshaw, Lingwood, Broadland, Norfolk, England, NR13 4NE, United Kingdom', 'Category': 'detached', 'Latitude': '52.6189908', 'Longitude': '1.4697835518955997', 'PartOf': ' United Kingdom', 'Gazetteer': 'OSM'}, {'LocationName': 'Chapter II, Zahle - Dhor El Shweyr, Saydet En Najat, تل شيحا, زحلة, قضاء زحلة, محافظة البقاع, 1801, لبنان', 'Category': 'bar', 'Latitude': '33.8546022', 'Longitude': '35.8947653', 'PartOf': ' لبنان', 'Gazetteer': 'OSM'}, {'LocationName': 'Chapter 2 Coffee Shop, Maes Derw, Llandudno Junction, Conwy, Cymru / Wales, LL31 9AL, United Kingdom', 'Category': 'cafe', 'Latitude': '53.284067199999996', 'Longitude': '-3.8021696863026877', 'PartOf': ' United Kingdom', 'Gazetteer': 'OSM'}]\n",
      "looking for Surgeon Pine\n"
     ]
    },
    {
     "name": "stdout",
     "output_type": "stream",
     "text": [
      "[{'LocationName': \"Surgeon's Quarters, Flagstaff Hill Walkway, Kingston, Norfolk Island, Burnt Pine, Norfolk Island, 2899, Australia\", 'Category': 'yes', 'Latitude': '-29.057089050000002', 'Longitude': '167.95544200664628', 'PartOf': ' Australia', 'Gazetteer': 'OSM'}, {'LocationName': \"Surgeon's Kitchen, Flagstaff Hill Walkway, Kingston, Norfolk Island, Burnt Pine, Norfolk Island, 2899, Australia\", 'Category': 'yes', 'Latitude': '-29.0569188', 'Longitude': '167.9554764', 'PartOf': ' Australia', 'Gazetteer': 'OSM'}]\n",
      "looking for Coromandel\n",
      "[{'LocationName': 'Coromandel, Região Geográfica Imediata de Patrocínio, Região Geográfica Intermediária de Patos de Minas, Minas Gerais, Região Sudeste, 38550-000, Brasil', 'Category': 'administrative', 'Latitude': '-18.473889', 'Longitude': '-47.200278', 'PartOf': ' Brasil', 'Gazetteer': 'OSM'}, {'LocationName': 'Coromandel, Thames-Coromandel District, Waikato, 3543, New Zealand / Aotearoa', 'Category': 'town', 'Latitude': '-36.7571639', 'Longitude': '175.5007016', 'PartOf': ' New Zealand / Aotearoa', 'Gazetteer': 'OSM'}, {'LocationName': 'Coromandel, Beau Bassin-Rose Hill, Plaines Wilhems, Outer islands of Mauritius, 71608, Mauritius', 'Category': 'suburb', 'Latitude': '-20.1962831', 'Longitude': '57.4694395', 'PartOf': ' Mauritius', 'Gazetteer': 'OSM'}, {'LocationName': 'Coromandel, Johnson Parade, Blackwood, Adelaide, City of Mitcham, South Australia, 5051, Australia', 'Category': 'station', 'Latitude': '-35.0251942', 'Longitude': '138.6143361', 'PartOf': ' Australia', 'Gazetteer': 'OSM'}, {'LocationName': 'Coromandel, Caldecott, Abingdon on Thames, Abingdon, Vale of White Horse, Oxfordshire, England, OX14 5QQ, United Kingdom', 'Category': 'residential', 'Latitude': '51.6598155', 'Longitude': '-1.292693', 'PartOf': ' United Kingdom', 'Gazetteer': 'OSM'}, {'LocationName': 'Coromandel', 'Category': 'homestead', 'Longitude': '119.0265', 'Latitude': '-34.32488', 'PartOf': 'WA', 'Gazetteer': 'TLCMap'}]\n",
      "looking for Pine\n",
      "[{'LocationName': 'Pine County, Minnesota, United States', 'Category': 'administrative', 'Latitude': '46.0820957', 'Longitude': '-92.7542126', 'PartOf': ' United States', 'Gazetteer': 'OSM'}, {'LocationName': 'Pine, Tonto National Forest Exclusion Area, Arizona, 85544, United States', 'Category': 'administrative', 'Latitude': '34.3842741', 'Longitude': '-111.4555672', 'PartOf': ' United States', 'Gazetteer': 'OSM'}, {'LocationName': 'Pinecrest Public School, 1281, McWatters Road, College, Ottawa, (Old) Ottawa, Ottawa, Eastern Ontario, Ontario, K2C 3E7, Canada', 'Category': 'school', 'Latitude': '45.3443641', 'Longitude': '-75.78478218194566', 'PartOf': ' Canada', 'Gazetteer': 'OSM'}, {'LocationName': 'Pine, Gary, Lake County, Indiana, 46406, United States', 'Category': 'hamlet', 'Latitude': '41.6282297', 'Longitude': '-87.3944977', 'PartOf': ' United States', 'Gazetteer': 'OSM'}, {'LocationName': 'Pine, Camp County, Texas, United States', 'Category': 'hamlet', 'Latitude': '32.9131834', 'Longitude': '-94.9693811', 'PartOf': ' United States', 'Gazetteer': 'OSM'}, {'LocationName': 'Pine', 'Category': 'parish', 'Longitude': '152.78333333333333', 'Latitude': '-27.116666666666667', 'PartOf': 'QLD', 'Gazetteer': 'TLCMap'}]\n",
      "looking for the Hydaspes for Calcutta\n",
      "[]\n",
      "looking for the poop guard\n",
      "[]\n",
      "looking for MONOTONY\n",
      "[]\n",
      "looking for Three'll\n",
      "[{'LocationName': 'Three, Waterville Valley, Grafton County, New Hampshire, United States', 'Category': 'cycleway', 'Latitude': '43.9445278', 'Longitude': '-71.4940105', 'PartOf': ' United States', 'Gazetteer': 'OSM'}]\n",
      "looking for Van Diemen's\n",
      "[{'LocationName': 'Van Diemen Avenue, Summerhill, Launceston, City of Launceston, Tasmania, 7520, Australia', 'Category': 'residential', 'Latitude': '-41.4654798', 'Longitude': '147.1314152', 'PartOf': ' Australia', 'Gazetteer': 'OSM'}, {'LocationName': 'Van Diemens Crescent, Park Grove, Burnie, City of Burnie, Tasmania, 7320, Australia', 'Category': 'residential', 'Latitude': '-41.0585817', 'Longitude': '145.8838217', 'PartOf': ' Australia', 'Gazetteer': 'OSM'}, {'LocationName': 'Amsterdam-Van Diemenstraat, Van Diemenstraat, Zeeheldenbuurt, Amsterdam, Noord-Holland, Nederland, 1013 NH, Nederland', 'Category': 'monitoring_station', 'Latitude': '52.3899851', 'Longitude': '4.8878686', 'PartOf': ' Nederland', 'Gazetteer': 'OSM'}, {'LocationName': 'Van Diemens Creamery, Christmas Hills Road, Elizabeth Town, Meander Valley, Tasmania, Australia', 'Category': 'ice_cream', 'Latitude': '-41.4834771', 'Longitude': '146.5981326', 'PartOf': ' Australia', 'Gazetteer': 'OSM'}, {'LocationName': 'Van Gogh Court, Newnham, Launceston, City of Launceston, Tasmania, 7248, Australia', 'Category': 'residential', 'Latitude': '-41.3799529', 'Longitude': '147.1181359', 'PartOf': ' Australia', 'Gazetteer': 'OSM'}]\n",
      "looking for Tasman\n",
      "[{'LocationName': 'Tasman, New Zealand / Aotearoa', 'Category': 'administrative', 'Latitude': '-41.30222105', 'Longitude': '172.89453190955697', 'PartOf': ' New Zealand / Aotearoa', 'Gazetteer': 'OSM'}, {'LocationName': 'Tasman, North 1st Street, San Jose, Santa Clara County, California, 95134, United States', 'Category': 'station', 'Latitude': '37.4086658', 'Longitude': '-121.9444674', 'PartOf': ' United States', 'Gazetteer': 'OSM'}, {'LocationName': 'Tasman, Tasmania, Australia', 'Category': 'administrative', 'Latitude': '-43.0422943', 'Longitude': '147.69664144273847', 'PartOf': ' Australia', 'Gazetteer': 'OSM'}, {'LocationName': 'Tasman Bay / Te Tai-o-Aorere, Nelson, New Zealand / Aotearoa', 'Category': 'bay', 'Latitude': '-41.0347888', 'Longitude': '173.34782222356634', 'PartOf': ' New Zealand / Aotearoa', 'Gazetteer': 'OSM'}, {'LocationName': 'Tasman, New Zealand / Aotearoa', 'Category': 'village', 'Latitude': '-41.1891054', 'Longitude': '173.0526542', 'PartOf': ' New Zealand / Aotearoa', 'Gazetteer': 'OSM'}, {'LocationName': 'Tasman', 'Category': 'Municipality/City', 'Longitude': '147.834', 'Latitude': '-43.054', 'PartOf': 'TAS', 'Gazetteer': 'TLCMap'}]\n",
      "looking for Cape Pillar\n",
      "[{'LocationName': 'Cape Pillar, Tasman, Tasmania, Australia', 'Category': 'administrative', 'Latitude': '-43.1817045', 'Longitude': '147.9383047', 'PartOf': ' Australia', 'Gazetteer': 'OSM'}, {'LocationName': 'Cape Pillar, Tasman, Tasmania, Australia', 'Category': 'cape', 'Latitude': '-43.2215036', 'Longitude': '148.0107165', 'PartOf': ' Australia', 'Gazetteer': 'OSM'}, {'LocationName': 'Cape Pillar, Heard Island and McDonald Islands, Australia', 'Category': 'locality', 'Latitude': '-53.1379539', 'Longitude': '73.4104006', 'PartOf': ' Australia', 'Gazetteer': 'OSM'}, {'LocationName': 'Cape Pillar', 'Category': 'Cape', 'Longitude': '148.0099945', 'Latitude': '-43.22000122', 'PartOf': 'TAS', 'Gazetteer': 'TLCMap'}]\n",
      "looking for Pirates' Bay\n",
      "[{'LocationName': 'Pirates Bay, Victoria, 3939, Australia', 'Category': 'bay', 'Latitude': '-38.3792167', 'Longitude': '144.7708906', 'PartOf': ' Australia', 'Gazetteer': 'OSM'}, {'LocationName': 'Pirates Bay, Tasmania, 7179, Australia', 'Category': 'bay', 'Latitude': '-43.021334', 'Longitude': '147.9384131', 'PartOf': ' Australia', 'Gazetteer': 'OSM'}, {'LocationName': 'pirates bay, Αφιώνας, Περιφερειακή Ενότητα Κέρκυρας, Περιφέρεια Ιονίων Νήσων, Αποκεντρωμένη Διοίκηση Πελοποννήσου, Δυτικής Ελλάδας και Ιονίου, 490 81, Ελλάς', 'Category': 'bay', 'Latitude': '39.7149598', 'Longitude': '19.6571192', 'PartOf': ' Ελλάς', 'Gazetteer': 'OSM'}, {'LocationName': 'Pirates Bay, Wirayudha, Nusa Dua, Benoa, Kuta Selatan, Bali, 80363, Indonesia', 'Category': 'restaurant', 'Latitude': '-8.7998639', 'Longitude': '115.2354403', 'PartOf': ' Indonesia', 'Gazetteer': 'OSM'}, {'LocationName': 'Pirates Bay, Ardi Beltza Path, Lombok Utara, Nusa Tenggara Barat, 83300, Indonesia', 'Category': 'travel_agency', 'Latitude': '-8.3647299', 'Longitude': '116.0860116', 'PartOf': ' Indonesia', 'Gazetteer': 'OSM'}]\n",
      "looking for east\n",
      "[{'LocationName': 'Est, Burkina Faso', 'Category': 'state', 'Latitude': '12.2527495', 'Longitude': '0.8736106', 'PartOf': ' Burkina Faso', 'Gazetteer': 'OSM'}, {'LocationName': 'Est, Cameroun', 'Category': 'administrative', 'Latitude': '3.9894393', 'Longitude': '14.178373', 'PartOf': ' Cameroun', 'Gazetteer': 'OSM'}, {'LocationName': 'Est, Burkina Faso', 'Category': 'administrative', 'Latitude': '12.255555', 'Longitude': '1.0095763618883151', 'PartOf': ' Burkina Faso', 'Gazetteer': 'OSM'}, {'LocationName': 'East, Adjumani, Northern Region, Uganda', 'Category': 'village', 'Latitude': '3.4304084', 'Longitude': '31.7006378', 'PartOf': ' Uganda', 'Gazetteer': 'OSM'}, {'LocationName': 'Poblacion East, Candoni, Negros Occidental, Western Visayas, 6110, Pilipinas / Philippines', 'Category': 'quarter', 'Latitude': '9.8276999', 'Longitude': '122.6439348', 'PartOf': ' Pilipinas / Philippines', 'Gazetteer': 'OSM'}, {'LocationName': 'East', 'Category': None, 'Longitude': '122.5848', 'Latitude': '-30.59869', 'PartOf': 'WA', 'Gazetteer': 'TLCMap'}]\n",
      "looking for west\n"
     ]
    },
    {
     "name": "stdout",
     "output_type": "stream",
     "text": [
      "[{'LocationName': 'Western, West Kenya, Kenya', 'Category': 'state', 'Latitude': '0.5090396', 'Longitude': '34.5731341', 'PartOf': ' Kenya', 'Gazetteer': 'OSM'}, {'LocationName': 'Ouest, Cameroun', 'Category': 'state', 'Latitude': '5.5211184', 'Longitude': '10.6528684', 'PartOf': ' Cameroun', 'Gazetteer': 'OSM'}, {'LocationName': 'West, McLennan County, Texas, United States', 'Category': 'administrative', 'Latitude': '31.8034812', 'Longitude': '-97.0933471', 'PartOf': ' United States', 'Gazetteer': 'OSM'}, {'LocationName': 'Western, Southern Region, Papua Niugini', 'Category': 'administrative', 'Latitude': '-7.5', 'Longitude': '142', 'PartOf': ' Papua Niugini', 'Gazetteer': 'OSM'}, {'LocationName': '西礁West (London) Reef, Thị trấn Trường Sa, Huyện Trường Sa, Tỉnh Khánh Hòa, Việt Nam', 'Category': 'reef', 'Latitude': '8.861665949999999', 'Longitude': '112.1931736941656', 'PartOf': ' Việt Nam', 'Gazetteer': 'OSM'}]\n",
      "looking for the Isle of Wight\n",
      "[{'LocationName': 'Isle of Wight, England, United Kingdom', 'Category': 'island', 'Latitude': '50.67108245', 'Longitude': '-1.3328042802764226', 'PartOf': ' United Kingdom', 'Gazetteer': 'OSM'}, {'LocationName': 'Isle of Wight, England, United Kingdom', 'Category': 'administrative', 'Latitude': '50.6710482', 'Longitude': '-1.3327111133199459', 'PartOf': ' United Kingdom', 'Gazetteer': 'OSM'}, {'LocationName': 'Isle of Wight, England, United Kingdom', 'Category': 'fire', 'Latitude': '50.6710482', 'Longitude': '-1.3327111133199459', 'PartOf': ' United Kingdom', 'Gazetteer': 'OSM'}, {'LocationName': 'Isle of Wight, England, United Kingdom', 'Category': 'political', 'Latitude': '50.6710482', 'Longitude': '-1.3327111133199459', 'PartOf': ' United Kingdom', 'Gazetteer': 'OSM'}, {'LocationName': 'Isle of Wight, England, United Kingdom', 'Category': 'ceremonial', 'Latitude': '50.6710482', 'Longitude': '-1.3327111133199459', 'PartOf': ' United Kingdom', 'Gazetteer': 'OSM'}]\n",
      "looking for the South-West Cape\n",
      "[{'LocationName': 'The Oaks Close, George South, George, George Local Municipality, Garden Route District Municipality, Western Cape, 6530, South Africa', 'Category': 'residential', 'Latitude': '-33.9692821', 'Longitude': '22.4538144', 'PartOf': ' South Africa', 'Gazetteer': 'OSM'}, {'LocationName': 'The Mews Street, Glenhaven, Cape Town Ward 9, Bellville, City of Cape Town, Western Cape, 7580, South Africa', 'Category': 'residential', 'Latitude': '-33.9185222', 'Longitude': '18.6551518', 'PartOf': ' South Africa', 'Gazetteer': 'OSM'}, {'LocationName': 'The Indraf Kafee, Cradock Street, George Ward 19, George, George Local Municipality, Garden Route District Municipality, Western Cape, 6530, South Africa', 'Category': 'convenience', 'Latitude': '-33.9678234', 'Longitude': '22.456758', 'PartOf': ' South Africa', 'Gazetteer': 'OSM'}, {'LocationName': \"The Best Of South Africa, Saint George's Street, Cape Town Ward 61, Simon's Town, City of Cape Town, Western Cape, 7995, South Africa\", 'Category': 'yes', 'Latitude': '-34.1929297', 'Longitude': '18.4288931', 'PartOf': ' South Africa', 'Gazetteer': 'OSM'}, {'LocationName': 'MOSAIC Lagoon Cafe in the 1892 Spookhuis, Concrete Driveway, Overstrand Ward 3, Overstrand Local Municipality, Overberg District Municipality, Western Cape, 7210, South Africa', 'Category': 'cafe', 'Latitude': '-34.4267527', 'Longitude': '19.3539093', 'PartOf': ' South Africa', 'Gazetteer': 'OSM'}]\n",
      "looking for Swan Port\n",
      "[{'LocationName': 'Swan, Intendance Street, Centre-Ville, Plaine Verte, Port Louis, Outer islands of Mauritius, 11317, Mauritius', 'Category': 'travel_agency', 'Latitude': '-20.163587', 'Longitude': '57.5032798', 'PartOf': ' Mauritius', 'Gazetteer': 'OSM'}]\n",
      "looking for Mediterranean\n",
      "[{'LocationName': 'Mediterranean, İskele, Kuzey Kıbrıs Türk Cumhuriyeti, Κύπρος - Kıbrıs', 'Category': 'residential', 'Latitude': '35.255701349999995', 'Longitude': '33.904011953206904', 'PartOf': ' Κύπρος - Kıbrıs', 'Gazetteer': 'OSM'}, {'LocationName': 'Mediterranean, Palm Desert, Riverside County, California, 92210, United States', 'Category': 'residential', 'Latitude': '33.7439509', 'Longitude': '-116.3534839', 'PartOf': ' United States', 'Gazetteer': 'OSM'}, {'LocationName': 'Mediterranean, Marbella, Leander, Williamson County, Texas, United States', 'Category': 'residential', 'Latitude': '30.5742005', 'Longitude': '-97.8235544', 'PartOf': ' United States', 'Gazetteer': 'OSM'}, {'LocationName': 'Mediterranean, Newport, Crosby, Harris County, Texas, 77532, United States', 'Category': 'residential', 'Latitude': '29.918687', 'Longitude': '-95.0748985', 'PartOf': ' United States', 'Gazetteer': 'OSM'}, {'LocationName': 'Mediterranean, Wildwood, Cape May County, New Jersey, 08260, United States', 'Category': 'residential', 'Latitude': '38.9919995', 'Longitude': '-74.8279859', 'PartOf': ' United States', 'Gazetteer': 'OSM'}]\n",
      "looking for Maria Island\n",
      "[{'LocationName': 'Maria Island, Glamorgan-Spring Bay, Tasmania, Australia', 'Category': 'island', 'Latitude': '-42.655839799999995', 'Longitude': '148.10102607816566', 'PartOf': ' Australia', 'Gazetteer': 'OSM'}, {'LocationName': 'Maria Island, Newfoundland, Newfoundland and Labrador, Canada', 'Category': 'island', 'Latitude': '51.230872149999996', 'Longitude': '-55.91464496489806', 'PartOf': ' Canada', 'Gazetteer': 'OSM'}, {'LocationName': 'Maria Island, Glamorgan-Spring Bay, Tasmania, Australia', 'Category': 'administrative', 'Latitude': '-42.6358214', 'Longitude': '148.0849313', 'PartOf': ' Australia', 'Gazetteer': 'OSM'}, {'LocationName': 'Maria Island, Area A (Ocean Falls/Outer Coast), Central Coast Regional District, British Columbia, Canada', 'Category': 'islet', 'Latitude': '52.16230075', 'Longitude': '-127.92088142973815', 'PartOf': ' Canada', 'Gazetteer': 'OSM'}, {'LocationName': 'Maria Island, Carnaza, Cebu, Central Visayas, Pilipinas / Philippines', 'Category': 'islet', 'Latitude': '11.4927225', 'Longitude': '124.110195998596', 'PartOf': ' Pilipinas / Philippines', 'Gazetteer': 'OSM'}, {'LocationName': 'Maria Island', 'Category': None, 'Longitude': '135.73305555555555', 'Latitude': '-14.866666666666667', 'PartOf': 'NT', 'Gazetteer': 'TLCMap'}]\n",
      "looking for the Three Thumbs\n",
      "[]\n",
      "looking for Peninsula\n",
      "[{'LocationName': 'Peninsula, Summit County, Ohio, United States', 'Category': 'administrative', 'Latitude': '41.241167', 'Longitude': '-81.552618', 'PartOf': ' United States', 'Gazetteer': 'OSM'}, {'LocationName': 'Peninsula, Georgetown, Scott County, Kentucky, United States', 'Category': 'neighbourhood', 'Latitude': '38.221989199999996', 'Longitude': '-84.56188590725293', 'PartOf': ' United States', 'Gazetteer': 'OSM'}, {'LocationName': 'Peninsula, Georgetown, Scott County, Kentucky, United States', 'Category': 'administrative', 'Latitude': '38.221989199999996', 'Longitude': '-84.56188590725293', 'PartOf': ' United States', 'Gazetteer': 'OSM'}, {'LocationName': 'Peninsula, Daule, Guayas, 091902, Ecuador', 'Category': 'hamlet', 'Latitude': '-1.8281384', 'Longitude': '-79.9893534', 'PartOf': ' Ecuador', 'Gazetteer': 'OSM'}, {'LocationName': 'Peninsula, Canton Victoria, Municipio Puerto Rico, Provincia de Manuripi, Pando, Bolivia', 'Category': 'hamlet', 'Latitude': '-11.0856935', 'Longitude': '-67.3161825', 'PartOf': ' Bolivia', 'Gazetteer': 'OSM'}, {'LocationName': 'Peninsula', 'Category': None, 'Longitude': '115.9057', 'Latitude': '-31.94878', 'PartOf': 'WA', 'Gazetteer': 'TLCMap'}]\n",
      "looking for Storm Bay\n",
      "[{'LocationName': 'Storm Bay, Tasmania, Australia', 'Category': 'bay', 'Latitude': '-43.17', 'Longitude': '147.55569', 'PartOf': ' Australia', 'Gazetteer': 'OSM'}, {'LocationName': 'Storm Bay, Unorganized Kenora District, Kenora District, Northwestern Ontario, Ontario, Canada', 'Category': 'bay', 'Latitude': '49.6780658', 'Longitude': '-94.3186347', 'PartOf': ' Canada', 'Gazetteer': 'OSM'}, {'LocationName': 'Storm Bay, Area B (Halfmoon Bay), Sunshine Coast Regional District, British Columbia, Canada', 'Category': 'bay', 'Latitude': '49.66505075', 'Longitude': '-123.82468428626042', 'PartOf': ' Canada', 'Gazetteer': 'OSM'}, {'LocationName': 'Storm Bay, New South Wales, 2533, Australia', 'Category': 'bay', 'Latitude': '-34.6763083', 'Longitude': '150.8563045', 'PartOf': ' Australia', 'Gazetteer': 'OSM'}, {'LocationName': 'Storm Bay, Leeuwin, Shire Of Augusta Margaret River, Western Australia, Australia', 'Category': 'beach', 'Latitude': '-34.34710185', 'Longitude': '115.1684147995006', 'PartOf': ' Australia', 'Gazetteer': 'OSM'}, {'LocationName': 'Storm Bay', 'Category': 'bay', 'Longitude': '145.214859', 'Latitude': '-38.52791595', 'PartOf': 'VIC', 'Gazetteer': 'TLCMap'}]\n",
      "looking for Storing Island\n"
     ]
    },
    {
     "name": "stdout",
     "output_type": "stream",
     "text": [
      "[]\n",
      "looking for Sorrell\n",
      "[{'LocationName': 'Sorrell, Caroline County, Virginia, United States', 'Category': 'hamlet', 'Latitude': '37.9543033', 'Longitude': '-77.1958098', 'PartOf': ' United States', 'Gazetteer': 'OSM'}, {'LocationName': 'Sorrell, Sullivan County, Missouri, United States', 'Category': 'hamlet', 'Latitude': '40.2150201', 'Longitude': '-93.0204848', 'PartOf': ' United States', 'Gazetteer': 'OSM'}, {'LocationName': 'Sorrell, Red Oak, Ellis County, Texas, 75154, United States', 'Category': 'residential', 'Latitude': '32.5234174', 'Longitude': '-96.8170835', 'PartOf': ' United States', 'Gazetteer': 'OSM'}, {'LocationName': 'Sorrell, Hubert, Onslow County, North Carolina, 28539, United States', 'Category': 'residential', 'Latitude': '34.6957312', 'Longitude': '-77.2180922', 'PartOf': ' United States', 'Gazetteer': 'OSM'}, {'LocationName': 'Sorrell, Little Hallfield Road, The Groves, Layerthorpe, York, England, YO31 7XP, United Kingdom', 'Category': 'industrial', 'Latitude': '53.961450600000006', 'Longitude': '-1.0665293366389048', 'PartOf': ' United Kingdom', 'Gazetteer': 'OSM'}]\n",
      "looking for Bruny Island\n",
      "[{'LocationName': 'Bruny Island, Alonnah, Kingborough, Tasmania, Australia', 'Category': 'island', 'Latitude': '-43.2898931', 'Longitude': '147.2890737745002', 'PartOf': ' Australia', 'Gazetteer': 'OSM'}, {'LocationName': 'Bruny Island', 'Category': 'island1', 'Longitude': '147.2799988', 'Latitude': '-43.29000092', 'PartOf': 'TAS', 'Gazetteer': 'TLCMap'}]\n",
      "looking for Mount Royal\n",
      "[{'LocationName': 'Mount Royal, Lot 6, Prince County, Prince Edward Island, Canada', 'Category': 'administrative', 'Latitude': '46.6836433', 'Longitude': '-64.2583205', 'PartOf': ' Canada', 'Gazetteer': 'OSM'}, {'LocationName': 'Mont-Royal, Montréal, Agglomération de Montréal, Montréal (06), Québec, H3A 2B7, Canada', 'Category': 'peak', 'Latitude': '45.5085881', 'Longitude': '-73.5897111', 'PartOf': ' Canada', 'Gazetteer': 'OSM'}, {'LocationName': 'Mont-Royal, Agglomération de Montréal, Montréal (06), Québec, Canada', 'Category': 'administrative', 'Latitude': '45.5143668', 'Longitude': '-73.6439247', 'PartOf': ' Canada', 'Gazetteer': 'OSM'}, {'LocationName': 'Mount Royal, Anniston, Calhoun County, Alabama, 36207, United States', 'Category': 'peak', 'Latitude': '33.6634371', 'Longitude': '-85.791353', 'PartOf': ' United States', 'Gazetteer': 'OSM'}, {'LocationName': 'Mount Royal, Town of Conesville, Schoharie County, New York, United States', 'Category': 'peak', 'Latitude': '42.367304', 'Longitude': '-74.4251472', 'PartOf': ' United States', 'Gazetteer': 'OSM'}, {'LocationName': 'Mount Royal', 'Category': 'Mountain', 'Longitude': '147.2200012', 'Latitude': '-43.25999832', 'PartOf': 'TAS', 'Gazetteer': 'TLCMap'}]\n",
      "looking for D'Entrecasteaux Channel\n",
      "[{'LocationName': \"D'Entrecasteaux Channel, Middleton, Kingborough, Tasmania, 7150, Australia\", 'Category': 'strait', 'Latitude': '-43.23647525', 'Longitude': '147.3052940560143', 'PartOf': ' Australia', 'Gazetteer': 'OSM'}, {'LocationName': \"D'Entrecasteaux Channel\", 'Category': 'Channel1', 'Longitude': '147.2599945', 'Latitude': '-43.25999832', 'PartOf': 'TAS', 'Gazetteer': 'TLCMap'}]\n",
      "looking for Actaeon\n",
      "[{'LocationName': 'Tweedelig hert, Mansholtlaan, Leeuwen, Wageningen, Gelderland, Nederland, 6708 PH, Nederland', 'Category': 'artwork', 'Latitude': '51.9864345', 'Longitude': '5.6694395', 'PartOf': ' Nederland', 'Gazetteer': 'OSM'}]\n",
      "looking for the South Cape\n",
      "[{'LocationName': 'Cape, Pipers Road, Park Farm South, Woodrow, Redditch, Worcestershire, England, B98 0HU, United Kingdom', 'Category': 'industrial', 'Latitude': '52.2840847', 'Longitude': '-1.9055396710979262', 'PartOf': ' United Kingdom', 'Gazetteer': 'OSM'}]\n",
      "looking for New Norfolk\n",
      "[{'LocationName': 'New Norfolk, Derwent Valley, Tasmania, Australia', 'Category': 'administrative', 'Latitude': '-42.7801998', 'Longitude': '147.0615332', 'PartOf': ' Australia', 'Gazetteer': 'OSM'}, {'LocationName': 'New Norfolk, Station Street, New Norfolk, Derwent Valley, Tasmania, Australia', 'Category': 'station', 'Latitude': '-42.7760355', 'Longitude': '147.05581769761721', 'PartOf': ' Australia', 'Gazetteer': 'OSM'}, {'LocationName': 'New Norfolk', 'Category': 'locality (bounded)', 'Longitude': '147.0500031', 'Latitude': '-42.77999878', 'PartOf': 'TAS', 'Gazetteer': 'TLCMap'}]\n",
      "looking for Derwent\n",
      "[{'LocationName': 'Derwent, High Peak, Derbyshire, England, S33 0AX, United Kingdom', 'Category': 'administrative', 'Latitude': '53.39788105', 'Longitude': '-1.7078207528115286', 'PartOf': ' United Kingdom', 'Gazetteer': 'OSM'}, {'LocationName': 'Derwent, Yorkshire Bridge, Bamford, High Peak, Derbyshire, England, S33 0BY, United Kingdom', 'Category': 'river', 'Latitude': '53.3674775', 'Longitude': '-1.7013735', 'PartOf': ' United Kingdom', 'Gazetteer': 'OSM'}, {'LocationName': 'Derwent, Hope Woodlands, High Peak, Derbyshire, England, S33 0BY, United Kingdom', 'Category': 'river', 'Latitude': '53.3645119', 'Longitude': '-1.7020654', 'PartOf': ' United Kingdom', 'Gazetteer': 'OSM'}, {'LocationName': 'Derwent, Guernsey County, Ohio, 43733, United States', 'Category': 'hamlet', 'Latitude': '39.9231278', 'Longitude': '-81.5442893', 'PartOf': ' United States', 'Gazetteer': 'OSM'}, {'LocationName': 'Derwent, County of Two Hills, Alberta, Canada', 'Category': 'hamlet', 'Latitude': '53.6543655', 'Longitude': '-110.9657492', 'PartOf': ' Canada', 'Gazetteer': 'OSM'}, {'LocationName': 'Derwent', 'Category': 'parish', 'Longitude': '140.66666666666666', 'Latitude': '-21.7', 'PartOf': 'QLD', 'Gazetteer': 'TLCMap'}]\n",
      "looking for the Southern Ocean\n",
      "[{'LocationName': 'ocean, Παπαβασιλείου, Νάξος, Δήμος Νάξου και Μικρών Κυκλάδων, Περιφερειακή Ενότητα Νάξου, Περιφέρεια Νοτίου Αιγαίου, Αποκεντρωμένη Διοίκηση Αιγαίου, 843 00, Ελλάς', 'Category': 'nightclub', 'Latitude': '37.1034349', 'Longitude': '25.3748431', 'PartOf': ' Ελλάς', 'Gazetteer': 'OSM'}]\n",
      "looking for Tamar\n",
      "[{'LocationName': 'تدمر, ناحية تدمر, منطقة تدمر, محافظة حمص, سوريا', 'Category': 'town', 'Latitude': '34.5560155', 'Longitude': '38.2809746', 'PartOf': ' سوريا', 'Gazetteer': 'OSM'}, {'LocationName': 'Tamar, Tolmin, 5243, Slovenija', 'Category': 'peak', 'Latitude': '46.2181038', 'Longitude': '13.9659246', 'PartOf': ' Slovenija', 'Gazetteer': 'OSM'}, {'LocationName': 'Tamar, Majhgawan Tahsil, Satna, Madhya Pradesh, India', 'Category': 'village', 'Latitude': '24.8828759', 'Longitude': '80.997167', 'PartOf': ' India', 'Gazetteer': 'OSM'}, {'LocationName': 'Tamar, Tamar I, Ranchi, Jharkhand, 835225, India', 'Category': 'village', 'Latitude': '23.0508104', 'Longitude': '85.65307', 'PartOf': ' India', 'Gazetteer': 'OSM'}, {'LocationName': 'Tamar, Maguindanao, Bangsamoro, Pilipinas / Philippines', 'Category': 'village', 'Latitude': '6.9639579', 'Longitude': '124.3362665', 'PartOf': ' Pilipinas / Philippines', 'Gazetteer': 'OSM'}, {'LocationName': 'Tamar', 'Category': 'homestead', 'Longitude': '118.1174', 'Latitude': '-34.86101', 'PartOf': 'WA', 'Gazetteer': 'TLCMap'}]\n",
      "looking for Port Philip Bay\n",
      "[{'LocationName': 'Yarra Bay Beach, Phillip Bay, Eastern Suburbs, Sydney, Randwick City Council, New South Wales, 2036, Australia', 'Category': 'beach', 'Latitude': '-33.97894325', 'Longitude': '151.22918594272664', 'PartOf': ' Australia', 'Gazetteer': 'OSM'}, {'LocationName': 'Yarra Bay Bicentennial Park, Phillip Bay, Eastern Suburbs, Sydney, Randwick City Council, New South Wales, 2036, Australia', 'Category': 'park', 'Latitude': '-33.977710200000004', 'Longitude': '151.22932069489116', 'PartOf': ' Australia', 'Gazetteer': 'OSM'}]\n",
      "looking for Dromedary\n",
      "[{'LocationName': 'Dromedary, Central Highlands Regional, Queensland, Australia', 'Category': 'administrative', 'Latitude': '-24.5859245', 'Longitude': '149.14648539120373', 'PartOf': ' Australia', 'Gazetteer': 'OSM'}, {'LocationName': 'Dromedary, New Zealand / Aotearoa', 'Category': 'peak', 'Latitude': '-50.793525', 'Longitude': '166.0213152', 'PartOf': ' New Zealand / Aotearoa', 'Gazetteer': 'OSM'}, {'LocationName': 'Dromedary, Central Highlands Regional, Queensland, Australia', 'Category': 'locality', 'Latitude': '-24.58722', 'Longitude': '149.12139', 'PartOf': ' Australia', 'Gazetteer': 'OSM'}, {'LocationName': 'Dromedary, Hobart, Brighton, Tasmania, 7030, Australia', 'Category': 'administrative', 'Latitude': '-42.73886', 'Longitude': '147.16954', 'PartOf': ' Australia', 'Gazetteer': 'OSM'}, {'LocationName': 'Wielbłąd jednogarbny, 1-5, Zygmunta Wróblewskiego, Wittigowo, Dąbie, Osiedle Biskupin-Sępolno-Dąbie-Bartoszowice, Wrocław, województwo dolnośląskie, 51-618, Polska', 'Category': 'attraction', 'Latitude': '51.1051282', 'Longitude': '17.0774613', 'PartOf': ' Polska', 'Gazetteer': 'OSM'}, {'LocationName': 'Dromedary', 'Category': 'parish', 'Longitude': '149.15', 'Latitude': '-24.55', 'PartOf': 'QLD', 'Gazetteer': 'TLCMap'}]\n",
      "looking for Mount Wellington\n"
     ]
    },
    {
     "name": "stdout",
     "output_type": "stream",
     "text": [
      "[{'LocationName': 'kunanyi / Mount Wellington, City of Hobart, Tasmania, Australia', 'Category': 'peak', 'Latitude': '-42.896007', 'Longitude': '147.2373052', 'PartOf': ' Australia', 'Gazetteer': 'OSM'}, {'LocationName': 'Mount Wellington, Town of Springfield, Otsego County, New York, 13468, United States', 'Category': 'peak', 'Latitude': '42.8053512', 'Longitude': '-74.8732068', 'PartOf': ' United States', 'Gazetteer': 'OSM'}, {'LocationName': 'Mount Wellington, Area A (Egmont/Pender Harbour), Sunshine Coast Regional District, British Columbia, Canada', 'Category': 'peak', 'Latitude': '50.1389052', 'Longitude': '-123.9495681', 'PartOf': ' Canada', 'Gazetteer': 'OSM'}, {'LocationName': 'Mount Wellington, Clarence Valley Council, New South Wales, Australia', 'Category': 'peak', 'Latitude': '-29.7009047', 'Longitude': '152.3844946', 'PartOf': ' Australia', 'Gazetteer': 'OSM'}, {'LocationName': 'Mount Wellington, Livingstone Shire, Queensland, Australia', 'Category': 'peak', 'Latitude': '-22.6008333', 'Longitude': '149.8980556', 'PartOf': ' Australia', 'Gazetteer': 'OSM'}, {'LocationName': 'Mount Wellington', 'Category': 'mountain', 'Longitude': '152.38444444444443', 'Latitude': '-29.698333333333334', 'PartOf': 'NSW', 'Gazetteer': 'TLCMap'}]\n",
      "looking for Launceston\n",
      "[{'LocationName': 'Launceston, City of Launceston, Tasmania, 7250, Australia', 'Category': 'administrative', 'Latitude': '-41.4340813', 'Longitude': '147.1373496', 'PartOf': ' Australia', 'Gazetteer': 'OSM'}, {'LocationName': 'Launceston, City of Launceston, Tasmania, Australia', 'Category': 'administrative', 'Latitude': '-41.4340813', 'Longitude': '147.1373496', 'PartOf': ' Australia', 'Gazetteer': 'OSM'}, {'LocationName': 'Launceston, Cornwall, England, United Kingdom', 'Category': 'administrative', 'Latitude': '50.6365062', 'Longitude': '-4.3604432', 'PartOf': ' United Kingdom', 'Gazetteer': 'OSM'}, {'LocationName': 'City of Launceston, Tasmania, Australia', 'Category': 'administrative', 'Latitude': '-41.320994', 'Longitude': '147.27312884087405', 'PartOf': ' Australia', 'Gazetteer': 'OSM'}, {'LocationName': 'Launceston, Tredydan Road, Launceston, Cornwall, England, PL15 8JA, United Kingdom', 'Category': 'station', 'Latitude': '50.6404065', 'Longitude': '-4.3648051', 'PartOf': ' United Kingdom', 'Gazetteer': 'OSM'}, {'LocationName': 'Launceston', 'Category': 'city', 'Longitude': '147.1399994', 'Latitude': '-41.43999863', 'PartOf': 'TAS', 'Gazetteer': 'TLCMap'}]\n",
      "looking for Smyrna\n",
      "[{'LocationName': 'İzmir, Konak, İzmir, Ege Bölgesi, 00000, Türkiye', 'Category': 'city', 'Latitude': '38.4224548', 'Longitude': '27.1310699', 'PartOf': ' Türkiye', 'Gazetteer': 'OSM'}, {'LocationName': 'Smyrna, Kent County, Delaware, 19977, United States', 'Category': 'administrative', 'Latitude': '39.2998339', 'Longitude': '-75.6046494', 'PartOf': ' United States', 'Gazetteer': 'OSM'}, {'LocationName': 'Smyrna, Cobb County, Georgia, United States', 'Category': 'administrative', 'Latitude': '33.883887', 'Longitude': '-84.5147454', 'PartOf': ' United States', 'Gazetteer': 'OSM'}, {'LocationName': 'Smyrna, Rutherford County, Tennessee, 37167, United States', 'Category': 'town', 'Latitude': '35.9824598', 'Longitude': '-86.5199492', 'PartOf': ' United States', 'Gazetteer': 'OSM'}, {'LocationName': 'Village of Smyrna, Town of Smyrna, Chenango County, New York, United States', 'Category': 'administrative', 'Latitude': '42.6872921', 'Longitude': '-75.5707376', 'PartOf': ' United States', 'Gazetteer': 'OSM'}]\n",
      "looking for Pyramid Island\n",
      "[{'LocationName': 'Pyramid Island, Haines, Alaska, United States', 'Category': 'islet', 'Latitude': '59.19742285', 'Longitude': '-135.4572064523979', 'PartOf': ' United States', 'Gazetteer': 'OSM'}, {'LocationName': 'Pyramid Island, Aleutians West Census Area, Alaska, United States', 'Category': 'islet', 'Latitude': '51.964949', 'Longitude': '178.31201332614398', 'PartOf': ' United States', 'Gazetteer': 'OSM'}, {'LocationName': 'Pyramid Island', 'Category': 'islet', 'Latitude': '-62.417425699999995', 'Longitude': '-60.10306847698165', 'PartOf': 'Pyramid Island', 'Gazetteer': 'OSM'}, {'LocationName': 'Pyramid Island, Falkland Islands', 'Category': 'islet', 'Latitude': '-52.002637750000005', 'Longitude': '-58.60553695423977', 'PartOf': ' Falkland Islands', 'Gazetteer': 'OSM'}, {'LocationName': 'Pyramid Island, Migori, Nyanza, Kenya', 'Category': 'island', 'Latitude': '-0.90142105', 'Longitude': '33.93945448162722', 'PartOf': ' Kenya', 'Gazetteer': 'OSM'}, {'LocationName': 'Pyramid Island', 'Category': 'Island', 'Longitude': '147.2299957', 'Latitude': '-39.81999969', 'PartOf': 'TAS', 'Gazetteer': 'TLCMap'}]\n",
      "looking for Rocky Point\n",
      "[{'LocationName': 'Rocky Point, Town of Brookhaven, Suffolk County, New York, 11778, United States', 'Category': 'administrative', 'Latitude': '40.9525987', 'Longitude': '-72.9253805', 'PartOf': ' United States', 'Gazetteer': 'OSM'}, {'LocationName': 'Rocky Point, Maricopa County, Arizona, United States', 'Category': 'hamlet', 'Latitude': '32.5336665', 'Longitude': '-112.8482119', 'PartOf': ' United States', 'Gazetteer': 'OSM'}, {'LocationName': 'Rocky Point, Rural Municipality of Afton, Queens County, Prince Edward Island, Canada', 'Category': 'administrative', 'Latitude': '46.2024075', 'Longitude': '-63.1505008', 'PartOf': ' Canada', 'Gazetteer': 'OSM'}, {'LocationName': 'Rocky Point, Lake County, Montana, United States', 'Category': 'locality', 'Latitude': '47.731189', 'Longitude': '-114.18882405182927', 'PartOf': ' United States', 'Gazetteer': 'OSM'}, {'LocationName': 'Rocky Point, Westfield, Hampden County, Massachusetts, United States', 'Category': 'peak', 'Latitude': '42.1153704', 'Longitude': '-72.853709', 'PartOf': ' United States', 'Gazetteer': 'OSM'}, {'LocationName': 'Rocky Point', 'Category': 'point', 'Longitude': '153.5511111111111', 'Latitude': '-28.215', 'PartOf': 'NSW', 'Gazetteer': 'TLCMap'}]\n",
      "looking for Port Davey\n",
      "[{'LocationName': 'Port Davey, Huon Valley, Tasmania, Australia', 'Category': 'bay', 'Latitude': '-43.2729083', 'Longitude': '145.94968056120592', 'PartOf': ' Australia', 'Gazetteer': 'OSM'}, {'LocationName': 'Port Davey', 'Category': 'Bay', 'Longitude': '145.9100037', 'Latitude': '-43.33000183', 'PartOf': 'TAS', 'Gazetteer': 'TLCMap'}]\n",
      "looking for Mount Direction\n",
      "[{'LocationName': 'Mount Direction, Etheridge Shire, Queensland, Australia', 'Category': 'peak', 'Latitude': '-17.9786111', 'Longitude': '143.8775', 'PartOf': ' Australia', 'Gazetteer': 'OSM'}, {'LocationName': 'Mount Direction, George Town, Tasmania, Australia', 'Category': 'administrative', 'Latitude': '-41.24326', 'Longitude': '147.01687', 'PartOf': ' Australia', 'Gazetteer': 'OSM'}, {'LocationName': 'Mount Direction, Shire of Pyrenees, Victoria, Australia', 'Category': 'peak', 'Latitude': '-37.18681', 'Longitude': '143.33393', 'PartOf': ' Australia', 'Gazetteer': 'OSM'}, {'LocationName': 'Mount Direction, George Town, Tasmania, Australia', 'Category': 'peak', 'Latitude': '-41.24125', 'Longitude': '147.03311', 'PartOf': ' Australia', 'Gazetteer': 'OSM'}, {'LocationName': 'Mount Direction, Hobart, City of Clarence, Tasmania, 7017, Australia', 'Category': 'peak', 'Latitude': '-42.797977', 'Longitude': '147.3077395', 'PartOf': ' Australia', 'Gazetteer': 'OSM'}, {'LocationName': 'Mount Direction', 'Category': 'mountain', 'Longitude': '149.7011111111111', 'Latitude': '-31.698333333333334', 'PartOf': 'NSW', 'Gazetteer': 'TLCMap'}]\n",
      "looking for Macquarie Harbour\n",
      "[{'LocationName': 'Macquarie Harbour, Strahan, West Coast, Tasmania, Australia', 'Category': 'bay', 'Latitude': '-42.33770255', 'Longitude': '145.403673139089', 'PartOf': ' Australia', 'Gazetteer': 'OSM'}, {'LocationName': 'Macquarie Harbour', 'Category': 'Harbour', 'Longitude': '145.3600006', 'Latitude': '-42.29999924', 'PartOf': 'TAS', 'Gazetteer': 'TLCMap'}]\n",
      "looking for Mount Heemskirk\n",
      "[{'LocationName': 'Mount Heemskirk, West Coast, Tasmania, Australia', 'Category': 'peak', 'Latitude': '-41.85185', 'Longitude': '145.17221', 'PartOf': ' Australia', 'Gazetteer': 'OSM'}, {'LocationName': 'Mount Heemskirk', 'Category': 'mountain', 'Longitude': '145.1699982', 'Latitude': '-41.84999847', 'PartOf': 'TAS', 'Gazetteer': 'TLCMap'}]\n",
      "looking for Mount Zeehan\n"
     ]
    },
    {
     "name": "stdout",
     "output_type": "stream",
     "text": [
      "[{'LocationName': 'Mount Zeehan, Zeehan, West Coast, Tasmania, 7469, Australia', 'Category': 'peak', 'Latitude': '-41.9267', 'Longitude': '145.3229', 'PartOf': ' Australia', 'Gazetteer': 'OSM'}, {'LocationName': 'Mount Zeehan', 'Category': 'hill', 'Longitude': '145.3200073', 'Latitude': '-41.91999817', 'PartOf': 'TAS', 'Gazetteer': 'TLCMap'}]\n",
      "looking for King's River\n",
      "[{'LocationName': \"King's River, County Kilkenny, Leinster, R95 HE17, Éire / Ireland\", 'Category': 'river', 'Latitude': '52.536908', 'Longitude': '-7.3401677', 'PartOf': ' Éire / Ireland', 'Gazetteer': 'OSM'}, {'LocationName': \"King's River, Mullinahone, The Municipal District of Carrick-on-Suir, County Tipperary, Munster, Éire / Ireland\", 'Category': 'river', 'Latitude': '52.529434', 'Longitude': '-7.4677341', 'PartOf': ' Éire / Ireland', 'Gazetteer': 'OSM'}, {'LocationName': \"King's River, Modeshil, The Municipal District of Carrick-on-Suir, County Tipperary, Munster, Éire / Ireland\", 'Category': 'river', 'Latitude': '52.5425973', 'Longitude': '-7.489768', 'PartOf': ' Éire / Ireland', 'Gazetteer': 'OSM'}, {'LocationName': \"King's River, Kells, The Municipal District of Callan — Thomastown, County Kilkenny, Leinster, R95 EFR9, Éire / Ireland\", 'Category': 'river', 'Latitude': '52.5403557', 'Longitude': '-7.2580667', 'PartOf': ' Éire / Ireland', 'Gazetteer': 'OSM'}, {'LocationName': \"King's River, Callan Rural, The Municipal District of Callan — Thomastown, County Kilkenny, Leinster, R95 Y640, Éire / Ireland\", 'Category': 'river', 'Latitude': '52.5345398', 'Longitude': '-7.3639866', 'PartOf': ' Éire / Ireland', 'Gazetteer': 'OSM'}]\n",
      "looking for Sarah Island\n",
      "[{'LocationName': 'Sarah Island, West Coast, Tasmania, Australia', 'Category': 'attraction', 'Latitude': '-42.3895803', 'Longitude': '145.4473843', 'PartOf': ' Australia', 'Gazetteer': 'OSM'}, {'LocationName': 'Sarah Island, Hingham, Plymouth County, Massachusetts, United States', 'Category': 'islet', 'Latitude': '42.25787595', 'Longitude': '-70.88530562994794', 'PartOf': ' United States', 'Gazetteer': 'OSM'}, {'LocationName': 'ᐅᑲᓕᐊᕐᔪᒃ Sarah Island, ᕿᑭᖅᑖᓗᒃ Qikiqtaaluk Region, ᓄᓇᕗᑦ Nunavut, Canada', 'Category': 'island', 'Latitude': '63.20785695', 'Longitude': '-64.54777755281438', 'PartOf': ' Canada', 'Gazetteer': 'OSM'}, {'LocationName': 'Sarah Island, Town of Bolton, Warren County, New York, United States', 'Category': 'islet', 'Latitude': '43.58316255', 'Longitude': '-73.57714508862614', 'PartOf': ' United States', 'Gazetteer': 'OSM'}, {'LocationName': 'Sarah Island, Unorganized Thunder Bay District, Thunder Bay District, Northwestern Ontario, Ontario, Canada', 'Category': 'islet', 'Latitude': '48.544094', 'Longitude': '-88.36470013398821', 'PartOf': ' Canada', 'Gazetteer': 'OSM'}, {'LocationName': 'Sarah Island', 'Category': 'island1', 'Longitude': '145.4400024', 'Latitude': '-42.38000107', 'PartOf': 'TAS', 'Gazetteer': 'TLCMap'}]\n",
      "looking for Philip's Island\n",
      "[{'LocationName': \"Saint Philip's Baptist Church, 77, Bennett Street, Port Richmond, Staten Island, City of New York, New York, 10302, United States\", 'Category': 'place_of_worship', 'Latitude': '40.6377174', 'Longitude': '-74.13135692832495', 'PartOf': ' United States', 'Gazetteer': 'OSM'}, {'LocationName': \"King Philip's Remains, Haile Street, Warren, Bristol County, Rhode Island, 02885, United States\", 'Category': 'memorial', 'Latitude': '41.7229465', 'Longitude': '-71.2835099', 'PartOf': ' United States', 'Gazetteer': 'OSM'}, {'LocationName': 'Philip Street, Wapping Wharf, Windmill Hill, Bristol, City of Bristol, West of England, England, BS3 4DR, United Kingdom', 'Category': 'unclassified', 'Latitude': '51.4427857', 'Longitude': '-2.5929537', 'PartOf': ' United Kingdom', 'Gazetteer': 'OSM'}, {'LocationName': \"St Philip's Road, Saint Vincent's, Philadelphia, Sheffield, South Yorkshire, Sheffield City Region, England, S3 7JZ, United Kingdom\", 'Category': 'tertiary', 'Latitude': '53.3898938', 'Longitude': '-1.4798071', 'PartOf': ' United Kingdom', 'Gazetteer': 'OSM'}, {'LocationName': \"St. Philip's Lane, Saint Vincent's, Philadelphia, Sheffield, South Yorkshire, Sheffield City Region, England, S3 7JZ, United Kingdom\", 'Category': 'residential', 'Latitude': '53.3895222', 'Longitude': '-1.4796846', 'PartOf': ' United Kingdom', 'Gazetteer': 'OSM'}]\n",
      "looking for Hobart Town\n",
      "[{'LocationName': 'Village of Hobart, Town of Stamford, Delaware County, New York, United States', 'Category': 'administrative', 'Latitude': '42.3714704', 'Longitude': '-74.6704311', 'PartOf': ' United States', 'Gazetteer': 'OSM'}]\n",
      "looking for earth\n",
      "[{'LocationName': 'Earth, Lamb County, Texas, United States', 'Category': 'administrative', 'Latitude': '34.2331373', 'Longitude': '-102.4107493', 'PartOf': ' United States', 'Gazetteer': 'OSM'}, {'LocationName': 'Earth, Calle Los Castillo, Dulce Nombre, Río Jiménez, Cantón Guácimo, Provincia Limón, 70604, Costa Rica', 'Category': 'university', 'Latitude': '10.21990825', 'Longitude': '-83.59177371174943', 'PartOf': ' Costa Rica', 'Gazetteer': 'OSM'}, {'LocationName': 'earth, Chaloupky, okres Beroun, Střední Čechy, 267 62, Česko', 'Category': 'track', 'Latitude': '49.7933447', 'Longitude': '13.8667052', 'PartOf': ' Česko', 'Gazetteer': 'OSM'}, {'LocationName': 'earth, Miličín, okres Benešov, Střední Čechy, 257 86, Česko', 'Category': 'track', 'Latitude': '49.5904859', 'Longitude': '14.6651358', 'PartOf': ' Česko', 'Gazetteer': 'OSM'}, {'LocationName': 'earth, Klášter u Vilémova, Vilémov, okres Havlíčkův Brod, Kraj Vysočina, Jihovýchod, 582 83, Česko', 'Category': 'track', 'Latitude': '49.802872', 'Longitude': '15.5172618', 'PartOf': ' Česko', 'Gazetteer': 'OSM'}]\n",
      "looking for south-east\n",
      "[{'LocationName': 'South-East District, Botswana', 'Category': 'administrative', 'Latitude': '-24.9902332', 'Longitude': '25.726402352052464', 'PartOf': ' Botswana', 'Gazetteer': 'OSM'}, {'LocationName': 'Département du Sud-Est, Ayiti', 'Category': 'administrative', 'Latitude': '18.2973566', 'Longitude': '-72.3745698', 'PartOf': ' Ayiti', 'Gazetteer': 'OSM'}, {'LocationName': 'Sud-Est, România', 'Category': 'administrative', 'Latitude': '44.97028655', 'Longitude': '28.282042663820434', 'PartOf': ' România', 'Gazetteer': 'OSM'}, {'LocationName': 'South East Constituency 1947, Dublin, Dún Laoghaire-Rathdown, Dublin 4, Leinster, Éire / Ireland', 'Category': 'political', 'Latitude': '53.3262506', 'Longitude': '-6.236059861357543', 'PartOf': ' Éire / Ireland', 'Gazetteer': 'OSM'}, {'LocationName': 'South East, York Springs, Adams County, Pennsylvania, 17372, United States', 'Category': 'residential', 'Latitude': '40.006443', 'Longitude': '-77.113805', 'PartOf': ' United States', 'Gazetteer': 'OSM'}]\n",
      "looking for Ladybird\n",
      "[{'LocationName': 'Ladybird, 70, Upper Street, Angel, Highbury, London Borough of Islington, London, Greater London, England, N1 2XQ, United Kingdom', 'Category': 'bar', 'Latitude': '51.5360577', 'Longitude': '-0.1038735', 'PartOf': ' United Kingdom', 'Gazetteer': 'OSM'}, {'LocationName': 'Ladybird, Place Louis Barthou, Saint-Genès, Nansouty - Saint-Genès, Bordeaux, Gironde, Nouvelle-Aquitaine, France métropolitaine, 33000, France', 'Category': 'convenience', 'Latitude': '44.8216508', 'Longitude': '-0.5827753', 'PartOf': ' France', 'Gazetteer': 'OSM'}, {'LocationName': 'Ladybird, Fore Street, Redruth, Cornwall, England, TR15 2AL, United Kingdom', 'Category': 'gift', 'Latitude': '50.233202399999996', 'Longitude': '-5.228724001225023', 'PartOf': ' United Kingdom', 'Gazetteer': 'OSM'}, {'LocationName': 'Ladybird, George Varghese Lane, Elamkulam, Ernakulam, Kanayannur, Ernakulam district, Kerala, 682020, India', 'Category': 'tailor', 'Latitude': '9.9642514', 'Longitude': '76.3020845', 'PartOf': ' India', 'Gazetteer': 'OSM'}, {'LocationName': 'Ladybird, London Street, Lyttelton, Banks Peninsula Community, Christchurch City, Canterbury, 8082, New Zealand / Aotearoa', 'Category': 'clothes', 'Latitude': '-43.6020782', 'Longitude': '172.7198237', 'PartOf': ' New Zealand / Aotearoa', 'Gazetteer': 'OSM'}]\n",
      "looking for Commandant\n",
      "[]\n",
      "looking for Port Arthur\n",
      "[{'LocationName': 'Port Arthur, Jefferson County, Texas, United States', 'Category': 'administrative', 'Latitude': '29.8988618', 'Longitude': '-93.9288723', 'PartOf': ' United States', 'Gazetteer': 'OSM'}, {'LocationName': 'Port Arthur, Tasman, Tasmania, 7182, Australia', 'Category': 'administrative', 'Latitude': '-43.1435301', 'Longitude': '147.8440404', 'PartOf': ' Australia', 'Gazetteer': 'OSM'}, {'LocationName': '大连市, 青泥洼桥街道, 中山区, 大连市, 辽宁省, 116001, 中国', 'Category': 'city', 'Latitude': '38.9181714', 'Longitude': '121.6282945', 'PartOf': ' 中国', 'Gazetteer': 'OSM'}, {'LocationName': 'Port Arthur, Keskusta, Turku, Turun seutukunta, Varsinais-Suomi, Lounais-Suomen aluehallintovirasto, Manner-Suomi, 20100, Suomi / Finland', 'Category': 'suburb', 'Latitude': '60.4468775', 'Longitude': '22.2444076', 'PartOf': ' Suomi / Finland', 'Gazetteer': 'OSM'}, {'LocationName': 'Port Arthur, Thunder Bay, Thunder Bay District, Northwestern Ontario, Ontario, P7A 4K9, Canada', 'Category': 'suburb', 'Latitude': '48.4348261', 'Longitude': '-89.2194423', 'PartOf': ' Canada', 'Gazetteer': 'OSM'}, {'LocationName': 'Port Arthur', 'Category': 'locality (bounded)', 'Longitude': '138.06368', 'Latitude': '-34.14898', 'PartOf': 'SA', 'Gazetteer': 'TLCMap'}]\n",
      "looking for Arthur\n"
     ]
    },
    {
     "name": "stdout",
     "output_type": "stream",
     "text": [
      "[{'LocationName': 'Arthur County, Nebraska, 69121, United States', 'Category': 'administrative', 'Latitude': '41.5721288', 'Longitude': '-101.6974898', 'PartOf': ' United States', 'Gazetteer': 'OSM'}, {'LocationName': 'Arthur, Ida County, Iowa, United States', 'Category': 'administrative', 'Latitude': '42.3353', 'Longitude': '-95.3475647', 'PartOf': ' United States', 'Gazetteer': 'OSM'}, {'LocationName': 'Arthur, Douglas County, Illinois, United States', 'Category': 'administrative', 'Latitude': '39.7147552', 'Longitude': '-88.472278', 'PartOf': ' United States', 'Gazetteer': 'OSM'}, {'LocationName': 'Arthur, Cass County, North Dakota, United States', 'Category': 'administrative', 'Latitude': '47.1041435', 'Longitude': '-97.2181431', 'PartOf': ' United States', 'Gazetteer': 'OSM'}, {'LocationName': 'Arthur, Arthur County, Nebraska, 69121, United States', 'Category': 'administrative', 'Latitude': '41.5706962', 'Longitude': '-101.6914885', 'PartOf': ' United States', 'Gazetteer': 'OSM'}, {'LocationName': 'Arthur', 'Category': 'parish', 'Longitude': '149.8011111111111', 'Latitude': '-32.681666666666665', 'PartOf': 'NSW', 'Gazetteer': 'TLCMap'}]\n",
      "looking for Hells Gates\n",
      "[{'LocationName': 'Hells Gates, New South Wales, 2898, Australia', 'Category': 'bay', 'Latitude': '-31.518396', 'Longitude': '159.0721965', 'PartOf': ' Australia', 'Gazetteer': 'OSM'}, {'LocationName': 'Hells Gates, Tasmania, Australia', 'Category': 'strait', 'Latitude': '-42.2101271', 'Longitude': '145.2142261', 'PartOf': ' Australia', 'Gazetteer': 'OSM'}, {'LocationName': \"Hells Gates, Douglas Parish, York County / Comté d'York, New Brunswick / Nouveau-Brunswick, Canada\", 'Category': 'water', 'Latitude': '46.2939985', 'Longitude': '-66.8910642', 'PartOf': ' Canada', 'Gazetteer': 'OSM'}, {'LocationName': 'Hells Gates', 'Category': 'channel', 'Longitude': '151.96777777777777', 'Latitude': '-32.531666666666666', 'PartOf': 'NSW', 'Gazetteer': 'TLCMap'}]\n",
      "looking for England\n",
      "[{'LocationName': 'England, United Kingdom', 'Category': 'administrative', 'Latitude': '52.5310214', 'Longitude': '-1.2649062', 'PartOf': ' United Kingdom', 'Gazetteer': 'OSM'}, {'LocationName': 'Worcester, Worcestershire, England, United Kingdom', 'Category': 'administrative', 'Latitude': '52.1911849', 'Longitude': '-2.2206585', 'PartOf': ' United Kingdom', 'Gazetteer': 'OSM'}, {'LocationName': 'England, Lonoke County, Arkansas, United States', 'Category': 'administrative', 'Latitude': '34.5442609', 'Longitude': '-91.9690285', 'PartOf': ' United States', 'Gazetteer': 'OSM'}, {'LocationName': 'England, Nordstrand, Nordsee-Treene, Nordfriesland, Schleswig-Holstein, 25845, Deutschland', 'Category': 'neighbourhood', 'Latitude': '54.495797', 'Longitude': '8.8784857', 'PartOf': ' Deutschland', 'Gazetteer': 'OSM'}, {'LocationName': 'England, Montgomery Township, Ashland County, Ohio, United States', 'Category': 'hamlet', 'Latitude': '40.8403347', 'Longitude': '-82.2393255', 'PartOf': ' United States', 'Gazetteer': 'OSM'}, {'LocationName': 'England', 'Category': 'parish', 'Longitude': '152.46666666666667', 'Latitude': '-27.433333333333334', 'PartOf': 'QLD', 'Gazetteer': 'TLCMap'}]\n",
      "looking for New Town\n",
      "[{'LocationName': 'New Town, New Town/Broughton, City of Edinburgh, Alba / Scotland, EH3 6HU, United Kingdom', 'Category': 'suburb', 'Latitude': '55.9554575', 'Longitude': '-3.1989995', 'PartOf': ' United Kingdom', 'Gazetteer': 'OSM'}, {'LocationName': 'New Town, Shell Creek Segment, Mountrail County, North Dakota, 58763, United States', 'Category': 'administrative', 'Latitude': '47.980848', 'Longitude': '-102.49018', 'PartOf': ' United States', 'Gazetteer': 'OSM'}, {'LocationName': 'New Town, Hobart, City of Hobart, Tasmania, 7008, Australia', 'Category': 'administrative', 'Latitude': '-42.8588009', 'Longitude': '147.3058753', 'PartOf': ' Australia', 'Gazetteer': 'OSM'}, {'LocationName': 'New Town, Copper Coast Council, South Australia, 5554, Australia', 'Category': 'administrative', 'Latitude': '-33.9557061', 'Longitude': '137.69672510873852', 'PartOf': ' Australia', 'Gazetteer': 'OSM'}, {'LocationName': 'New Town, Rajarhat, North 24 Parganas, West Bengal, 700161, India', 'Category': 'town', 'Latitude': '22.5882834', 'Longitude': '88.4734476', 'PartOf': ' India', 'Gazetteer': 'OSM'}, {'LocationName': 'New Town', 'Category': 'Suburb/Locality', 'Longitude': '147.3000031', 'Latitude': '-42.84999847', 'PartOf': 'TAS', 'Gazetteer': 'TLCMap'}]\n",
      "looking for verandah.-She\n",
      "[]\n",
      "looking for Grummet Island\n",
      "[{'LocationName': 'Grummet Island', 'Category': 'Island', 'Longitude': '145.4499969', 'Latitude': '-42.38000107', 'PartOf': 'TAS', 'Gazetteer': 'TLCMap'}]\n",
      "looking for Grummet\n",
      "[{'LocationName': 'Grummet, Ahlstadt, Meeder, Landkreis Coburg, Bayern, 96484, Deutschland', 'Category': 'locality', 'Latitude': '50.3686748', 'Longitude': '10.8561277', 'PartOf': ' Deutschland', 'Gazetteer': 'OSM'}, {'LocationName': 'grummet, S 311, Reuth, Weischlitz, Vogtlandkreis, Sachsen, 08538, Deutschland', 'Category': 'information', 'Latitude': '50.4723087', 'Longitude': '11.96739', 'PartOf': ' Deutschland', 'Gazetteer': 'OSM'}]\n",
      "looking for Malabar\n",
      "[{'LocationName': 'Malabar, Brevard County, Florida, 32950, United States', 'Category': 'administrative', 'Latitude': '27.9869722', 'Longitude': '-80.5870164', 'PartOf': ' United States', 'Gazetteer': 'OSM'}, {'LocationName': 'Malabar, Jawa Barat, Indonesia', 'Category': 'volcano', 'Latitude': '-7.1404971', 'Longitude': '107.6313311', 'PartOf': ' Indonesia', 'Gazetteer': 'OSM'}, {'LocationName': 'Malabar, Sydney, Randwick City Council, New South Wales, 2036, Australia', 'Category': 'administrative', 'Latitude': '-33.9629779', 'Longitude': '151.2480171', 'PartOf': ' Australia', 'Gazetteer': 'OSM'}, {'LocationName': 'Malabar, Cilacap, Jawa Tengah, Indonesia', 'Category': 'village', 'Latitude': '-7.2880681', 'Longitude': '108.6960653', 'PartOf': ' Indonesia', 'Gazetteer': 'OSM'}, {'LocationName': 'Malabar, Lengkong, Jawa Barat, 40285, Indonesia', 'Category': 'village', 'Latitude': '-6.9260791', 'Longitude': '107.6210172', 'PartOf': ' Indonesia', 'Gazetteer': 'OSM'}, {'LocationName': 'Malabar', 'Category': 'trig station', 'Longitude': '151.2511111111111', 'Latitude': '-33.965', 'PartOf': 'NSW', 'Gazetteer': 'TLCMap'}]\n",
      "looking for Dawes\n",
      "[{'LocationName': 'Dawes County, Nebraska, United States', 'Category': 'administrative', 'Latitude': '42.71723', 'Longitude': '-103.1216528', 'PartOf': ' United States', 'Gazetteer': 'OSM'}, {'LocationName': 'Dawes, Mendocino County, California, United States', 'Category': 'isolated_dwelling', 'Latitude': '38.9490664', 'Longitude': '-123.085002', 'PartOf': ' United States', 'Gazetteer': 'OSM'}, {'LocationName': 'Dawes, Kanawha County, West Virginia, 25054, United States', 'Category': 'hamlet', 'Latitude': '38.1428826', 'Longitude': '-81.4520584', 'PartOf': ' United States', 'Gazetteer': 'OSM'}, {'LocationName': 'Dawes, Mobile County, Alabama, 36695, United States', 'Category': 'hamlet', 'Latitude': '30.6076926', 'Longitude': '-88.2552828', 'PartOf': ' United States', 'Gazetteer': 'OSM'}, {'LocationName': 'Dawes, Ottawa County, Oklahoma, United States', 'Category': 'hamlet', 'Latitude': '36.8814607', 'Longitude': '-94.9913489', 'PartOf': ' United States', 'Gazetteer': 'OSM'}, {'LocationName': 'Dawes', 'Category': 'neighbourhoold', 'Longitude': '146.4990234', 'Latitude': '-37.81597137', 'PartOf': 'VIC', 'Gazetteer': 'TLCMap'}]\n",
      "looking for Sydney\n",
      "[{'LocationName': 'Sydney, Council of the City of Sydney, New South Wales, Australia', 'Category': 'administrative', 'Latitude': '-33.8698439', 'Longitude': '151.2082848', 'PartOf': ' Australia', 'Gazetteer': 'OSM'}, {'LocationName': 'Sydney, Stutsman County, North Dakota, United States', 'Category': 'village', 'Latitude': '46.731338', 'Longitude': '-98.7682161', 'PartOf': ' United States', 'Gazetteer': 'OSM'}, {'LocationName': 'Sydney (Kingsford Smith) Airport, Centre Road, Mascot, Sydney, Bayside Council, New South Wales, 2020, Australia', 'Category': 'aerodrome', 'Latitude': '-33.9498935', 'Longitude': '151.18196819346016', 'PartOf': ' Australia', 'Gazetteer': 'OSM'}, {'LocationName': 'Sydney, Cape Breton Regional Municipality, Cape Breton County, Nova Scotia, Canada', 'Category': 'administrative', 'Latitude': '46.137977', 'Longitude': '-60.194092', 'PartOf': ' Canada', 'Gazetteer': 'OSM'}, {'LocationName': 'Sydney, Council of the City of Sydney, New South Wales, 2000, Australia', 'Category': 'administrative', 'Latitude': '-33.867926', 'Longitude': '151.21013810170962', 'PartOf': ' Australia', 'Gazetteer': 'OSM'}, {'LocationName': 'Sydney', 'Category': None, 'Longitude': '167.9597222222222', 'Latitude': '-29.05388888888889', 'PartOf': 'NFK', 'Gazetteer': 'TLCMap'}]\n"
     ]
    }
   ],
   "source": [
    "# For every placename in our list\n",
    "for p in geolocdata:\n",
    "    # Already found a location, so skip to the next placename\n",
    "    if len(p['locations']['best_match']) > 0:\n",
    "        continue\n",
    "        \n",
    "    placename = p['placename']\n",
    "    print (\"looking for\",placename)\n",
    "\n",
    "    # query the OSM database\n",
    "    response = tlc_query_name(placename,search_type)\n",
    "    #response_dict = response.to_dict()\n",
    "    #print(response.text)\n",
    "    #print(response)\n",
    "    \n",
    "    #p['locations']['candidates']=None\n",
    "    \n",
    "    # Handle no results found\n",
    "    if response is None:\n",
    "        # skip to the next placename\n",
    "        continue\n",
    "        \n",
    "    # Save the possible locations for later processing\n",
    "    data_frames = []\n",
    "\n",
    "    # Handle results found\n",
    "    for response_record in response[\"features\"]:\n",
    "        #  Use this to look at a reduced set of data from the results\n",
    "        #print(response_record['properties'])\n",
    "        cleaned_response = tlc_format_response(response_record)\n",
    "            \n",
    "        #print(cleaned_response)\n",
    "                        \n",
    "        # Add the data to a dataframe\n",
    "        data_frames.append(cleaned_response)\n",
    "        \n",
    "    # add the results to the geoloc dataframe\n",
    "    # review the outcomes later\n",
    "    # Match sure you don't write over any candidates previously added from another gazetteer.\n",
    "    if p['locations']['candidates'] == None:\n",
    "        p['locations']['candidates'] = data_frames\n",
    "    else:\n",
    "        p['locations']['candidates'] = p['locations']['candidates'] + data_frames\n",
    "\n",
    "    print(p['locations']['candidates'])\n",
    "        \n",
    "    #exit()\n",
    "   "
   ]
  },
  {
   "cell_type": "markdown",
   "metadata": {},
   "source": [
    "What placenames have you still not found?"
   ]
  },
  {
   "cell_type": "code",
   "execution_count": 101,
   "metadata": {},
   "outputs": [
    {
     "data": {
      "text/plain": [
       "['the sleepy sea',\n",
       " \"Julia Vickers's\",\n",
       " 'the Hydaspes for Calcutta',\n",
       " 'the poop guard',\n",
       " 'MONOTONY',\n",
       " 'the Three Thumbs',\n",
       " 'Storing Island',\n",
       " 'Commandant',\n",
       " 'verandah.-She']"
      ]
     },
     "execution_count": 101,
     "metadata": {},
     "output_type": "execute_result"
    }
   ],
   "source": [
    "unmatcheddata = [p['placename'] for p in geolocdata \n",
    "             if (len(p['locations']['best_match'])==0 and \n",
    "                 (p['locations']['candidates']==None or \n",
    "                  p['locations']['candidates'])==[])]\n",
    "unmatcheddata"
   ]
  },
  {
   "cell_type": "code",
   "execution_count": null,
   "metadata": {},
   "outputs": [],
   "source": []
  }
 ],
 "metadata": {
  "kernelspec": {
   "display_name": "Python 3",
   "language": "python",
   "name": "python3"
  },
  "language_info": {
   "codemirror_mode": {
    "name": "ipython",
    "version": 3
   },
   "file_extension": ".py",
   "mimetype": "text/x-python",
   "name": "python",
   "nbconvert_exporter": "python",
   "pygments_lexer": "ipython3",
   "version": "3.7.6"
  }
 },
 "nbformat": 4,
 "nbformat_minor": 4
}
