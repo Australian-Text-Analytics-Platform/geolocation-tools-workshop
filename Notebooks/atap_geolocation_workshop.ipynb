{
 "cells": [
  {
   "cell_type": "markdown",
   "metadata": {},
   "source": [
    "# ATAP Notebook for the Geolocation project\n",
    "\n",
    "This notebook helps you access the Geolocation tools in a Python development environment."
   ]
  },
  {
   "cell_type": "markdown",
   "metadata": {},
   "source": [
    "### Contents\n",
    "* [Premise](#section-premise)\n",
    "* [Requirements](#section-requirements) \n",
    "* [Data Preparation](#section-datapreparation)\n",
    "* [Named Entity Recognition](#section-ner)\n",
    " * [Look for NEs](#section-nes)\n",
    " * [Reviewing Candidate Placenames](#section-reviewplacenames)\n",
    "* [Finding Locations for Placenames](#section-findinglocs)\n",
    " * [Identifying States and Capitals](#section-statescapitals)\n",
    " * [Searching a Gazzetteer for Locations](#section-searchgazetteer)"
   ]
  },
  {
   "cell_type": "markdown",
   "metadata": {},
   "source": [
    "## Premise <a class=\"anchor\" id=\"section-premise\"></a>\n",
    "*This section explains the Geolocation project and tools.*"
   ]
  },
  {
   "cell_type": "markdown",
   "metadata": {},
   "source": [
    "The Geolocation project relates to doctoral research done by [Fiannuala Morgan](https://finnoscarmorgan.github.io/) at the Australian National University. It uses software to identify placenames in archived historical texts, then compares them to data about known locations to identify where the placenames may be located. \n",
    "\n",
    "This notebook is designed to allow you to perform similar operations on textual documents.\n",
    "\n",
    "<div class=\"alert alert-block alert-success\">\n",
    "It will teach you how to\n",
    "<ul>\n",
    "    <li>use the spaCy library to identify and classify Named Entities (NEs)</li>\n",
    "    <li>identify multi-word expressions (MWE) that are NEs</li>\n",
    "    <li>search for spatial data about specific locations or places in gazetteers of such data</li>\n",
    "    <li>determine which locations are referred to by placenames, based on the context in which they are used in a text</li>\n",
    "</ul>\n",
    "</div>"
   ]
  },
  {
   "cell_type": "markdown",
   "metadata": {},
   "source": [
    "## Requirements <a class=\"anchor\" id=\"section-requirements\"></a>"
   ]
  },
  {
   "cell_type": "markdown",
   "metadata": {},
   "source": [
    "<div class=\"alert alert-block alert-info\">\n",
    "This notebook uses various Python libraries. Most will come with your Python installation, but the following are crucial:\n",
    "<ul>\n",
    "    <li> pandas</li> \n",
    "    <li> json</li> \n",
    "    <li> nltk</li> \n",
    "    <li> geopandas</li> \n",
    "    <li> shapely  </li> \n",
    "</ul>\n",
    "</div>"
   ]
  },
  {
   "cell_type": "code",
   "execution_count": 1,
   "metadata": {},
   "outputs": [],
   "source": [
    "# TODO: UPDATE\n",
    "# Many of these are probably not needed.\n",
    "\n",
    "import os\n",
    "from pickle import NONE\n",
    "import nltk\n",
    "import csv\n",
    "import time\n",
    "import urllib\n",
    "import requests\n",
    "import json\n",
    "import math\n",
    "\n",
    "#import matplotlib.pyplot as plt\n",
    "import pandas as pd\n",
    "import numpy as np\n",
    "\n",
    "# Geopandas is used to work with spatial data\n",
    "# If you have issues installing it on a MAcOS, \n",
    "# see https://stackoverflow.com/questions/71137617/error-installing-geopandas-in-python-on-mac-m1\n",
    "#import geopandas as gpd\n",
    "#from geopandas import GeoDataFrame\n",
    "\n",
    "# NLTK is used to work with textual data \n",
    "#from nltk.tag import StanfordNERTagger\n",
    "#from nltk.tokenize import word_tokenize\n",
    "\n",
    "# spaCy is used for a pipeline of NLP functions\n",
    "import spacy\n",
    "from spacy.tokens import Span\n",
    "from spacy import displacy\n",
    "\n",
    "# Shapely is used to work with geometric shapes\n",
    "#from shapely.geometry import Point\n",
    "\n",
    "# Fuzzywuzzy is used for fuzzy searches\n",
    "#from fuzzywuzzy import fuzz\n",
    "\n",
    "# used for the checklist\n",
    "import ipywidgets as widgets"
   ]
  },
  {
   "cell_type": "code",
   "execution_count": 2,
   "metadata": {},
   "outputs": [],
   "source": [
    "# Make sure you can see as much of the output as possible within the Jupyter Notebook screen\n",
    "pd.set_option('display.max_rows', 500)\n",
    "pd.set_option('display.max_columns', 500)\n",
    "pd.set_option('display.width', 1000)"
   ]
  },
  {
   "cell_type": "markdown",
   "metadata": {},
   "source": [
    "# Data preparation <a class=\"anchor\" id=\"section-datapreparation\"></a>"
   ]
  },
  {
   "cell_type": "markdown",
   "metadata": {},
   "source": [
    "You also want to set up some directories for the import and output of data."
   ]
  },
  {
   "cell_type": "code",
   "execution_count": 3,
   "metadata": {},
   "outputs": [],
   "source": [
    "## Declare the data directories\n",
    "## This presumes that Notebooks/ is the current working directory  \n",
    "text_directory = os.path.normpath(\"../Texts/\")\n",
    "csv_directory = os.path.normpath(\"../ner_output/\")\n",
    "reference_directory = os.path.normpath(\"../Data\")\n",
    "#maps_directory = os.path.normpath(\"../maps/\")\n",
    "\n",
    "## Create the data directories\n",
    "if not os.path.exists(text_directory):\n",
    "    os.makedirs(text_directory)\n",
    "if not os.path.exists(csv_directory):\n",
    "   os.makedirs(csv_directory)\n",
    "if not os.path.exists(reference_directory):\n",
    "   os.makedirs(reference_directory)\n",
    "\n",
    "#if not os.path.exists(maps_directory):\n",
    "#    os.makedirs(maps_directory)"
   ]
  },
  {
   "cell_type": "markdown",
   "metadata": {},
   "source": [
    "For this workshop, we will be examining the text of *For the Term of His Natural Life*, an 1874CE novel by Marcus Clarke that is in the public domain. Our copy was obtained via the [Gutenburg Project Australia](https://gutenberg.net.au/ebooks/e00016.txt). It is an unformatted textfile. We have slightly simplified it further by reducing it to only standard ASCII characters, replacing any accented characters with their unaccented forms and the British Pound Sterling symbol with the word pounds. \n",
    "\n",
    "The novel is divided into four books, each based in different regions of the world. You can start with the second book, which is titled *BOOK II.\\-\\-MACQUARIE HARBOUR.  1833*. \n"
   ]
  },
  {
   "cell_type": "code",
   "execution_count": null,
   "metadata": {},
   "outputs": [],
   "source": [
    "#filename=\"FtToHNL_BOOK_1.txt\"\n",
    "filename=\"FtToHNL_BOOK_2.txt\"\n",
    "print(\"Working on | \", filename)\n",
    "\n",
    "# set the specific path for the 'filename' which is basically working through a list of everything that is in the folder\n",
    "textlocation = os.path.normpath(os.path.join(text_directory, filename))\n",
    "text_filename = os.path.basename(textlocation)\n",
    "\n",
    "text = open(textlocation, encoding=\"utf-8\").read()"
   ]
  },
  {
   "cell_type": "markdown",
   "metadata": {},
   "source": [
    "This is no more than a long string of characters. So far, you have done no processing. "
   ]
  },
  {
   "cell_type": "code",
   "execution_count": null,
   "metadata": {},
   "outputs": [],
   "source": [
    "text[0:499] # look at the first 500 characters"
   ]
  },
  {
   "cell_type": "markdown",
   "metadata": {},
   "source": [
    "## Named Entity Recognition <a class=\"anchor\" id=\"section-ner\"></a>\n",
    "*This section provides tools on identifying named entities in textual data*"
   ]
  },
  {
   "cell_type": "markdown",
   "metadata": {},
   "source": [
    "### Look for NEs <a class=\"anchor\" id=\"section-nes\"></a>"
   ]
  },
  {
   "cell_type": "markdown",
   "metadata": {},
   "source": [
    "Named Entities (NEs) are proper noun phrases within text, like names of places, people or organisations."
   ]
  },
  {
   "cell_type": "markdown",
   "metadata": {},
   "source": [
    "There are various packages that can include Named Enity Recognition (NER), e.g., the [Stanza CoreNLP](https://colab.research.google.com/github/stanfordnlp/stanza/blob/main/demo/Stanza_CoreNLP_Interface.ipynb), the Stanford NER, and the spaCy library. They often combine machine learning and a rule-based system to identify NEs and classify them into categories."
   ]
  },
  {
   "cell_type": "markdown",
   "metadata": {},
   "source": [
    "For this notebook, you will be using the spaCy NER - https://spacy.io/usage/linguistic-features#morphology .  This is available as a Python library."
   ]
  },
  {
   "cell_type": "markdown",
   "metadata": {},
   "source": [
    "SpaCy allows you to load a language model that has been trained on various examples of the language of interest. "
   ]
  },
  {
   "cell_type": "code",
   "execution_count": null,
   "metadata": {},
   "outputs": [],
   "source": [
    "nlp = spacy.load(\"en_core_web_sm\")"
   ]
  },
  {
   "cell_type": "markdown",
   "metadata": {},
   "source": [
    "SpaCy will automatically run the model through various levels of natural language processing. This pipeline includes tokenising the text into individual tokens or terms, like words, values and puncuation."
   ]
  },
  {
   "cell_type": "markdown",
   "metadata": {},
   "source": [
    "TODO: Update\n",
    "\n",
    "It is simple to use the client. You just tell it to annotate the text. However, Stanza allows you to specify what to annotate the text with. For instance, you might want it to tokenise the terms, label their parts-of-speech and lemmatised forms as well as recognising any NEs."
   ]
  },
  {
   "cell_type": "markdown",
   "metadata": {},
   "source": [
    "TODO: Update\n",
    "\n",
    "<div class=\"alert alert-block alert-info\">\n",
    "The options for the Stanza client include:<ul>\n",
    "    <li> <strong>tokenize - </strong> split into words or terms </li> \n",
    "      <li>    <strong>ssplit - </strong> split into sentences or independent statements</li> \n",
    "     <li>     <strong>pos -  </strong> syntactic parts-of-speech</li> \n",
    "      <li>    <strong>lemma -  </strong> lemmatised form (not always a root form)</li> \n",
    "      <li>    <strong>ner - </strong> named entity recognition</li> \n",
    "      <li>    <strong>depparse -  </strong> parsing of dependencies</li> \n",
    "      <li>    <strong>coref - </strong> co-reference resolution</li> \n",
    "      <li>    <strong>kbppandas - </strong> KBP competition format</li> \n",
    "</ul>\n",
    "A full explanation can be found at <a href=\"https://stanfordnlp.github.io/CoreNLP/pipeline.html\">https://stanfordnlp.github.io/CoreNLP/pipeline.html</a></div>"
   ]
  },
  {
   "cell_type": "markdown",
   "metadata": {},
   "source": [
    "For example, the default line contains the following."
   ]
  },
  {
   "cell_type": "code",
   "execution_count": null,
   "metadata": {},
   "outputs": [],
   "source": [
    "print(\"Pipeline:\", nlp.pipe_names)"
   ]
  },
  {
   "cell_type": "markdown",
   "metadata": {},
   "source": [
    "Text sent to the spaCy model will be processed by the pipeline."
   ]
  },
  {
   "cell_type": "code",
   "execution_count": null,
   "metadata": {},
   "outputs": [],
   "source": [
    "# sample text\n",
    "sampletext = \"Autonomous cars shift insurance liability toward manufacturers\""
   ]
  },
  {
   "cell_type": "code",
   "execution_count": null,
   "metadata": {},
   "outputs": [],
   "source": [
    "doc = nlp(sampletext)\n",
    "doc"
   ]
  },
  {
   "cell_type": "markdown",
   "metadata": {},
   "source": [
    "The output from the pipeline is then  available in the output structure of the spaCy model."
   ]
  },
  {
   "cell_type": "code",
   "execution_count": null,
   "metadata": {},
   "outputs": [],
   "source": [
    "for token in doc:\n",
    "    print(token.text,\" - \", \"Morph: \",token.morph, \n",
    "          \"\\n   Dep: \",token.dep_, \n",
    "          \"\\n   Head: \",token.head.text, \n",
    "          \"\\n   Pos: \",token.head.pos_,\n",
    "          \"\\n   Child: \",[child for child in token.children])\n"
   ]
  },
  {
   "cell_type": "markdown",
   "metadata": {},
   "source": [
    "However, you might not want some of this pipeline processing as it may not be beneficial to your analysis. Any unneeded processing will also slow the system down and place a greater demand on the memory. This is particularly true of the parser. Luckily, it is easy to stipulate what you want excluded from the pipeline. "
   ]
  },
  {
   "cell_type": "code",
   "execution_count": null,
   "metadata": {},
   "outputs": [],
   "source": [
    "doc=nlp(sampletext, disable=[\"tok2vec\", \"tagger\", \"parser\", \"attribute_ruler\", \"lemmatizer\"])"
   ]
  },
  {
   "cell_type": "code",
   "execution_count": null,
   "metadata": {},
   "outputs": [],
   "source": [
    "for token in doc:\n",
    "    print(token.text,\" - \", \"Morph: \",token.morph, \n",
    "          \"\\n   Dep: \",token.dep_, \n",
    "          \"\\n   Head: \",token.head.text, \n",
    "          \"\\n   Pos: \",token.head.pos_,\n",
    "          \"\\n   Child: \",[child for child in token.children])"
   ]
  },
  {
   "cell_type": "markdown",
   "metadata": {},
   "source": [
    "Of course, what you are interested in is the NER. Each sentence sent down the pipeline with the ner will get a list of entities that have been found. "
   ]
  },
  {
   "cell_type": "code",
   "execution_count": null,
   "metadata": {},
   "outputs": [],
   "source": [
    "sampletext = \"Apple is looking at buying a U.K. startup based in London for $1 billion.\""
   ]
  },
  {
   "cell_type": "code",
   "execution_count": null,
   "metadata": {},
   "outputs": [],
   "source": [
    "doc = nlp(sampletext)\n",
    "\n",
    "for ent in doc.ents:\n",
    "    print(ent.text, \"[\",ent.label_,\"]\")"
   ]
  },
  {
   "cell_type": "markdown",
   "metadata": {},
   "source": [
    "As you can see, each entity is labelled with a category."
   ]
  },
  {
   "cell_type": "markdown",
   "metadata": {},
   "source": [
    "TODO: UPDATE\n",
    "\n",
    "<div class=\"alert alert-block alert-info\">\n",
    "    The NER categories classified by Stanza include:\n",
    "   <ul>\n",
    "<li><strong>Default:</strong>\n",
    "LOCATION, ORGANIZATION, PERSON</li>\n",
    "<li><strong>High recall: </strong>\n",
    "DATE, LOCATION, MONEY, ORGANIZATION, PERCENT, PERSON, TIME, MISC</li>\n",
    "<li><strong>KBP fine-grained:</strong>\n",
    "CAUSE_OF_DEATH, CITY, COUNTRY, CRIMINAL_CHARGE, EMAIL, HANDLE,\n",
    "IDEOLOGY, NATIONALITY, RELIGION, STATE_OR_PROVINCE, TITLE, URL</li>\n",
    "</ul>\n",
    "</div>"
   ]
  },
  {
   "cell_type": "markdown",
   "metadata": {},
   "source": [
    "TODO: Update\n",
    "\n",
    "Most tokenised terms in the sentence have O as their NER value (that is the letter O not the number 0). Some however have been categorised. For instance, Van and Diemen are both classified as being PERSON named entities, Tasman is an ORGANIZATION and Cape and Pillar are in the LOCATION category. These categories are specific to Stanza. There are two key levels of processing available - the normal level will only identify the categories LOCATION, ORGANIZATION and PERSON, but the high recall processing will also consider other specialised phrases like TIME and MONEY which are not really named entities. Stanza can also look for the categories used in the KBP competition like CITY, COUNTRY and NATIONALITY, but this fine-grained processing will be slower.\n"
   ]
  },
  {
   "cell_type": "markdown",
   "metadata": {},
   "source": [
    "The data for the entities includes the character position for the start and the end of the NE."
   ]
  },
  {
   "cell_type": "code",
   "execution_count": null,
   "metadata": {},
   "outputs": [],
   "source": [
    "doc = nlp(sampletext)\n",
    "\n",
    "for ent in doc.ents:\n",
    "    print(ent.text, ent.start_char, ent.end_char, ent.label_)"
   ]
  },
  {
   "cell_type": "markdown",
   "metadata": {},
   "source": [
    "Each token will also have a value that indicates whether it is part of an NE."
   ]
  },
  {
   "cell_type": "code",
   "execution_count": null,
   "metadata": {},
   "outputs": [],
   "source": [
    "for token in doc:\n",
    "    print(token.text, \"[\", token.ent_type_, \"]\")"
   ]
  },
  {
   "cell_type": "markdown",
   "metadata": {},
   "source": [
    "TODO: Update\n",
    "\n",
    "The annotations so far show that *Cape* and *Pillar* are both a LOCATION NE, but not that *Cape Pillar* is actually the complete name of the location. However Stanza does also recognise multi-word expressions (MWEs), even though it recognises that they are part of an NE. Each *Sentence* annotated by Stanza has a list of [NE *Mentions*](https://stanfordnlp.github.io/CoreNLP/entitymentions.html) which are also given NER categories as their *Type*. "
   ]
  },
  {
   "cell_type": "markdown",
   "metadata": {},
   "source": [
    "It is also possible to hand-code entities after the NER has been done. This can help make up for any common irregularities with the NER for your input documents."
   ]
  },
  {
   "cell_type": "markdown",
   "metadata": {},
   "source": [
    "For instance, this model doesn't recognise that FB is a NE."
   ]
  },
  {
   "cell_type": "code",
   "execution_count": null,
   "metadata": {},
   "outputs": [],
   "source": [
    "sampletext = \"FB is hiring a new vice president of global policy\"\n",
    "\n",
    "doc = nlp(sampletext)\n",
    "ents = [(ent.text, ent.start_char, ent.end_char, ent.label_) for ent in doc.ents]\n",
    "print('Entities before:', ents)\n",
    "# The model didn't recognize \"fb\" as an entity :-("
   ]
  },
  {
   "cell_type": "markdown",
   "metadata": {},
   "source": [
    "The solution is to create a new entry for the list of entities."
   ]
  },
  {
   "cell_type": "code",
   "execution_count": null,
   "metadata": {},
   "outputs": [],
   "source": [
    "# Create a spaCy span for the new entity\n",
    "fb_ent = Span(doc, 0, 1, label=\"ORG\")\n",
    "orig_ents = list(doc.ents)\n",
    "\n",
    "# Assign a complete list of ents to doc.ents\n",
    "doc.ents = orig_ents + [fb_ent]\n",
    "\n",
    "ents = [(ent.text, ent.start, ent.end, ent.label_) for ent in doc.ents]\n",
    "print('Entities after:', ents)"
   ]
  },
  {
   "cell_type": "markdown",
   "metadata": {},
   "source": [
    "Even the data for the tokens is updated. "
   ]
  },
  {
   "cell_type": "code",
   "execution_count": null,
   "metadata": {},
   "outputs": [],
   "source": [
    "for token in doc:\n",
    "    print(token.text, \"[\", token.ent_type_, \"]\")"
   ]
  },
  {
   "cell_type": "markdown",
   "metadata": {},
   "source": [
    "SpaCy also allows the input documents to be processed in batches. This helps better manage the processing demands of the system throughout the pipeline when there are multiple files or many sentences."
   ]
  },
  {
   "cell_type": "code",
   "execution_count": null,
   "metadata": {},
   "outputs": [],
   "source": [
    "# multiple texts in a list\n",
    "sampletexts = [\"Autonomous cars shift insurance liability toward manufacturers\",\"This is a text\", \"These are lots of texts\", \"...\"]\n",
    "\n",
    "# remove what elements you don't need from the pipeline\n",
    "for doc in nlp.pipe(sampletexts, disable=[\"tok2vec\", \"tagger\", \"parser\", \"attribute_ruler\", \"lemmatizer\"]):\n",
    "    print(\"Entities: \",[(ent.text, ent.label_) for ent in doc.ents])\n",
    "    for token in doc:\n",
    "        print(\"   \",token.text, \"[\", token.ent_type_, \"]\")\n"
   ]
  },
  {
   "cell_type": "markdown",
   "metadata": {},
   "source": [
    "While you can process the output of the piped pipeline straight away, you can't print it unless you convert it into a list."
   ]
  },
  {
   "cell_type": "code",
   "execution_count": null,
   "metadata": {},
   "outputs": [],
   "source": [
    "docs = nlp.pipe(sampletexts, disable=[\"tok2vec\", \"tagger\", \"parser\", \"attribute_ruler\", \"lemmatizer\"])\n",
    "print(docs)"
   ]
  },
  {
   "cell_type": "code",
   "execution_count": null,
   "metadata": {},
   "outputs": [],
   "source": [
    "print(list(docs))"
   ]
  },
  {
   "cell_type": "markdown",
   "metadata": {},
   "source": [
    "TODO: Can't remember what this is trying to do. Think it has to do with the IOB."
   ]
  },
  {
   "cell_type": "code",
   "execution_count": null,
   "metadata": {},
   "outputs": [],
   "source": [
    "from spacy.attrs import ENT_IOB, ENT_TYPE\n",
    "\n",
    "nlp = spacy.load(\"en_core_web_sm\")\n",
    "#doc = nlp.make_doc(\"London is a big city in the United Kingdom and New York is in the United States of America.\")\n",
    "doc = nlp(\"London is a big city in the United Kingdom and New York is in the United States of America.\")\n",
    "\n",
    "ents = [(e.text, e.start_char, e.end_char, e.label_) for e in doc.ents]\n",
    "print(\"Entities: \",ents)\n",
    "\n",
    "print(\"\\nBefore:\", doc.ents)  # []\n",
    "\n",
    "header = [ENT_IOB, ENT_TYPE]\n",
    "attr_array = np.zeros((len(doc), len(header)), dtype=\"uint64\")\n",
    "attr_array[0, 0] = 3  # B\n",
    "attr_array[0, 1] = doc.vocab.strings[\"GPE\"]\n",
    "doc.from_array(header, attr_array)\n",
    "ents = [(e.text, e.start_char, e.end_char, e.label_) for e in doc.ents]\n",
    "print(\"\\nEntities: \",ents)\n",
    "\n",
    "print(\"\\nAfter\", doc.ents)  # [London]"
   ]
  },
  {
   "cell_type": "markdown",
   "metadata": {},
   "source": [
    "TODO: Placeholder in-case we want to show of the displacy rendering."
   ]
  },
  {
   "cell_type": "code",
   "execution_count": null,
   "metadata": {},
   "outputs": [],
   "source": [
    "sampletext = \"When Sebastian Thrun started working on self-driving cars at Google in 2007, few people outside of the company took him seriously.\"\n",
    "\n",
    "nlp = spacy.load(\"en_core_web_sm\")\n",
    "doc = nlp(sampletext)\n",
    "\n",
    "# displacy from spaCy\n",
    "displacy.render(doc, style=\"ent\")"
   ]
  },
  {
   "cell_type": "markdown",
   "metadata": {},
   "source": [
    "TODO: talk about extracting just the NER types we want."
   ]
  },
  {
   "cell_type": "code",
   "execution_count": null,
   "metadata": {},
   "outputs": [],
   "source": [
    "spacy.explain('LOC')"
   ]
  },
  {
   "cell_type": "code",
   "execution_count": null,
   "metadata": {},
   "outputs": [],
   "source": [
    "spacy.explain('FAC')"
   ]
  },
  {
   "cell_type": "code",
   "execution_count": null,
   "metadata": {},
   "outputs": [],
   "source": [
    "spacy.explain('GPE')"
   ]
  },
  {
   "cell_type": "code",
   "execution_count": null,
   "metadata": {},
   "outputs": [],
   "source": [
    "spacy.explain('ORG')"
   ]
  },
  {
   "cell_type": "markdown",
   "metadata": {},
   "source": [
    "TODO: Run through a single chapter (variable: text) before doing the entire collection?\n",
    "    This will allow all NEs to be shown, then the filter be introduced.\n",
    "    This will put it more on topic."
   ]
  },
  {
   "cell_type": "code",
   "execution_count": null,
   "metadata": {},
   "outputs": [],
   "source": [
    "text[0:499]"
   ]
  },
  {
   "cell_type": "code",
   "execution_count": null,
   "metadata": {},
   "outputs": [],
   "source": [
    "doc = nlp(text)\n",
    "\n",
    "# document level\n",
    "ents = [(e.text, e.start_char, e.end_char, e.label_) for e in doc.ents]\n",
    "    \n",
    "i=0 # entity counter\n",
    "# token level\n",
    "for e in doc.ents:\n",
    "    print(\"{:5}\\t\\t{:30s}\\t{}\".format(i+1,e.text, e.label_))\n",
    "    i=i+1"
   ]
  },
  {
   "cell_type": "markdown",
   "metadata": {},
   "source": [
    "TODO: Expand on this explanation with example context.\n",
    "Talk about the issue with _Van Diemen's_ versus _Van Diemen's Land_ (and _Tasman's Head_)"
   ]
  },
  {
   "cell_type": "markdown",
   "metadata": {},
   "source": [
    "These categories are assigned according to the context in which the NE is used. For this reason, _Van Diemen's_ is considered an *ORG*, a *PERSON* and a *FAC*, depending on its linguistic context. Note also that _VAN DIEMEN'S LAND_ in the title of the chapter isn't recognised as a NE, probably due to its unconventional case."
   ]
  },
  {
   "cell_type": "markdown",
   "metadata": {},
   "source": [
    "TODO: Expand on this explanation."
   ]
  },
  {
   "cell_type": "markdown",
   "metadata": {},
   "source": [
    "Of course, not all of these NE are suitable for placenames, so you will need to make a list of what categories regularly contain placenames."
   ]
  },
  {
   "cell_type": "code",
   "execution_count": null,
   "metadata": {},
   "outputs": [],
   "source": [
    "PLACENAME_CATEGORIES = [\"LOC\", \"GPE\", \"FAC\", \"ORG\"]"
   ]
  },
  {
   "cell_type": "markdown",
   "metadata": {},
   "source": [
    "## Reviewing Candidate Placenames <a class=\"anchor\" id=\"section-reviewplacenames\"></a>"
   ]
  },
  {
   "cell_type": "markdown",
   "metadata": {},
   "source": [
    "You can now put all of this together and find the placenames that are identified by spaCy in each chapter of the text. They can all be collected in a single dataframe."
   ]
  },
  {
   "cell_type": "code",
   "execution_count": null,
   "metadata": {},
   "outputs": [],
   "source": [
    "# where we store the details about each instance of the placenames\n",
    "placenames_df = pd.DataFrame(columns=['Book','Chapter',\"NEIndex\",\"Placename\"])"
   ]
  },
  {
   "cell_type": "code",
   "execution_count": null,
   "metadata": {},
   "outputs": [],
   "source": [
    "# define which chapters and books you want to annotate\n",
    "CHAPTERS=[1,2,3] \n",
    "BOOKS=[1,2]"
   ]
  },
  {
   "cell_type": "raw",
   "metadata": {},
   "source": [
    "You should define what spaCy processing you do or don't want in the pipeline."
   ]
  },
  {
   "cell_type": "code",
   "execution_count": null,
   "metadata": {},
   "outputs": [],
   "source": [
    "disabledPipeline=[\"tok2vec\", \"tagger\", \"parser\", \"attribute_ruler\", \"lemmatizer\"]"
   ]
  },
  {
   "cell_type": "markdown",
   "metadata": {},
   "source": [
    "Now let's process FtToHNL."
   ]
  },
  {
   "cell_type": "code",
   "execution_count": null,
   "metadata": {},
   "outputs": [],
   "source": [
    "nlp = spacy.load(\"en_core_web_sm\")\n",
    "\n",
    "i=0 # counter of the entities\n",
    "for b in BOOKS:\n",
    "    for c in CHAPTERS:\n",
    "        filename = \"FtToHNL_BOOK_\"+str(b)+\"_CHAPTER_\"+str(c)+\".txt\" \n",
    "        # set the specific path for the 'filename'\n",
    "        textlocation = os.path.normpath(os.path.join(text_directory, filename))\n",
    "        text_filename = os.path.basename(textlocation)\n",
    "\n",
    "        # read this chapter\n",
    "        text = open(textlocation, encoding=\"utf-8\").read()\n",
    "        print(\"Working on |\",filename)\n",
    "        \n",
    "        # run spaCy    \n",
    "        doc = nlp(text,disable=disabledPipeline)\n",
    "\n",
    "        # document level\n",
    "        ents = [(e.text, e.start_char, e.end_char, e.label_) for e in doc.ents]\n",
    "\n",
    "        # token level\n",
    "        for e in doc.ents:\n",
    "            if e.label_ in PLACENAME_CATEGORIES: # filter out MONEY, DATE etc\n",
    "                print(\"{:5}\\t\\t{:30s}\\t{}\".format(i+1,e.text, e.label_))\n",
    "                # To help understand the context of the text, extract the occurence\n",
    "                context_text=doc.text[e.start_char-30:e.end_char+30].replace(\"\\n\",\" \")\n",
    "                \n",
    "                # Code to render with displacy\n",
    "                #context_doc={\"text\":str(i+1)+\" \\t \"+context_text,\n",
    "                #             \"ents\":[{\"start\": len(str(i+1)+\"   \")+30, \n",
    "                #                      \"end\":   len(str(i+1)+\"   \"+context_text)-30, \n",
    "                #                      \"label\": e.label_}],\n",
    "                #             \"title\": None}\n",
    "                #print(context_doc)\n",
    "                #displacy.render(context_doc, style=\"ent\", manual=True, jupyter=True)\n",
    "\n",
    "                # find the placenames according to spaCy\n",
    "                new_placename = {'Book':b,              # The Book number\n",
    "                                'Chapter':c,            # The Chapter number\n",
    "                                'NEIndex':i,            # A reference number to the nth Named Entity \n",
    "                                'Placename':e.text,     # The placename in the text\n",
    "                                'Category':e.label_,    # The spaCy category\n",
    "                                'Context':context_text, # The textual context where the placename was found\n",
    "                                'Approval':1}        # A flag for whether this is a suitable placename\n",
    "                placenames_df = placenames_df.append(new_placename, ignore_index=True)\n",
    "                \n",
    "            i=i+1 # entity counter"
   ]
  },
  {
   "cell_type": "code",
   "execution_count": null,
   "metadata": {},
   "outputs": [],
   "source": [
    "placenames_df[['Book','Chapter','NEIndex','Placename','Category']]"
   ]
  },
  {
   "cell_type": "markdown",
   "metadata": {},
   "source": [
    "This shows that a lot more placenames were found in Book 2 than Book 1. This makes sense since Book 1 is set on board an ocean voyage, whereas Book 2 is at Macquarie Harbour in Australia."
   ]
  },
  {
   "cell_type": "markdown",
   "metadata": {},
   "source": [
    "However, there are a number of NEs that are unlikely to be placenames, regardless of what spaCy categoriesd them as. It is best to consider the context in which the terms were used. Use the checkboxes to select which terms you do consider to be placenames."
   ]
  },
  {
   "cell_type": "code",
   "execution_count": null,
   "metadata": {},
   "outputs": [],
   "source": [
    "#import ipywidgets as widgets\n",
    "\n",
    "def changed(b):\n",
    "    # The system sets the _property_lock_, changes the value, then releases the _property_lock_.\n",
    "    # The confusing thing is that there is a value for the checkbox and a value for the property lock.\n",
    "    # changed() is called three times for every change to the checkbox.\n",
    "\n",
    "    # If you want to see any change to the checkbox value, uncomment this print()) command\n",
    "    if b['name']=='value':\n",
    "        #print(b,\"\\n\")\n",
    "        #print(\"found value\")\n",
    "        k=b['new']\n",
    "        #print(\"    \",k)\n",
    "    #print(b,\"\\n\")\n",
    "\n",
    "placename_items=[]\n",
    "context_items=[]\n",
    "num_items=[]\n",
    "\n",
    "# Time to try to make checkboxes for every placename for b in BOOKS:\n",
    "for b in BOOKS:\n",
    "    for c in CHAPTERS:\n",
    "        # Get the NEs from this book and chapter\n",
    "        pbc=placenames_df[(placenames_df[\"Book\"]==b) & (placenames_df[\"Chapter\"]==c)]\n",
    "        for i in pbc[\"NEIndex\"]:\n",
    "            context_text=pbc[pbc[\"NEIndex\"]==i][\"Context\"].values[0]\n",
    "            category=pbc[pbc[\"NEIndex\"]==i][\"Category\"].values[0]\n",
    "            \n",
    "        # Make lists of the candidate placenames, context text and index numbers \n",
    "        # Only the placenames are given a checkbox. \n",
    "        placename_items = placename_items + [widgets.Checkbox(True,description=i) for i in pbc[\"Placename\"]]\n",
    "        context_items = context_items + [widgets.Label(pbc[pbc[\"NEIndex\"]==i][\"Context\"].values[0]) for i in pbc[\"NEIndex\"]]\n",
    "        num_items = num_items + [widgets.Label(str(i)) for i in pbc[\"NEIndex\"]]\n",
    "\n",
    "# create a display\n",
    "num_placenames=len(placename_items)\n",
    "left_box = widgets.VBox(placename_items)\n",
    "right_box = widgets.VBox(context_items)\n",
    "num_box = widgets.VBox(num_items)\n",
    "whole_box = widgets.HBox([num_box, left_box, right_box])\n",
    "        \n",
    "display(whole_box)\n",
    "\n",
    "# respond to any changes in the checkboxes\n",
    "for i in range(num_placenames):\n",
    "    placename_items[i].observe(changed)"
   ]
  },
  {
   "cell_type": "markdown",
   "metadata": {},
   "source": [
    "You can now copy all the values from the checkboxes to the data, so you know which placenames you have approved."
   ]
  },
  {
   "cell_type": "code",
   "execution_count": null,
   "metadata": {},
   "outputs": [],
   "source": [
    "# Transfer the status of each checklist item to the data\n",
    "for i in range(num_placenames):\n",
    "    #print(num_items[i].value,placename_items[i].value,placename_items[i].description)\n",
    "\n",
    "    NEIndex_num = int(num_items[i].value)\n",
    "    approval_flag = placename_items[i].value\n",
    "    \n",
    "    #print(\"Looking for [\"+str(NEIndex_num)+\"]\")\n",
    "    \n",
    "    # set the flag to match the checklist\n",
    "    for p in placenames_df[\"NEIndex\"]:\n",
    "        if (p-NEIndex_num == 0):\n",
    "            placenames_df.loc[placenames_df[\"NEIndex\"] == NEIndex_num,\"Approval\"] = approval_flag"
   ]
  },
  {
   "cell_type": "markdown",
   "metadata": {},
   "source": [
    "You can now visualise the result."
   ]
  },
  {
   "cell_type": "code",
   "execution_count": null,
   "metadata": {},
   "outputs": [],
   "source": [
    "placenames_df[['NEIndex','Placename','Approval']]"
   ]
  },
  {
   "cell_type": "markdown",
   "metadata": {},
   "source": [
    "From this, you can extract the final list of distinct placenames that you have approved. While the names aren't sorted (though they could be), if you missed unselecting an NE on the checklist, this will help find it. All you need to do is go back to the checklist, unselect it, then run all other steps from there to here."
   ]
  },
  {
   "cell_type": "code",
   "execution_count": null,
   "metadata": {},
   "outputs": [],
   "source": [
    "# Make a unique list of the approved placenames\n",
    "approved_placenames = placenames_df[placenames_df[\"Approval\"]==True]['Placename'].unique()\n",
    "approved_placenames"
   ]
  },
  {
   "cell_type": "markdown",
   "metadata": {},
   "source": [
    "The final step is to save this new data to a csv file. You have already defined the directory for your data files."
   ]
  },
  {
   "cell_type": "code",
   "execution_count": null,
   "metadata": {},
   "outputs": [],
   "source": [
    "filename = \"FtToHNL_placenames.csv\"\n",
    "save_location = os.path.normpath(os.path.join(csv_directory, filename))\n",
    "save_filename = os.path.basename(save_location)\n",
    "print(\"Saving to placename data to \",save_location)"
   ]
  },
  {
   "cell_type": "code",
   "execution_count": null,
   "metadata": {},
   "outputs": [],
   "source": [
    "# save the list \n",
    "# using the savetxt from the numpy module\n",
    "np.savetxt(save_location, \n",
    "           approved_placenames,\n",
    "           delimiter =\", \", \n",
    "           fmt ='% s')"
   ]
  },
  {
   "cell_type": "code",
   "execution_count": null,
   "metadata": {},
   "outputs": [],
   "source": []
  },
  {
   "cell_type": "code",
   "execution_count": null,
   "metadata": {},
   "outputs": [],
   "source": []
  },
  {
   "cell_type": "markdown",
   "metadata": {},
   "source": [
    "TODO: Remove the MWE section as it is not needed for spaCy.\n",
    "Stopped the code form executing for now, but kept for reference while updating the above steps."
   ]
  },
  {
   "cell_type": "markdown",
   "metadata": {},
   "source": [
    "### MWEs as Named Entities  <a class=\"anchor\" id=\"section-mwes\"></a>"
   ]
  },
  {
   "cell_type": "markdown",
   "metadata": {},
   "source": [
    "The annotations so far show that *Cape* and *Pillar* are both a LOCATION NE, but not that *Cape Pillar* is actually the complete name of the location. However Stanza does also recognise multi-word expressions (MWEs), even though it recognises that they are part of an NE. Each *Sentence* annotated by Stanza has a list of [NE *Mentions*](https://stanfordnlp.github.io/CoreNLP/entitymentions.html) which are also given NER categories as their *Type*. "
   ]
  },
  {
   "cell_type": "raw",
   "metadata": {},
   "source": [
    "    print(\"{}\\t{:30s}\\t{}\".format(\"Sentence\", \"Mention\", \"Type\"))\n",
    "    for i, sent in enumerate(document.sentence):\n",
    "        for m in sent.mentions:\n",
    "            print(\"{:5}\\t\\t{:30s}\\t{}\".format(i+1,m.entityMentionText, m.entityType))\n"
   ]
  },
  {
   "cell_type": "markdown",
   "metadata": {},
   "source": [
    "Obviously, this isn't perfect. While *Van Diemen* is recognised as a *PERSON* NE, *Van Diemen's Land* (i.e., the former name for Tasmania) isn't recognised as a *LOCATION*. This is because Stanza is trained to only recognise certain combinations of words and categories as a new MWE category. These rules can however be added to but this workshop won't explore this aspect."
   ]
  },
  {
   "cell_type": "markdown",
   "metadata": {},
   "source": [
    "Each token is also annotated with an index number corresponding to any Mention it is part of. Each token can only be part of one Mention. While the Mentions may be annotated per Sentence, the index number is actually considering all Sentences and Mentions in the annotated text."
   ]
  },
  {
   "cell_type": "raw",
   "metadata": {},
   "source": [
    "TotalNumMentions=0 # keep a running list of how many NEs are identified\n",
    "print(\"{:15s}\\t{:15s}\\t{:6s}\\t{:10s}\\t{:10s}\\t{}\".format(\"word\",\"lemma\",\"POS\",\"NER\",\"Mention Index\",\"Mention\"))\n",
    "\n",
    "for i, sent in enumerate(document.sentence):\n",
    "    NumMentions = len(sent.mentions) # count how many NEs annotated to this sentence\n",
    "    if NumMentions:\n",
    "        print(\"\\n[Sentence {}]\".format(i+1))\n",
    "        for t in sent.token:\n",
    "            # only output tokens that are in NEs\n",
    "            if t.ner != 'O': # Letter, not zero!\n",
    "                # get the full text for the NE\n",
    "                mentionStr=sent.mentions[t.entityMentionIndex -  TotalNumMentions].entityMentionText                \n",
    "                print(\"{:15s}\\t{:15s}\\t{:6s}\\t{:10s}\\t{:10}\\t{}\".format(t.word, \n",
    "                                                                 t.lemma, \n",
    "                                                                 t.pos, \n",
    "                                                                 t.ner, \n",
    "                                                                 t.entityMentionIndex, \n",
    "                                                                 mentionStr))\n",
    "    TotalNumMentions += NumMentions # add to the running total"
   ]
  },
  {
   "cell_type": "markdown",
   "metadata": {},
   "source": [
    "Of course, you are mainly interested in the Named Entities relate to locations. The location-based NER categories used by Stanza are:\n",
    "* *LOCATION*\n",
    "* *CITY*\n",
    "* *COUNTRY*\n",
    "* *STATE_OR_PROVINCE*"
   ]
  },
  {
   "cell_type": "markdown",
   "metadata": {},
   "source": [
    "*NATIONALITY* might also be considered but it may depend on whether you care about phrases like *student of English history* or *Frenchman's cap*, or not.\n",
    "It is easy to filter out all other NEs."
   ]
  },
  {
   "cell_type": "raw",
   "metadata": {},
   "source": [
    "# NATIONALITY is ignored \n",
    "LOCATION_CATEGORIES = ['LOCATION','CITY','COUNTRY','STATE_OR_PROVINCE']\n",
    "\n",
    "# Iterate over all detected entity mentions\n",
    "print(\"{:30s}\\t{}\".format(\"Mention\", \"Type\"))\n",
    "\n",
    "STANZA_Locations = [] # list of locations Stanza recognises\n",
    "for sent in document.sentence:\n",
    "    for m in sent.mentions:\n",
    "        if (m.entityType in LOCATION_CATEGORIES): # ignore any nonLocation NEs\n",
    "            print(\"{:30s}\\t{}\".format(m.entityMentionText, m.entityType))\n",
    "            STANZA_Locations.append(m.entityMentionText)\n",
    "            \n",
    "print(\"\\n{}\".format(STANZA_Locations))"
   ]
  },
  {
   "cell_type": "markdown",
   "metadata": {},
   "source": [
    "You can now put all of this together and find the placenames that are identified by Stanza in each chapter of the text. They can all be collected in a single dataframe."
   ]
  },
  {
   "cell_type": "raw",
   "metadata": {},
   "source": [
    "placenames = pd.DataFrame(columns=['Book','Chapter',\"NEIndex\",\"Placename\"])"
   ]
  },
  {
   "cell_type": "raw",
   "metadata": {},
   "source": [
    "# define which chapters and books you want to annotate\n",
    "CHAPTERS=[1,2,3] \n",
    "BOOKS=[1,2]"
   ]
  },
  {
   "cell_type": "markdown",
   "metadata": {},
   "source": [
    "__\\[MN Note\\]__ Change this to a background server, rather than a server on demand?"
   ]
  },
  {
   "cell_type": "raw",
   "metadata": {},
   "source": [
    "for b in BOOKS:\n",
    "    for c in CHAPTERS:\n",
    "        filename = \"FtToHNL_BOOK_\"+str(b)+\"_CHAPTER_\"+str(c)+\".txt\" \n",
    "        # set the specific path for the 'filename' which is basically working through a list of everything that is in the folder\n",
    "        textlocation = os.path.normpath(os.path.join(text_directory, filename))\n",
    "        text_filename = os.path.basename(textlocation)\n",
    "\n",
    "        # read this chapter\n",
    "        text = open(textlocation, encoding=\"utf-8\").read()\n",
    "        print(\"Working on |\",filename)\n",
    "        \n",
    "        # run the Stanza server & client\n",
    "        # https://nlp.stanford.edu/software/regexner.html\n",
    "        # java -mx1g -cp '*' edu.stanford.nlp.pipeline.StanfordCoreNLP \n",
    "        #      -annotators 'tokenize,ssplit,pos,lemma,ner' -file JuliaGillard.txt\n",
    "        # java -mx1g -cp '*' edu.stanford.nlp.pipeline.StanfordCoreNLP \n",
    "        #      -annotators 'tokenize,ssplit,pos,lemma,ner,regexner' -file JuliaGillard.txt\n",
    "        #      -regexner.mapping jg-regexner.txt\n",
    "        #\n",
    "        # with CoreNLPClient(properties={\n",
    "        #  'annotators': 'tokenize,ssplit,pos',\n",
    "        #  'pos.model': '/path/to/custom-model.ser.gz'\n",
    "        # }) as client:\n",
    "        #with CoreNLPClient(annotators=['tokenize','ssplit', 'pos', 'lemma', 'ner','regexner'], \n",
    "        #           memory='4G', \n",
    "        #           annotators=['tokenize','ssplit', 'pos', 'lemma', 'ner','regexner'], \n",
    "        #           endpoint='http://localhost:9001', \n",
    "        #           be_quiet=True) as client:\n",
    "        with CoreNLPClient(properties={\n",
    "            'annotators': 'tokenize,ssplit,pos,lemma,ner,regexner', \n",
    "            'regexner.mapping':'jg-regexner.txt',\n",
    "            'memory':'4G', \n",
    "            'endpoint':'http://localhost:9001', \n",
    "            'be_quiet':True\n",
    "        }) as client:\n",
    "            # Annotate the text (presuming it is not too large)\n",
    "            document = client.annotate(text)\n",
    "        \n",
    "        # find the placenames according to Stanza\n",
    "        for sent in document.sentence:\n",
    "            for m in sent.mentions:\n",
    "                if (m.entityType in LOCATION_CATEGORIES):\n",
    "                    new_placename = {'Book':b,\n",
    "                                    'Chapter':c,\n",
    "                                    'NEIndex':m.entityMentionIndex,\n",
    "                                    'Placename':m.entityMentionText,\n",
    "                                    'Category':m.entityType}\n",
    "                    placenames = placenames.append(new_placename, ignore_index=True)"
   ]
  },
  {
   "cell_type": "markdown",
   "metadata": {},
   "source": [
    "This shows that a lot more placenames were found in Book 2 than Book 1. This makes sense since Book 1 is set on board an ocean voyage, whereas Book 2 is at Macquarie Harbour in Australia.  "
   ]
  },
  {
   "cell_type": "markdown",
   "metadata": {},
   "source": [
    "The final step is to save this new data to a csv file. You have already defined the directory for your data files."
   ]
  },
  {
   "cell_type": "raw",
   "metadata": {},
   "source": [
    "filename = \"FtToHNL_placenames_v2.txt\"\n",
    "save_location = os.path.normpath(os.path.join(csv_directory, filename))\n",
    "save_filename = os.path.basename(save_location)\n",
    "print(\"Saving placename data to \",save_location)"
   ]
  },
  {
   "cell_type": "raw",
   "metadata": {},
   "source": [
    "placenames.to_csv(save_location)"
   ]
  },
  {
   "cell_type": "raw",
   "metadata": {},
   "source": [
    "print(document)\n"
   ]
  },
  {
   "cell_type": "markdown",
   "metadata": {},
   "source": [
    "## Finding Locations for the Placenames <a class=\"anchor\" id=\"section-findinglocs\"></a>"
   ]
  },
  {
   "cell_type": "markdown",
   "metadata": {},
   "source": [
    "Now that you have a list of placenames from the text, the next step is to work out their location on Earth. For this you can use a combination of specialised lists of locations, gazzetteers and heuristics. The objective is to match every placename with the coordinates of a known location."
   ]
  },
  {
   "cell_type": "markdown",
   "metadata": {},
   "source": [
    "The first step is to read the file of your placenames."
   ]
  },
  {
   "cell_type": "code",
   "execution_count": 58,
   "metadata": {},
   "outputs": [
    {
     "name": "stdout",
     "output_type": "stream",
     "text": [
      "Working on |  FtToHNL_placenames.csv\n"
     ]
    }
   ],
   "source": [
    "filename=\"FtToHNL_placenames.csv\"\n",
    "print(\"Working on | \", filename)\n",
    "\n",
    "# set the specific path for the 'filename' which is basically working through a list of everything that is in the folder\n",
    "data_location = os.path.normpath(os.path.join(csv_directory, filename))\n",
    "data_filename = os.path.basename(data_location)\n",
    "\n",
    "# Using pandas, read the csv file. This will place it in a dataframe format. \n",
    "placenames_df = pd.read_csv(data_location, encoding=\"utf-8\",header=None)"
   ]
  },
  {
   "cell_type": "code",
   "execution_count": 59,
   "metadata": {},
   "outputs": [],
   "source": [
    "placenames_df = placenames_df.rename(columns={placenames_df.columns[0]: 'Placename'})"
   ]
  },
  {
   "cell_type": "code",
   "execution_count": 60,
   "metadata": {},
   "outputs": [
    {
     "data": {
      "text/html": [
       "<div>\n",
       "<style scoped>\n",
       "    .dataframe tbody tr th:only-of-type {\n",
       "        vertical-align: middle;\n",
       "    }\n",
       "\n",
       "    .dataframe tbody tr th {\n",
       "        vertical-align: top;\n",
       "    }\n",
       "\n",
       "    .dataframe thead th {\n",
       "        text-align: right;\n",
       "    }\n",
       "</style>\n",
       "<table border=\"1\" class=\"dataframe\">\n",
       "  <thead>\n",
       "    <tr style=\"text-align: right;\">\n",
       "      <th></th>\n",
       "      <th>Placename</th>\n",
       "    </tr>\n",
       "  </thead>\n",
       "  <tbody>\n",
       "    <tr>\n",
       "      <th>0</th>\n",
       "      <td>the sleepy sea</td>\n",
       "    </tr>\n",
       "    <tr>\n",
       "      <th>1</th>\n",
       "      <td>the Bay of Biscay</td>\n",
       "    </tr>\n",
       "    <tr>\n",
       "      <th>2</th>\n",
       "      <td>Heath</td>\n",
       "    </tr>\n",
       "    <tr>\n",
       "      <th>3</th>\n",
       "      <td>London</td>\n",
       "    </tr>\n",
       "    <tr>\n",
       "      <th>4</th>\n",
       "      <td>Van Diemen's Land</td>\n",
       "    </tr>\n",
       "    <tr>\n",
       "      <th>5</th>\n",
       "      <td>Vickers</td>\n",
       "    </tr>\n",
       "    <tr>\n",
       "      <th>6</th>\n",
       "      <td>Sylvia</td>\n",
       "    </tr>\n",
       "    <tr>\n",
       "      <th>7</th>\n",
       "      <td>Bath</td>\n",
       "    </tr>\n",
       "    <tr>\n",
       "      <th>8</th>\n",
       "      <td>Julia Vickers's</td>\n",
       "    </tr>\n",
       "    <tr>\n",
       "      <th>9</th>\n",
       "      <td>Frere</td>\n",
       "    </tr>\n",
       "    <tr>\n",
       "      <th>10</th>\n",
       "      <td>Chatham</td>\n",
       "    </tr>\n",
       "    <tr>\n",
       "      <th>11</th>\n",
       "      <td>CHAPTER II</td>\n",
       "    </tr>\n",
       "    <tr>\n",
       "      <th>12</th>\n",
       "      <td>Surgeon Pine</td>\n",
       "    </tr>\n",
       "    <tr>\n",
       "      <th>13</th>\n",
       "      <td>Coromandel</td>\n",
       "    </tr>\n",
       "    <tr>\n",
       "      <th>14</th>\n",
       "      <td>Pine</td>\n",
       "    </tr>\n",
       "    <tr>\n",
       "      <th>15</th>\n",
       "      <td>India</td>\n",
       "    </tr>\n",
       "    <tr>\n",
       "      <th>16</th>\n",
       "      <td>the Hydaspes for Calcutta</td>\n",
       "    </tr>\n",
       "    <tr>\n",
       "      <th>17</th>\n",
       "      <td>the poop guard</td>\n",
       "    </tr>\n",
       "    <tr>\n",
       "      <th>18</th>\n",
       "      <td>MONOTONY</td>\n",
       "    </tr>\n",
       "    <tr>\n",
       "      <th>19</th>\n",
       "      <td>Three'll</td>\n",
       "    </tr>\n",
       "    <tr>\n",
       "      <th>20</th>\n",
       "      <td>Van Diemen's</td>\n",
       "    </tr>\n",
       "    <tr>\n",
       "      <th>21</th>\n",
       "      <td>Tasman</td>\n",
       "    </tr>\n",
       "    <tr>\n",
       "      <th>22</th>\n",
       "      <td>Cape Pillar</td>\n",
       "    </tr>\n",
       "    <tr>\n",
       "      <th>23</th>\n",
       "      <td>Pirates' Bay</td>\n",
       "    </tr>\n",
       "    <tr>\n",
       "      <th>24</th>\n",
       "      <td>east</td>\n",
       "    </tr>\n",
       "    <tr>\n",
       "      <th>25</th>\n",
       "      <td>west</td>\n",
       "    </tr>\n",
       "    <tr>\n",
       "      <th>26</th>\n",
       "      <td>the Isle of Wight</td>\n",
       "    </tr>\n",
       "    <tr>\n",
       "      <th>27</th>\n",
       "      <td>the South-West Cape</td>\n",
       "    </tr>\n",
       "    <tr>\n",
       "      <th>28</th>\n",
       "      <td>Swan Port</td>\n",
       "    </tr>\n",
       "    <tr>\n",
       "      <th>29</th>\n",
       "      <td>Mediterranean</td>\n",
       "    </tr>\n",
       "    <tr>\n",
       "      <th>30</th>\n",
       "      <td>Maria Island</td>\n",
       "    </tr>\n",
       "    <tr>\n",
       "      <th>31</th>\n",
       "      <td>the Three Thumbs</td>\n",
       "    </tr>\n",
       "    <tr>\n",
       "      <th>32</th>\n",
       "      <td>Peninsula</td>\n",
       "    </tr>\n",
       "    <tr>\n",
       "      <th>33</th>\n",
       "      <td>Storm Bay</td>\n",
       "    </tr>\n",
       "    <tr>\n",
       "      <th>34</th>\n",
       "      <td>Storing Island</td>\n",
       "    </tr>\n",
       "    <tr>\n",
       "      <th>35</th>\n",
       "      <td>Italy</td>\n",
       "    </tr>\n",
       "    <tr>\n",
       "      <th>36</th>\n",
       "      <td>Sorrell</td>\n",
       "    </tr>\n",
       "    <tr>\n",
       "      <th>37</th>\n",
       "      <td>Bruny Island</td>\n",
       "    </tr>\n",
       "    <tr>\n",
       "      <th>38</th>\n",
       "      <td>Mount Royal</td>\n",
       "    </tr>\n",
       "    <tr>\n",
       "      <th>39</th>\n",
       "      <td>D'Entrecasteaux Channel</td>\n",
       "    </tr>\n",
       "    <tr>\n",
       "      <th>40</th>\n",
       "      <td>Actaeon</td>\n",
       "    </tr>\n",
       "    <tr>\n",
       "      <th>41</th>\n",
       "      <td>the South Cape</td>\n",
       "    </tr>\n",
       "    <tr>\n",
       "      <th>42</th>\n",
       "      <td>New Norfolk</td>\n",
       "    </tr>\n",
       "    <tr>\n",
       "      <th>43</th>\n",
       "      <td>Derwent</td>\n",
       "    </tr>\n",
       "    <tr>\n",
       "      <th>44</th>\n",
       "      <td>the Southern Ocean</td>\n",
       "    </tr>\n",
       "    <tr>\n",
       "      <th>45</th>\n",
       "      <td>Tamar</td>\n",
       "    </tr>\n",
       "    <tr>\n",
       "      <th>46</th>\n",
       "      <td>Victoria</td>\n",
       "    </tr>\n",
       "    <tr>\n",
       "      <th>47</th>\n",
       "      <td>Port Philip Bay</td>\n",
       "    </tr>\n",
       "    <tr>\n",
       "      <th>48</th>\n",
       "      <td>Wellington</td>\n",
       "    </tr>\n",
       "    <tr>\n",
       "      <th>49</th>\n",
       "      <td>Dromedary</td>\n",
       "    </tr>\n",
       "    <tr>\n",
       "      <th>50</th>\n",
       "      <td>Mount Wellington</td>\n",
       "    </tr>\n",
       "    <tr>\n",
       "      <th>51</th>\n",
       "      <td>Launceston</td>\n",
       "    </tr>\n",
       "    <tr>\n",
       "      <th>52</th>\n",
       "      <td>Smyrna</td>\n",
       "    </tr>\n",
       "    <tr>\n",
       "      <th>53</th>\n",
       "      <td>Pyramid Island</td>\n",
       "    </tr>\n",
       "    <tr>\n",
       "      <th>54</th>\n",
       "      <td>Rocky Point</td>\n",
       "    </tr>\n",
       "    <tr>\n",
       "      <th>55</th>\n",
       "      <td>Port Davey</td>\n",
       "    </tr>\n",
       "    <tr>\n",
       "      <th>56</th>\n",
       "      <td>Mount Direction</td>\n",
       "    </tr>\n",
       "    <tr>\n",
       "      <th>57</th>\n",
       "      <td>Macquarie Harbour</td>\n",
       "    </tr>\n",
       "    <tr>\n",
       "      <th>58</th>\n",
       "      <td>Mount Heemskirk</td>\n",
       "    </tr>\n",
       "    <tr>\n",
       "      <th>59</th>\n",
       "      <td>Mount Zeehan</td>\n",
       "    </tr>\n",
       "    <tr>\n",
       "      <th>60</th>\n",
       "      <td>King's River</td>\n",
       "    </tr>\n",
       "    <tr>\n",
       "      <th>61</th>\n",
       "      <td>Sarah Island</td>\n",
       "    </tr>\n",
       "    <tr>\n",
       "      <th>62</th>\n",
       "      <td>Philip's Island</td>\n",
       "    </tr>\n",
       "    <tr>\n",
       "      <th>63</th>\n",
       "      <td>Hobart Town</td>\n",
       "    </tr>\n",
       "    <tr>\n",
       "      <th>64</th>\n",
       "      <td>earth</td>\n",
       "    </tr>\n",
       "    <tr>\n",
       "      <th>65</th>\n",
       "      <td>south-east</td>\n",
       "    </tr>\n",
       "    <tr>\n",
       "      <th>66</th>\n",
       "      <td>Ladybird</td>\n",
       "    </tr>\n",
       "    <tr>\n",
       "      <th>67</th>\n",
       "      <td>Commandant</td>\n",
       "    </tr>\n",
       "    <tr>\n",
       "      <th>68</th>\n",
       "      <td>Port Arthur</td>\n",
       "    </tr>\n",
       "    <tr>\n",
       "      <th>69</th>\n",
       "      <td>Honduras</td>\n",
       "    </tr>\n",
       "    <tr>\n",
       "      <th>70</th>\n",
       "      <td>Arthur</td>\n",
       "    </tr>\n",
       "    <tr>\n",
       "      <th>71</th>\n",
       "      <td>Hells Gates</td>\n",
       "    </tr>\n",
       "    <tr>\n",
       "      <th>72</th>\n",
       "      <td>England</td>\n",
       "    </tr>\n",
       "    <tr>\n",
       "      <th>73</th>\n",
       "      <td>New Town</td>\n",
       "    </tr>\n",
       "    <tr>\n",
       "      <th>74</th>\n",
       "      <td>verandah.-She</td>\n",
       "    </tr>\n",
       "    <tr>\n",
       "      <th>75</th>\n",
       "      <td>Grummet Island</td>\n",
       "    </tr>\n",
       "    <tr>\n",
       "      <th>76</th>\n",
       "      <td>Grummet</td>\n",
       "    </tr>\n",
       "    <tr>\n",
       "      <th>77</th>\n",
       "      <td>Malabar</td>\n",
       "    </tr>\n",
       "    <tr>\n",
       "      <th>78</th>\n",
       "      <td>Dawes</td>\n",
       "    </tr>\n",
       "    <tr>\n",
       "      <th>79</th>\n",
       "      <td>Sydney</td>\n",
       "    </tr>\n",
       "  </tbody>\n",
       "</table>\n",
       "</div>"
      ],
      "text/plain": [
       "                    Placename\n",
       "0              the sleepy sea\n",
       "1           the Bay of Biscay\n",
       "2                       Heath\n",
       "3                      London\n",
       "4           Van Diemen's Land\n",
       "5                     Vickers\n",
       "6                      Sylvia\n",
       "7                        Bath\n",
       "8             Julia Vickers's\n",
       "9                       Frere\n",
       "10                    Chatham\n",
       "11                 CHAPTER II\n",
       "12               Surgeon Pine\n",
       "13                 Coromandel\n",
       "14                       Pine\n",
       "15                      India\n",
       "16  the Hydaspes for Calcutta\n",
       "17             the poop guard\n",
       "18                   MONOTONY\n",
       "19                   Three'll\n",
       "20               Van Diemen's\n",
       "21                     Tasman\n",
       "22                Cape Pillar\n",
       "23               Pirates' Bay\n",
       "24                       east\n",
       "25                       west\n",
       "26          the Isle of Wight\n",
       "27        the South-West Cape\n",
       "28                  Swan Port\n",
       "29              Mediterranean\n",
       "30               Maria Island\n",
       "31           the Three Thumbs\n",
       "32                  Peninsula\n",
       "33                  Storm Bay\n",
       "34             Storing Island\n",
       "35                      Italy\n",
       "36                    Sorrell\n",
       "37               Bruny Island\n",
       "38                Mount Royal\n",
       "39    D'Entrecasteaux Channel\n",
       "40                    Actaeon\n",
       "41             the South Cape\n",
       "42                New Norfolk\n",
       "43                    Derwent\n",
       "44         the Southern Ocean\n",
       "45                      Tamar\n",
       "46                   Victoria\n",
       "47            Port Philip Bay\n",
       "48                 Wellington\n",
       "49                  Dromedary\n",
       "50           Mount Wellington\n",
       "51                 Launceston\n",
       "52                     Smyrna\n",
       "53             Pyramid Island\n",
       "54                Rocky Point\n",
       "55                 Port Davey\n",
       "56            Mount Direction\n",
       "57          Macquarie Harbour\n",
       "58            Mount Heemskirk\n",
       "59               Mount Zeehan\n",
       "60               King's River\n",
       "61               Sarah Island\n",
       "62            Philip's Island\n",
       "63                Hobart Town\n",
       "64                      earth\n",
       "65                 south-east\n",
       "66                   Ladybird\n",
       "67                 Commandant\n",
       "68                Port Arthur\n",
       "69                   Honduras\n",
       "70                     Arthur\n",
       "71                Hells Gates\n",
       "72                    England\n",
       "73                   New Town\n",
       "74              verandah.-She\n",
       "75             Grummet Island\n",
       "76                    Grummet\n",
       "77                    Malabar\n",
       "78                      Dawes\n",
       "79                     Sydney"
      ]
     },
     "execution_count": 60,
     "metadata": {},
     "output_type": "execute_result"
    }
   ],
   "source": [
    "placenames_df"
   ]
  },
  {
   "cell_type": "markdown",
   "metadata": {},
   "source": [
    "### Identifying States and Capitals <a class=\"anchor\" id=\"section-statescapitals\"></a>"
   ]
  },
  {
   "cell_type": "markdown",
   "metadata": {},
   "source": [
    "Some placenames, like *High Street* or *Maryborough*, may be very common across the world, or even in Australia. However, certain placenames refer to significant locations, like states, territories, large geographic features or capital cities. As such, if they are mentioned in a text, the placename is more likely to refer to the major location than a town or village in Tasmania."
   ]
  },
  {
   "cell_type": "markdown",
   "metadata": {},
   "source": [
    "These significant locations are a finite set. They can be defined in a reference file that can be reused when reviewing the placenames of any text."
   ]
  },
  {
   "cell_type": "markdown",
   "metadata": {},
   "source": [
    "A good point for you to start is a file about locations like modern capital cities and countries, combined with historical locations of significance."
   ]
  },
  {
   "cell_type": "code",
   "execution_count": 61,
   "metadata": {},
   "outputs": [
    {
     "name": "stdout",
     "output_type": "stream",
     "text": [
      "Working on |  reference_location_data.csv\n"
     ]
    }
   ],
   "source": [
    "filename=\"reference_location_data.csv\"\n",
    "print(\"Working on | \", filename)\n",
    "\n",
    "# set the specific path for the 'filename' which is basically working through a list of everything that is in the folder\n",
    "reference_location = os.path.normpath(os.path.join(reference_directory, filename))\n",
    "reference_filename = os.path.basename(reference_location)"
   ]
  },
  {
   "cell_type": "markdown",
   "metadata": {},
   "source": [
    "Rather than reading this and then processing it, you can process each line as you read it."
   ]
  },
  {
   "cell_type": "code",
   "execution_count": 62,
   "metadata": {},
   "outputs": [],
   "source": [
    "# Place the reference data in a dataframe\n",
    "locref_df = pd.read_csv(reference_location, encoding=\"utf-8\", header=0)"
   ]
  },
  {
   "cell_type": "code",
   "execution_count": 63,
   "metadata": {},
   "outputs": [
    {
     "data": {
      "text/html": [
       "<div>\n",
       "<style scoped>\n",
       "    .dataframe tbody tr th:only-of-type {\n",
       "        vertical-align: middle;\n",
       "    }\n",
       "\n",
       "    .dataframe tbody tr th {\n",
       "        vertical-align: top;\n",
       "    }\n",
       "\n",
       "    .dataframe thead th {\n",
       "        text-align: right;\n",
       "    }\n",
       "</style>\n",
       "<table border=\"1\" class=\"dataframe\">\n",
       "  <thead>\n",
       "    <tr style=\"text-align: right;\">\n",
       "      <th></th>\n",
       "      <th>LocationName</th>\n",
       "      <th>Category</th>\n",
       "      <th>Latitude</th>\n",
       "      <th>Longitude</th>\n",
       "      <th>PartOf</th>\n",
       "    </tr>\n",
       "  </thead>\n",
       "  <tbody>\n",
       "    <tr>\n",
       "      <th>0</th>\n",
       "      <td>Abuja</td>\n",
       "      <td>Capital</td>\n",
       "      <td>7.533333</td>\n",
       "      <td>9.083333</td>\n",
       "      <td>Nigeria</td>\n",
       "    </tr>\n",
       "    <tr>\n",
       "      <th>1</th>\n",
       "      <td>Accra</td>\n",
       "      <td>Capital</td>\n",
       "      <td>-0.216667</td>\n",
       "      <td>5.550000</td>\n",
       "      <td>Ghana</td>\n",
       "    </tr>\n",
       "    <tr>\n",
       "      <th>2</th>\n",
       "      <td>Adamstown</td>\n",
       "      <td>Capital</td>\n",
       "      <td>-130.083333</td>\n",
       "      <td>-25.066667</td>\n",
       "      <td>Pitcairn Islands</td>\n",
       "    </tr>\n",
       "    <tr>\n",
       "      <th>3</th>\n",
       "      <td>Addis Ababa</td>\n",
       "      <td>Capital</td>\n",
       "      <td>38.700000</td>\n",
       "      <td>9.033333</td>\n",
       "      <td>Ethiopia</td>\n",
       "    </tr>\n",
       "    <tr>\n",
       "      <th>4</th>\n",
       "      <td>Aegina</td>\n",
       "      <td>Capital</td>\n",
       "      <td>23.501421</td>\n",
       "      <td>37.740882</td>\n",
       "      <td>Greece</td>\n",
       "    </tr>\n",
       "    <tr>\n",
       "      <th>...</th>\n",
       "      <td>...</td>\n",
       "      <td>...</td>\n",
       "      <td>...</td>\n",
       "      <td>...</td>\n",
       "      <td>...</td>\n",
       "    </tr>\n",
       "    <tr>\n",
       "      <th>543</th>\n",
       "      <td>Zagreb</td>\n",
       "      <td>Capital</td>\n",
       "      <td>16.000000</td>\n",
       "      <td>45.800000</td>\n",
       "      <td>Croatia</td>\n",
       "    </tr>\n",
       "    <tr>\n",
       "      <th>544</th>\n",
       "      <td>Zambia</td>\n",
       "      <td>Country</td>\n",
       "      <td>28.283333</td>\n",
       "      <td>-15.416667</td>\n",
       "      <td>Africa</td>\n",
       "    </tr>\n",
       "    <tr>\n",
       "      <th>545</th>\n",
       "      <td>Zanzibar City</td>\n",
       "      <td>Capital</td>\n",
       "      <td>39.198914</td>\n",
       "      <td>-6.165193</td>\n",
       "      <td>Tanzania</td>\n",
       "    </tr>\n",
       "    <tr>\n",
       "      <th>546</th>\n",
       "      <td>Zimbabwe</td>\n",
       "      <td>Country</td>\n",
       "      <td>31.033333</td>\n",
       "      <td>-17.816667</td>\n",
       "      <td>Africa</td>\n",
       "    </tr>\n",
       "    <tr>\n",
       "      <th>547</th>\n",
       "      <td>Zomba</td>\n",
       "      <td>Capital</td>\n",
       "      <td>35.335652</td>\n",
       "      <td>-15.376586</td>\n",
       "      <td>Malawi</td>\n",
       "    </tr>\n",
       "  </tbody>\n",
       "</table>\n",
       "<p>548 rows × 5 columns</p>\n",
       "</div>"
      ],
      "text/plain": [
       "      LocationName Category    Latitude  Longitude            PartOf\n",
       "0            Abuja  Capital    7.533333   9.083333           Nigeria\n",
       "1            Accra  Capital   -0.216667   5.550000             Ghana\n",
       "2        Adamstown  Capital -130.083333 -25.066667  Pitcairn Islands\n",
       "3      Addis Ababa  Capital   38.700000   9.033333          Ethiopia\n",
       "4           Aegina  Capital   23.501421  37.740882            Greece\n",
       "..             ...      ...         ...        ...               ...\n",
       "543         Zagreb  Capital   16.000000  45.800000           Croatia\n",
       "544         Zambia  Country   28.283333 -15.416667            Africa\n",
       "545  Zanzibar City  Capital   39.198914  -6.165193          Tanzania\n",
       "546       Zimbabwe  Country   31.033333 -17.816667            Africa\n",
       "547          Zomba  Capital   35.335652 -15.376586            Malawi\n",
       "\n",
       "[548 rows x 5 columns]"
      ]
     },
     "execution_count": 63,
     "metadata": {},
     "output_type": "execute_result"
    }
   ],
   "source": [
    "locref_df"
   ]
  },
  {
   "cell_type": "markdown",
   "metadata": {},
   "source": [
    "\\[TODO\\]: update this text chunk to suit the workshop "
   ]
  },
  {
   "cell_type": "markdown",
   "metadata": {},
   "source": [
    "Of course, if you are researching historical texts, then some of these contemporary locations may have had different names. Old New York was once New Amsterdam (and had the [nickname of Gotham](https://www.nypl.org/blog/2011/01/25/so-why-do-we-call-it-gotham-anyway), amongst others). Istanbul was Constantinople. Some locations had [romanized names](https://en.wikipedia.org/wiki/Chinese_postal_romanization), like Beijing being called Peking. They may be a long time gone but you might want to add them to the list of significant known locations."
   ]
  },
  {
   "cell_type": "markdown",
   "metadata": {},
   "source": [
    "Another historical variant is changing which cities are the capitals. These may be due to political decisions, like the movement of the Australian parliament from Melbourne to the new city of Canberra, or they could be a necessity due to the results of war, like Bonn becoming the capital of West Germany after World War II. These older capitals may also have to be accomodated in your reference data."
   ]
  },
  {
   "cell_type": "markdown",
   "metadata": {},
   "source": [
    "Because FtToHNL is set in the 19th Century CE, the next step is to add various capital cities from then."
   ]
  },
  {
   "cell_type": "markdown",
   "metadata": {},
   "source": [
    "There are also larger geopolitical regions that may have been associated with placenames and cultures, for instance empires, dynasties and colonies like the British Empire or the Zulu Kingdom. Again, the borders and applicability of these political entities changed over time, so a contemporary reference list may not include them. "
   ]
  },
  {
   "cell_type": "markdown",
   "metadata": {},
   "source": [
    "The 19th Century CE was a time of many European Empires so for FtToHNL, you will need to add reference data associated with relevant entities."
   ]
  },
  {
   "cell_type": "markdown",
   "metadata": {},
   "source": [
    "When processing this reference file, you can add the old political entity, its capital (if known), the geographic region (like continent or part thereof) and the modern country it would be considered part of.  "
   ]
  },
  {
   "cell_type": "markdown",
   "metadata": {},
   "source": [
    "The next step is to see if any of the placenames from our selected chapters of FtToHNL match these locations."
   ]
  },
  {
   "cell_type": "markdown",
   "metadata": {},
   "source": [
    "[TO DO] Describe this without being technical "
   ]
  },
  {
   "cell_type": "markdown",
   "metadata": {},
   "source": [
    "If we match a placename, copy the geolocation data for the matching location. Otherwise, keep it empty so we know to keep looking for the placename."
   ]
  },
  {
   "cell_type": "code",
   "execution_count": 64,
   "metadata": {},
   "outputs": [
    {
     "name": "stdout",
     "output_type": "stream",
     "text": [
      "Still looking for  the sleepy sea\n",
      "Still looking for  the Bay of Biscay\n",
      "Still looking for  Heath\n",
      "*** Found London [Exact match]\n",
      "Still looking for  Van Diemen's Land\n",
      "Still looking for  Vickers\n",
      "Still looking for  Sylvia\n",
      "Still looking for  Bath\n",
      "Still looking for  Julia Vickers's\n",
      "Still looking for  Frere\n",
      "Still looking for  Chatham\n",
      "Still looking for  CHAPTER II\n",
      "Still looking for  Surgeon Pine\n",
      "Still looking for  Coromandel\n",
      "Still looking for  Pine\n",
      "*** Found India [Exact match]\n",
      "Still looking for  the Hydaspes for Calcutta\n",
      "Still looking for  the poop guard\n",
      "Still looking for  MONOTONY\n",
      "Still looking for  Three'll\n",
      "Still looking for  Van Diemen's\n",
      "Still looking for  Tasman\n",
      "Still looking for  Cape Pillar\n",
      "Still looking for  Pirates' Bay\n",
      "Still looking for  east\n",
      "Still looking for  west\n",
      "Still looking for  the Isle of Wight\n",
      "Still looking for  the South-West Cape\n",
      "Still looking for  Swan Port\n",
      "Still looking for  Mediterranean\n",
      "Still looking for  Maria Island\n",
      "Still looking for  the Three Thumbs\n",
      "Still looking for  Peninsula\n",
      "Still looking for  Storm Bay\n",
      "Still looking for  Storing Island\n",
      "*** Found Italy [Exact match]\n",
      "Still looking for  Sorrell\n",
      "Still looking for  Bruny Island\n",
      "Still looking for  Mount Royal\n",
      "Still looking for  D'Entrecasteaux Channel\n",
      "Still looking for  Actaeon\n",
      "Still looking for  the South Cape\n",
      "Still looking for  New Norfolk\n",
      "Still looking for  Derwent\n",
      "Still looking for  the Southern Ocean\n",
      "Still looking for  Tamar\n",
      "*** Found Victoria [Exact match]\n",
      "Still looking for  Port Philip Bay\n",
      "*** Found Wellington [Exact match]\n",
      "Still looking for  Dromedary\n",
      "Still looking for  Mount Wellington\n",
      "Still looking for  Launceston\n",
      "Still looking for  Smyrna\n",
      "Still looking for  Pyramid Island\n",
      "Still looking for  Rocky Point\n",
      "Still looking for  Port Davey\n",
      "Still looking for  Mount Direction\n",
      "Still looking for  Macquarie Harbour\n",
      "Still looking for  Mount Heemskirk\n",
      "Still looking for  Mount Zeehan\n",
      "Still looking for  King's River\n",
      "Still looking for  Sarah Island\n",
      "Still looking for  Philip's Island\n",
      "Still looking for  Hobart Town\n",
      "Still looking for  earth\n",
      "Still looking for  south-east\n",
      "Still looking for  Ladybird\n",
      "Still looking for  Commandant\n",
      "Still looking for  Port Arthur\n",
      "*** Found Honduras [Exact match]\n",
      "Still looking for  Arthur\n",
      "Still looking for  Hells Gates\n",
      "Still looking for  England\n",
      "Still looking for  New Town\n",
      "Still looking for  verandah.-She\n",
      "Still looking for  Grummet Island\n",
      "Still looking for  Grummet\n",
      "Still looking for  Malabar\n",
      "Still looking for  Dawes\n",
      "Still looking for  Sydney\n"
     ]
    }
   ],
   "source": [
    "\n",
    "geolocdata = [] # all the data about placenames and locations, once linked\n",
    "\n",
    "for placename in placenames_df['Placename']:\n",
    "    \n",
    "    # create a new geoloc entry about this placename\n",
    "    new_geolocdata={} \n",
    "    ## start a record for a placename\n",
    "    new_geolocdata['placename'] = placename\n",
    "    new_geolocdata['locations'] = {} # start with no location details\n",
    "    new_geolocdata['locations']['best_match'] = [] # start with no match\n",
    "    \n",
    "    # normalise its case and remove any leading whitespace\n",
    "    # This will be needed later for the gazzetteer\n",
    "    #safe_placename = urllib.parse.quote(placename.strip().lower()) \n",
    "\n",
    "    # Exact match\n",
    "    if(placename in list(locref_df['LocationName'])):\n",
    "        \n",
    "        print(\"*** Found\", placename,\"[Exact match]\")\n",
    "        # Copy the details from the reference file entry\n",
    "        new_geolocdata['locations']['best_match'] = locref_df[locref_df['LocationName']==placename]\n",
    "        \n",
    "    else:\n",
    "        print(\"Still looking for \", placename)\n",
    "    \n",
    "    # If you have a match, show it\n",
    "    #if (len(new_geolocdata['locations']['best_match']) > 0):\n",
    "    #    print(new_geolocdata)\n",
    "        \n",
    "    geolocdata.append(new_geolocdata) # add the new placename data to the list"
   ]
  },
  {
   "cell_type": "markdown",
   "metadata": {},
   "source": [
    "Check that you have recorded the matches (and mismatches)"
   ]
  },
  {
   "cell_type": "code",
   "execution_count": 65,
   "metadata": {},
   "outputs": [
    {
     "data": {
      "text/plain": [
       "[{'placename': 'the sleepy sea', 'locations': {'best_match': []}},\n",
       " {'placename': 'the Bay of Biscay', 'locations': {'best_match': []}},\n",
       " {'placename': 'Heath', 'locations': {'best_match': []}},\n",
       " {'placename': 'London',\n",
       "  'locations': {'best_match':     LocationName Category  Latitude  Longitude          PartOf\n",
       "   266       London  Capital -0.083333       51.5  United Kingdom}},\n",
       " {'placename': \"Van Diemen's Land\", 'locations': {'best_match': []}},\n",
       " {'placename': 'Vickers', 'locations': {'best_match': []}},\n",
       " {'placename': 'Sylvia', 'locations': {'best_match': []}},\n",
       " {'placename': 'Bath', 'locations': {'best_match': []}},\n",
       " {'placename': \"Julia Vickers's\", 'locations': {'best_match': []}},\n",
       " {'placename': 'Frere', 'locations': {'best_match': []}}]"
      ]
     },
     "execution_count": 65,
     "metadata": {},
     "output_type": "execute_result"
    }
   ],
   "source": [
    "geolocdata[:10]"
   ]
  },
  {
   "cell_type": "markdown",
   "metadata": {},
   "source": [
    "What locations did you end up finding?"
   ]
  },
  {
   "cell_type": "code",
   "execution_count": 66,
   "metadata": {},
   "outputs": [
    {
     "data": {
      "text/plain": [
       "['London Capital -0.083333 51.5 United Kingdom',\n",
       " 'India Country 77.2 28.6 Asia',\n",
       " 'Italy Country 12.483333 41.9 Europe',\n",
       " 'Victoria Capital 55.45 -4.616667 Seychelles',\n",
       " 'Wellington Capital 174.783333 -41.3 New Zealand',\n",
       " 'Honduras Country -87.216667 14.1 Central America']"
      ]
     },
     "execution_count": 66,
     "metadata": {},
     "output_type": "execute_result"
    }
   ],
   "source": [
    "matchdata = [p['locations']['best_match'].to_string(index=False,header=False) for p in geolocdata \n",
    "             if len(p['locations']['best_match'])>0]\n",
    "matchdata"
   ]
  },
  {
   "cell_type": "markdown",
   "metadata": {},
   "source": [
    "We can now forget about the dataframe with the complete set of reference data."
   ]
  },
  {
   "cell_type": "code",
   "execution_count": 67,
   "metadata": {},
   "outputs": [],
   "source": [
    "del locref_df"
   ]
  },
  {
   "cell_type": "markdown",
   "metadata": {},
   "source": [
    "### Searching a Gazetteer for Locations <a class=\"anchor\" id=\"section-searchgazzeteer\"></a>"
   ]
  },
  {
   "cell_type": "markdown",
   "metadata": {},
   "source": [
    "Search [Open Street Map (ODM)](https://nominatim.org/release-docs/develop/api/Search/) for locations that match the unknown placenames."
   ]
  },
  {
   "cell_type": "code",
   "execution_count": 68,
   "metadata": {},
   "outputs": [],
   "source": [
    "#install ratelimit\n",
    "import requests\n",
    "from IPython.display import JSON\n",
    "import json\n",
    "from pprint import pprint\n",
    "from ratelimit import limits, RateLimitException, sleep_and_retry\n",
    "#import pandas as pd"
   ]
  },
  {
   "cell_type": "code",
   "execution_count": 69,
   "metadata": {},
   "outputs": [],
   "source": [
    "# How many (max) results do we want for each name?\n",
    "#[TO DO] Make this a user setting, defaulting to 5\n",
    "# The normal is (Default: 10, Maximum: 50), according to https://nominatim.org/release-docs/develop/api/Search/\n",
    "OSM_limit = 5"
   ]
  },
  {
   "cell_type": "code",
   "execution_count": 70,
   "metadata": {},
   "outputs": [],
   "source": [
    "# Send rate-limited requests that stay within n requests per second\n",
    "# [TO DO] add link to webpage about this\n",
    "@sleep_and_retry\n",
    "@limits(calls=1, period=1)\n",
    "def osm_call_api(url):\n",
    "    response = requests.get(url)\n",
    "    return response\n",
    "\n",
    "# Format the api response to make comparison easier\n",
    "def osm_format_response(input):\n",
    "\n",
    "    # Shorten the name and extract the country name, if any\n",
    "    hyperlocation = None;\n",
    "    shortlocation = input[\"display_name\"] # default to full address\n",
    "\n",
    "    if input[\"display_name\"].find(','):\n",
    "        # break up the address\n",
    "        namesplit = input[\"display_name\"].split(',')\n",
    "        # extract the rightmost term from the split\n",
    "        hyperlocation = namesplit[len(namesplit)-1]\n",
    "        shortlocation = namesplit[0]\n",
    "        #hyperlocation=len(namesplit)     \n",
    "        \n",
    "    # for now, keep the names consistent between records \n",
    "    response = {\"LocationName\": shortlocation, \n",
    "              \"Category\": input[\"type\"],\n",
    "              \"Latitude\": input[\"lat\"], \n",
    "              \"Longitude\": input[\"lon\"],\n",
    "              \"PartOf\": hyperlocation,\n",
    "              \"Gazetteer\": \"OSM\"\n",
    "                }\n",
    "    return response"
   ]
  },
  {
   "cell_type": "markdown",
   "metadata": {},
   "source": [
    "[TO BE DONE]"
   ]
  },
  {
   "cell_type": "markdown",
   "metadata": {},
   "source": [
    "You can now move to the data that is needed for the geolocation project."
   ]
  },
  {
   "cell_type": "code",
   "execution_count": 71,
   "metadata": {},
   "outputs": [
    {
     "name": "stdout",
     "output_type": "stream",
     "text": [
      "looking for the sleepy sea\n",
      "looking for the Bay of Biscay\n",
      "looking for Heath\n",
      "looking for Van Diemen's Land\n",
      "looking for Vickers\n",
      "looking for Sylvia\n",
      "looking for Bath\n",
      "looking for Julia Vickers's\n",
      "looking for Frere\n",
      "looking for Chatham\n",
      "looking for CHAPTER II\n",
      "looking for Surgeon Pine\n",
      "looking for Coromandel\n",
      "looking for Pine\n",
      "looking for the Hydaspes for Calcutta\n",
      "looking for the poop guard\n",
      "looking for MONOTONY\n",
      "looking for Three'll\n",
      "looking for Van Diemen's\n",
      "looking for Tasman\n",
      "looking for Cape Pillar\n",
      "looking for Pirates' Bay\n",
      "looking for east\n",
      "looking for west\n",
      "looking for the Isle of Wight\n",
      "looking for the South-West Cape\n",
      "looking for Swan Port\n",
      "looking for Mediterranean\n",
      "looking for Maria Island\n",
      "looking for the Three Thumbs\n",
      "looking for Peninsula\n",
      "looking for Storm Bay\n",
      "looking for Storing Island\n",
      "looking for Sorrell\n",
      "looking for Bruny Island\n",
      "looking for Mount Royal\n",
      "looking for D'Entrecasteaux Channel\n",
      "looking for Actaeon\n",
      "looking for the South Cape\n",
      "looking for New Norfolk\n",
      "looking for Derwent\n",
      "looking for the Southern Ocean\n",
      "looking for Tamar\n",
      "looking for Port Philip Bay\n",
      "looking for Dromedary\n",
      "looking for Mount Wellington\n",
      "looking for Launceston\n",
      "looking for Smyrna\n",
      "looking for Pyramid Island\n",
      "looking for Rocky Point\n",
      "looking for Port Davey\n",
      "looking for Mount Direction\n",
      "looking for Macquarie Harbour\n",
      "looking for Mount Heemskirk\n",
      "looking for Mount Zeehan\n",
      "looking for King's River\n",
      "looking for Sarah Island\n",
      "looking for Philip's Island\n",
      "looking for Hobart Town\n",
      "looking for earth\n",
      "looking for south-east\n",
      "looking for Ladybird\n",
      "looking for Commandant\n",
      "looking for Port Arthur\n",
      "looking for Arthur\n",
      "looking for Hells Gates\n",
      "looking for England\n",
      "looking for New Town\n",
      "looking for verandah.-She\n",
      "looking for Grummet Island\n",
      "looking for Grummet\n",
      "looking for Malabar\n",
      "looking for Dawes\n",
      "looking for Sydney\n"
     ]
    }
   ],
   "source": [
    "# For every placename in our list\n",
    "for p in geolocdata:\n",
    "    # Already found a location, so skip to the next placename\n",
    "    if len(p['locations']['best_match']) > 0:\n",
    "        continue\n",
    "        \n",
    "    placename = p['placename']\n",
    "    print (\"looking for\",placename)\n",
    "\n",
    "    # query the OSM database\n",
    "    url = f\"https://nominatim.openstreetmap.org/search?q={placename}&format=json&limit={OSM_limit}\"\n",
    "    response = osm_call_api(url)\n",
    "    response_dict = json.loads(response.text)\n",
    "    #print(response.text)\n",
    "\n",
    "    p['locations']['candidates']=None\n",
    "    \n",
    "    # Handle no results found\n",
    "    if len(response_dict) is 0:\n",
    "        # skip to the next placename\n",
    "        continue\n",
    "        \n",
    "    # Save the possible locations for later processing\n",
    "    data_frames = []\n",
    "\n",
    "    # Handle results found\n",
    "    for response_record in response_dict:\n",
    "        #  Use this to look at a reduced set of data from the results\n",
    "        #print(response_record)\n",
    "        #cleaned_response = osm_format_response(response_record)\n",
    "        cleaned_response = pd.DataFrame([osm_format_response(response_record)])\n",
    "\n",
    "        #print(\"   ...... \",cleaned_response)\n",
    "\n",
    "        # Add the data to a dataframe\n",
    "        # The cleaned_response should be in the form we want to keep.\n",
    "        data_frames.append(cleaned_response)\n",
    "\n",
    "        #df = pd.DataFrame(columns = [#'name' , \n",
    "        #                             'Location',\n",
    "        #                             \"Category\",\n",
    "        #                             \"Latitude\",\n",
    "        #                             \"Longitude\",\n",
    "        #                             \"PartOf\",\n",
    "        #                             \"Gazetteer\"])\n",
    "        #df = df.append({#\"name\": placename, \n",
    "        #                \"LocationName\": cleaned_response[\"LocationName\"],\n",
    "        #                \"Category\": cleaned_response[\"CategoryType\"],\n",
    "        #                'Latitude': cleaned_response[\"Latitude\"],\n",
    "        #                'Longitude': cleaned_response[\"Longitude\"],\n",
    "        #                'PartOf': cleaned_response[\"PartOf\"],\n",
    "        #                'Gazetteer': cleaned_response[\"Gazetteer\"]}, \n",
    "        #               ignore_index=True)\n",
    "        #data_frames.append(df)\n",
    "        \n",
    "        # print the output\n",
    "        #matchdata = df.to_string(index=False,header=False)\n",
    "        #print(\"  *  \",matchdata)\n",
    "\n",
    "\n",
    "        #print(df)\n",
    "\n",
    "    # add the results to the geoloc dataframe\n",
    "    # review the outcomes later\n",
    "    p['locations']['candidates'] = data_frames\n",
    "\n",
    "    #print(p['locations']['candidates'])\n",
    "        \n",
    "    #exit()\n",
    "    "
   ]
  },
  {
   "cell_type": "markdown",
   "metadata": {},
   "source": [
    "What placenames have you still not found?"
   ]
  },
  {
   "cell_type": "code",
   "execution_count": 72,
   "metadata": {},
   "outputs": [
    {
     "data": {
      "text/plain": [
       "['the sleepy sea',\n",
       " \"Julia Vickers's\",\n",
       " 'the Hydaspes for Calcutta',\n",
       " 'the poop guard',\n",
       " 'MONOTONY',\n",
       " 'the Three Thumbs',\n",
       " 'Storing Island',\n",
       " 'Commandant',\n",
       " 'verandah.-She',\n",
       " 'Grummet Island']"
      ]
     },
     "execution_count": 72,
     "metadata": {},
     "output_type": "execute_result"
    }
   ],
   "source": [
    "unmatcheddata = [p['placename'] for p in geolocdata \n",
    "             if len(p['locations']['best_match'])==0 and p['locations']['candidates']==None]\n",
    "unmatcheddata"
   ]
  },
  {
   "cell_type": "markdown",
   "metadata": {},
   "source": [
    "Where have you found locations for placenames?"
   ]
  },
  {
   "cell_type": "code",
   "execution_count": 73,
   "metadata": {},
   "outputs": [
    {
     "data": {
      "text/plain": [
       "['the Bay of Biscay',\n",
       " 'Heath',\n",
       " 'London',\n",
       " \"Van Diemen's Land\",\n",
       " 'Vickers',\n",
       " 'Sylvia',\n",
       " 'Bath',\n",
       " 'Frere',\n",
       " 'Chatham',\n",
       " 'CHAPTER II',\n",
       " 'Surgeon Pine',\n",
       " 'Coromandel',\n",
       " 'Pine',\n",
       " 'India',\n",
       " \"Three'll\",\n",
       " \"Van Diemen's\",\n",
       " 'Tasman',\n",
       " 'Cape Pillar',\n",
       " \"Pirates' Bay\",\n",
       " 'east',\n",
       " 'west',\n",
       " 'the Isle of Wight',\n",
       " 'the South-West Cape',\n",
       " 'Swan Port',\n",
       " 'Mediterranean',\n",
       " 'Maria Island',\n",
       " 'Peninsula',\n",
       " 'Storm Bay',\n",
       " 'Italy',\n",
       " 'Sorrell',\n",
       " 'Bruny Island',\n",
       " 'Mount Royal',\n",
       " \"D'Entrecasteaux Channel\",\n",
       " 'Actaeon',\n",
       " 'the South Cape',\n",
       " 'New Norfolk',\n",
       " 'Derwent',\n",
       " 'the Southern Ocean',\n",
       " 'Tamar',\n",
       " 'Victoria',\n",
       " 'Port Philip Bay',\n",
       " 'Wellington',\n",
       " 'Dromedary',\n",
       " 'Mount Wellington',\n",
       " 'Launceston',\n",
       " 'Smyrna',\n",
       " 'Pyramid Island',\n",
       " 'Rocky Point',\n",
       " 'Port Davey',\n",
       " 'Mount Direction',\n",
       " 'Macquarie Harbour',\n",
       " 'Mount Heemskirk',\n",
       " 'Mount Zeehan',\n",
       " \"King's River\",\n",
       " 'Sarah Island',\n",
       " \"Philip's Island\",\n",
       " 'Hobart Town',\n",
       " 'earth',\n",
       " 'south-east',\n",
       " 'Ladybird',\n",
       " 'Port Arthur',\n",
       " 'Honduras',\n",
       " 'Arthur',\n",
       " 'Hells Gates',\n",
       " 'England',\n",
       " 'New Town',\n",
       " 'Grummet',\n",
       " 'Malabar',\n",
       " 'Dawes',\n",
       " 'Sydney']"
      ]
     },
     "execution_count": 73,
     "metadata": {},
     "output_type": "execute_result"
    }
   ],
   "source": [
    "matchdata = [p['placename'] for p in geolocdata \n",
    "             if len(p['locations']['best_match'])>0 or p['locations']['candidates']!=None]\n",
    "matchdata"
   ]
  },
  {
   "cell_type": "markdown",
   "metadata": {},
   "source": [
    "While Open Street Map is a wonderful resource, it focusses on current names of geographic locations. If the original source of your placenames was not written in the recent decades, then the OSM may not know the appropriate names of locations for the time of the document. "
   ]
  },
  {
   "cell_type": "markdown",
   "metadata": {},
   "source": [
    "One solution is to also look up a historical gazetteer, like the TLC. \n",
    "\n",
    "Like the OSM API, the TLCMap API has various options, like which type of search to use and whether to search any data in the database enetred by the public, rather than that which has been verified or entered by experts."
   ]
  },
  {
   "cell_type": "markdown",
   "metadata": {},
   "source": [
    "[TO DO] Describe the TLCMap"
   ]
  },
  {
   "cell_type": "markdown",
   "metadata": {},
   "source": [
    "For this workshop, you will look for exact matches between the placenames and the locations, and not consider any publicly entered data."
   ]
  },
  {
   "cell_type": "code",
   "execution_count": 74,
   "metadata": {},
   "outputs": [],
   "source": [
    "# Which order to do different searches for known locations\n",
    "search_type = 'exact' # alt values: 'exact', 'fuzzy', 'contains' \n",
    "\n",
    "# Flag whether to use data provided by the public\n",
    "search_public_data = False # alt values = True, False"
   ]
  },
  {
   "cell_type": "markdown",
   "metadata": {},
   "source": [
    "Like for the OSM, you can limit how many results you want to examine. The TLCMap default for this notebook is 1."
   ]
  },
  {
   "cell_type": "code",
   "execution_count": 75,
   "metadata": {},
   "outputs": [],
   "source": [
    "TLCMap_limit = 1"
   ]
  },
  {
   "cell_type": "markdown",
   "metadata": {},
   "source": [
    "Like for the OSM, you will need a few functions to query the the API."
   ]
  },
  {
   "cell_type": "code",
   "execution_count": 76,
   "metadata": {},
   "outputs": [],
   "source": [
    "def tlc_build_url(placename: str, search_type: str, search_public_data: bool = False) -> str:\n",
    "    \"\"\"\n",
    "    Build a url to query the tlcmap/ghap API.\n",
    "    placename: the place we're trying to locate\n",
    "    search_type: what search type to use (accepts one of ['contains','fuzzy','exact'])\n",
    "    \n",
    "    ref: https://www.tlcmap.org/guides/ghap/#ws\n",
    "    \"\"\"\n",
    "    safe_placename = urllib.parse.quote(placename.strip().lower())\n",
    "\n",
    "    url = f\"https://tlcmap.org/ghap/search?\"\n",
    "\n",
    "    if search_type == 'fuzzy':\n",
    "        url += f\"fuzzyname={safe_placename}\"\n",
    "    elif search_type == 'exact':\n",
    "        url += f\"name={safe_placename}\"\n",
    "    elif search_type == 'contains':\n",
    "        url += f\"containsname={safe_placename}\"\n",
    "    else:\n",
    "        return None\n",
    "\n",
    "    # Search Australian National Placenames Survey provided data\n",
    "    url += \"&searchausgaz=on\"\n",
    "    \n",
    "    # Search public provided data, this data could be unreliable\n",
    "    if search_public_data == True:\n",
    "        url += \"&searchpublicdatasets=on\"\n",
    "    else:\n",
    "        url += \"&searchpublicdatasets=off\"\n",
    "        \n",
    "    # Retrieve data as JSON\n",
    "    url += \"&format=json\"\n",
    "    \n",
    "    # limit the number of results\n",
    "    url += \"&paging=\" + str(TLCMap_limit)\n",
    "\n",
    "    return url\n",
    "\n",
    "# Send rate-limited requests that stay within n requests per second\n",
    "# [TO DO] add link to webpage about this\n",
    "@sleep_and_retry\n",
    "@limits(calls=1, period=1)\n",
    "def tlc_call_api(url):\n",
    "    r = requests.get(url)\n",
    "    if r.url == 'https://tlcmap.org/ghap/maxpaging':\n",
    "        return None\n",
    "    #if (type(response)==bytes and str(response) == 'No search results to display.'):\n",
    "    #    return None\n",
    "    #print(\"Response:\",r)\n",
    "\n",
    "    # If the reply says the placename wasn't found, customise the JSON data for the reply\n",
    "    if r.content.decode() == \"No search results to display.\":\n",
    "        # This should have obviously just be an empty list of features, but TLCMap is badly behaved\n",
    "        response = json.loads('{\"type\": \"FeatureCollection\",\"metadata\": {},\"features\": []}')\n",
    "    # SUCCESS! Record the spatial data provided in the reply\n",
    "    elif r.ok:\n",
    "        response = r.json()    # get [lon, lat] for spatial matches\n",
    "\n",
    "    return response\n",
    "\n",
    "    #log(f\"Query returned {response.status_code}\")\n",
    "    #if response.ok:\n",
    "    #    \"\"\"\n",
    "    #    NOTE: we could catch json.decoder.JSONDecodeError, but since json=<3.4 doesn't raise this,\n",
    "    #         a generic ValueError is more portable\n",
    "    #    See: https://stackoverflow.com/questions/44714046/python3-unable-to-import-jsondecodeerror-from-json-decoder\n",
    "    #    \"\"\"\n",
    "    #    try:\n",
    "    #       data = json.loads(response.content)\n",
    "    #    except ValueError: #Error handling for 0 matches \n",
    "    #        return None\n",
    "    #    return response\n",
    "    #return None\n",
    "\n",
    "def tlc_query_name(placename: str, search_type: str):\n",
    "    \"\"\"\n",
    "    Use tlcmap/ghap API to check a placename, implemented fuzzy search but will not handle non returns.\n",
    "    \"\"\"\n",
    "    url = tlc_build_url(placename, search_type, search_public_data)\n",
    "    #print(url)\n",
    "    if url:\n",
    "        return tlc_call_api(url)\n",
    "    return None"
   ]
  },
  {
   "cell_type": "code",
   "execution_count": 77,
   "metadata": {},
   "outputs": [],
   "source": [
    "# Format the api response to make comparison easier\n",
    "def tlc_format_response(input):\n",
    "\n",
    "    #if input = None:\n",
    "    #    return None\n",
    "    \n",
    "    locdata={} # formatted data\n",
    "    \n",
    "    # look at each location in the features\n",
    "    locationfeatures=input\n",
    "    if len(locationfeatures):\n",
    "        # Gather the locdata for one of the placename's location \n",
    "        if 'placename' in locationfeatures['properties']:\n",
    "            locdata['LocationName'] = locationfeatures['properties']['placename']\n",
    "        else:\n",
    "            locdata['LocationName'] = \"Unknown Location\"\n",
    "        if 'feature_term' in locationfeatures['properties']:\n",
    "            locdata['Category']=locationfeatures['properties'][\"feature_term\"]\n",
    "        else:\n",
    "            locdata['Category']=None\n",
    "        if 'longitude' in locationfeatures['properties']:\n",
    "            locdata['Longitude']=locationfeatures['properties'][\"longitude\"]\n",
    "        else:\n",
    "            locdata['Longitude']=None\n",
    "        if 'latitude' in locationfeatures['properties']:\n",
    "            locdata['Latitude']=locationfeatures['properties'][\"latitude\"]\n",
    "        else:\n",
    "            locdata['Latitude']=None\n",
    "        if 'state' in locationfeatures['properties']:\n",
    "            locdata['PartOf']=locationfeatures['properties']['state']\n",
    "        else:\n",
    "            locdata['PartOf']=None\n",
    "        locdata['Gazetteer']=\"TLCMap\"\n",
    "\n",
    "        # for now, keep the names consistent between records \n",
    "        response = {\"LocationName\": locdata[\"LocationName\"], \n",
    "              \"Category\": locdata[\"Category\"],\n",
    "              \"Latitude\": locdata[\"Latitude\"], \n",
    "              \"Longitude\": locdata[\"Longitude\"],\n",
    "              \"PartOf\": locdata[\"PartOf\"],\n",
    "              \"Gazetteer\": \"TLCMap\"\n",
    "                }\n",
    "\n",
    "        #response=pd.DataFrame([locdata])\n",
    "        #response=locdata\n",
    "    else:\n",
    "        response=None\n",
    "\n",
    "    return response"
   ]
  },
  {
   "cell_type": "markdown",
   "metadata": {},
   "source": [
    "You can now search the TLCMap for locations matching the same placenames you previously searched for in the OSM."
   ]
  },
  {
   "cell_type": "code",
   "execution_count": 78,
   "metadata": {},
   "outputs": [
    {
     "name": "stdout",
     "output_type": "stream",
     "text": [
      "looking for the sleepy sea\n",
      "looking for the Bay of Biscay\n",
      "looking for Heath\n",
      "looking for Van Diemen's Land\n",
      "looking for Vickers\n",
      "looking for Sylvia\n",
      "looking for Bath\n",
      "looking for Julia Vickers's\n",
      "looking for Frere\n",
      "looking for Chatham\n",
      "looking for CHAPTER II\n",
      "looking for Surgeon Pine\n",
      "looking for Coromandel\n",
      "looking for Pine\n",
      "looking for the Hydaspes for Calcutta\n",
      "looking for the poop guard\n",
      "looking for MONOTONY\n",
      "looking for Three'll\n",
      "looking for Van Diemen's\n",
      "looking for Tasman\n",
      "looking for Cape Pillar\n",
      "looking for Pirates' Bay\n",
      "looking for east\n",
      "looking for west\n",
      "looking for the Isle of Wight\n",
      "looking for the South-West Cape\n",
      "looking for Swan Port\n",
      "looking for Mediterranean\n",
      "looking for Maria Island\n",
      "looking for the Three Thumbs\n",
      "looking for Peninsula\n",
      "looking for Storm Bay\n",
      "looking for Storing Island\n",
      "looking for Sorrell\n",
      "looking for Bruny Island\n",
      "looking for Mount Royal\n",
      "looking for D'Entrecasteaux Channel\n",
      "looking for Actaeon\n",
      "looking for the South Cape\n",
      "looking for New Norfolk\n",
      "looking for Derwent\n",
      "looking for the Southern Ocean\n",
      "looking for Tamar\n",
      "looking for Port Philip Bay\n",
      "looking for Dromedary\n",
      "looking for Mount Wellington\n",
      "looking for Launceston\n",
      "looking for Smyrna\n",
      "looking for Pyramid Island\n",
      "looking for Rocky Point\n",
      "looking for Port Davey\n",
      "looking for Mount Direction\n",
      "looking for Macquarie Harbour\n",
      "looking for Mount Heemskirk\n",
      "looking for Mount Zeehan\n",
      "looking for King's River\n",
      "looking for Sarah Island\n",
      "looking for Philip's Island\n",
      "looking for Hobart Town\n",
      "looking for earth\n",
      "looking for south-east\n",
      "looking for Ladybird\n",
      "looking for Commandant\n",
      "looking for Port Arthur\n",
      "looking for Arthur\n",
      "looking for Hells Gates\n",
      "looking for England\n",
      "looking for New Town\n",
      "looking for verandah.-She\n",
      "looking for Grummet Island\n",
      "looking for Grummet\n",
      "looking for Malabar\n",
      "looking for Dawes\n",
      "looking for Sydney\n"
     ]
    }
   ],
   "source": [
    "# For every placename in our list\n",
    "for p in geolocdata:\n",
    "    # Already found a location, so skip to the next placename\n",
    "    if len(p['locations']['best_match']) > 0:\n",
    "        continue\n",
    "        \n",
    "    placename = p['placename']\n",
    "    print (\"looking for\",placename)\n",
    "\n",
    "    # query the OSM database\n",
    "    response = tlc_query_name(placename,search_type)\n",
    "    #response_dict = response.to_dict()\n",
    "    #print(response.text)\n",
    "    #print(response)\n",
    "    \n",
    "    #p['locations']['candidates']=None\n",
    "    \n",
    "    # Handle no results found\n",
    "    if response is None:\n",
    "        # skip to the next placename\n",
    "        continue\n",
    "        \n",
    "    # Save the possible locations for later processing\n",
    "    data_frames = []\n",
    "\n",
    "    # Handle results found\n",
    "    for response_record in response[\"features\"]:\n",
    "        #  Use this to look at a reduced set of data from the results\n",
    "        #print(response_record['properties'])\n",
    "        #cleaned_response = tlc_format_response(response_record)\n",
    "        cleaned_response = pd.DataFrame([tlc_format_response(response_record)])\n",
    "\n",
    "            \n",
    "        #print(cleaned_response)\n",
    "                        \n",
    "        # Add the data to a dataframe\n",
    "        data_frames.append(cleaned_response)\n",
    "        \n",
    "    # add the results to the geoloc dataframe\n",
    "    # review the outcomes later\n",
    "    # Match sure you don't write over any candidates previously added from another gazetteer.\n",
    "    if p['locations']['candidates'] == None:\n",
    "        p['locations']['candidates'] = data_frames\n",
    "    else:\n",
    "        p['locations']['candidates'] = p['locations']['candidates'] + data_frames\n",
    "\n",
    "    #print(p['locations']['candidates'])\n",
    "        \n",
    "    #exit()\n",
    "   "
   ]
  },
  {
   "cell_type": "markdown",
   "metadata": {},
   "source": [
    "What placenames have you still not found?"
   ]
  },
  {
   "cell_type": "code",
   "execution_count": 79,
   "metadata": {},
   "outputs": [
    {
     "data": {
      "text/plain": [
       "['the sleepy sea',\n",
       " \"Julia Vickers's\",\n",
       " 'the Hydaspes for Calcutta',\n",
       " 'the poop guard',\n",
       " 'MONOTONY',\n",
       " 'the Three Thumbs',\n",
       " 'Storing Island',\n",
       " 'Commandant',\n",
       " 'verandah.-She']"
      ]
     },
     "execution_count": 79,
     "metadata": {},
     "output_type": "execute_result"
    }
   ],
   "source": [
    "unmatcheddata = [p['placename'] for p in geolocdata \n",
    "             if (len(p['locations']['best_match'])==0 and \n",
    "                 (p['locations']['candidates']==None or \n",
    "                  p['locations']['candidates'])==[])]\n",
    "unmatcheddata"
   ]
  },
  {
   "cell_type": "markdown",
   "metadata": {},
   "source": [
    "You can now compare all the locations you have found."
   ]
  },
  {
   "cell_type": "code",
   "execution_count": 80,
   "metadata": {},
   "outputs": [
    {
     "name": "stdout",
     "output_type": "stream",
     "text": [
      "===>  the Bay of Biscay\n",
      "        LocationName Category     Latitude           Longitude           PartOf Gazetteer\n",
      "0  The Bay of Biscay     park  52.95425415  -1.159789836905746   United Kingdom       OSM\n",
      "===>  Heath\n",
      "  LocationName        Category    Latitude    Longitude          PartOf Gazetteer\n",
      "0        Heath  administrative  32.8365147   -96.474987   United States       OSM\n",
      "1        Heath  administrative  31.3607243  -86.4696811   United States       OSM\n",
      "2        Heath  administrative  40.0228421  -82.4445991   United States       OSM\n",
      "3        Heath  administrative  42.6898311  -72.8178076   United States       OSM\n",
      "4        Heath          hamlet   40.461147  -86.7333397   United States       OSM\n",
      "5        Heath          parish       -19.6        143.6             QLD    TLCMap\n",
      "===>  London\n",
      "    LocationName Category  Latitude  Longitude          PartOf\n",
      "266       London  Capital -0.083333       51.5  United Kingdom\n",
      "===>  Van Diemen's Land\n",
      "        LocationName        Category     Latitude            Longitude           PartOf Gazetteer\n",
      "0           Tasmania  administrative   -42.035067          146.6366887        Australia       OSM\n",
      "1  Van Diemen's Land            park  52.09974355  -0.5142026280666261   United Kingdom       OSM\n",
      "2  Van Diemen's Land         island1         None                 None              TAS    TLCMap\n",
      "===>  Vickers\n",
      "  LocationName     Category     Latitude            Longitude           PartOf Gazetteer\n",
      "0      Vickers       hamlet   41.6117096          -83.4958794    United States       OSM\n",
      "1      Vickers       hamlet   34.3525983            -83.93685    United States       OSM\n",
      "2      Vickers  residential    30.373898           -94.319196    United States       OSM\n",
      "3      Vickers      primary  51.59845985  -1.7415535311162076   United Kingdom       OSM\n",
      "4      Vickers  residential   29.6687304          -95.2244965    United States       OSM\n",
      "===>  Sylvia\n",
      "  LocationName        Category    Latitude           Longitude          PartOf Gazetteer\n",
      "0       Sylvia  administrative  37.9580938         -98.4084398   United States       OSM\n",
      "1       Sylvia          hamlet  36.1717246         -87.4255674   United States       OSM\n",
      "2       Sylvia     residential  35.7593667         -91.6302065   United States       OSM\n",
      "3       Sylvia     residential   29.356695          -94.964718   United States       OSM\n",
      "4       Sylvia     residential  14.6413659          121.100725     Philippines       OSM\n",
      "5       Sylvia          parish      -20.85  143.81666666666666             QLD    TLCMap\n",
      "===>  Bath\n",
      "  LocationName             Category    Latitude           Longitude           PartOf Gazetteer\n",
      "0         Bath                 city  51.3813864          -2.3596963   United Kingdom       OSM\n",
      "1  Bath County       administrative  38.1245248         -83.7249243    United States       OSM\n",
      "2         Bath       administrative   43.910755          -69.820862    United States       OSM\n",
      "3   Bath Abbey     place_of_worship  51.3814544  -2.358865873946672   United Kingdom       OSM\n",
      "4         Bath       administrative  40.1933784         -90.1409523    United States       OSM\n",
      "5         Bath  locality unbounded)   -34.83706           138.49131               SA    TLCMap\n",
      "===>  Frere\n",
      "      LocationName        Category     Latitude   Longitude         PartOf Gazetteer\n",
      "0          Ferrere  administrative    44.875446    7.994732         Italia       OSM\n",
      "1            Frere          suburb  -28.8922222  29.7747222   South Africa       OSM\n",
      "2            Frere          hamlet   44.4701528    7.004274         Italia       OSM\n",
      "3            Frere          hamlet    45.879004   9.9476697         Italia       OSM\n",
      "4  Borgata Ferrere          hamlet   44.3666976   7.3916044         Italia       OSM\n",
      "===>  Chatham\n",
      "     LocationName        Category    Latitude    Longitude           PartOf Gazetteer\n",
      "0  Chatham County  administrative  35.7151316  -79.2533035    United States       OSM\n",
      "1  Chatham County  administrative  31.9668887  -81.0626008    United States       OSM\n",
      "2         Chatham            town  51.3819167     0.526559   United Kingdom       OSM\n",
      "3         Chatham            city  42.4057219  -82.1853837           Canada       OSM\n",
      "4         Chatham  administrative   39.676163  -89.7045439    United States       OSM\n",
      "5         Chatham       homestead   -31.30709     116.8343               WA    TLCMap\n",
      "===>  CHAPTER II\n",
      "            LocationName  Category            Latitude            Longitude           PartOf Gazetteer\n",
      "0             Chapter II  detached          52.6189908   1.4697835518955997   United Kingdom       OSM\n",
      "1             Chapter II       bar          33.8546022           35.8947653            لبنان       OSM\n",
      "2  Chapter 2 Coffee Shop      cafe  53.284067199999996  -3.8021696863026877   United Kingdom       OSM\n",
      "===>  Surgeon Pine\n",
      "         LocationName Category             Latitude           Longitude      PartOf Gazetteer\n",
      "0  Surgeon's Quarters      yes  -29.057089050000002  167.95544200664628   Australia       OSM\n",
      "1   Surgeon's Kitchen      yes          -29.0569188         167.9554764   Australia       OSM\n",
      "===>  Coromandel\n",
      "  LocationName        Category     Latitude    Longitude                   PartOf Gazetteer\n",
      "0   Coromandel  administrative   -18.473889   -47.200278                   Brasil       OSM\n",
      "1   Coromandel            town  -36.7571639  175.5007016   New Zealand / Aotearoa       OSM\n",
      "2   Coromandel          suburb  -20.1962831   57.4694395                Mauritius       OSM\n",
      "3   Coromandel         station  -35.0251942  138.6143361                Australia       OSM\n",
      "4   Coromandel     residential   51.6598155    -1.292693           United Kingdom       OSM\n",
      "5   Coromandel       homestead  -33.2754145   149.650143                      NSW    TLCMap\n",
      "===>  Pine\n",
      "              LocationName        Category             Latitude           Longitude          PartOf Gazetteer\n",
      "0              Pine County  administrative           46.0820957         -92.7542126   United States       OSM\n",
      "1                     Pine  administrative           34.3842741        -111.4555672   United States       OSM\n",
      "2  Pinecrest Public School          school           45.3443641  -75.78478218194566          Canada       OSM\n",
      "3                     Pine          hamlet           41.6282297         -87.3944977   United States       OSM\n",
      "4                     Pine          hamlet           32.9131834         -94.9693811   United States       OSM\n",
      "5                     Pine          parish  -27.116666666666667  152.78333333333333             QLD    TLCMap\n",
      "===>  India\n",
      "    LocationName Category  Latitude  Longitude PartOf\n",
      "206        India  Country      77.2       28.6   Asia\n",
      "===>  Three'll\n",
      "  LocationName  Category    Latitude    Longitude          PartOf Gazetteer\n",
      "0        Three  cycleway  43.9445278  -71.4940105   United States       OSM\n",
      "===>  Van Diemen's\n",
      "                 LocationName            Category     Latitude    Longitude      PartOf Gazetteer\n",
      "0           Van Diemen Avenue         residential  -41.4654798  147.1314152   Australia       OSM\n",
      "1        Van Diemens Crescent         residential  -41.0585817  145.8838217   Australia       OSM\n",
      "2  Amsterdam-Van Diemenstraat  monitoring_station   52.3899851    4.8878686   Nederland       OSM\n",
      "3        Van Diemens Creamery           ice_cream  -41.4834771  146.5981326   Australia       OSM\n",
      "4              Van Gogh Court         residential  -41.3799529  147.1181359   Australia       OSM\n",
      "===>  Tasman\n",
      "               LocationName        Category      Latitude           Longitude                   PartOf Gazetteer\n",
      "0                    Tasman  administrative  -41.30222105  172.89453190955697   New Zealand / Aotearoa       OSM\n",
      "1                    Tasman         station    37.4086658        -121.9444674            United States       OSM\n",
      "2                    Tasman  administrative   -43.0422943  147.69664144273847                Australia       OSM\n",
      "3                    Tasman         village   -41.1891054         173.0526542   New Zealand / Aotearoa       OSM\n",
      "4  Mount Tasman / Rarakiroa            peak    -43.565698         170.1571884   New Zealand / Aotearoa       OSM\n",
      "5                    Tasman       homestead     -32.46015           144.58254                      NSW    TLCMap\n",
      "===>  Cape Pillar\n",
      "  LocationName        Category      Latitude    Longitude      PartOf Gazetteer\n",
      "0  Cape Pillar  administrative   -43.1817045  147.9383047   Australia       OSM\n",
      "1  Cape Pillar            cape   -43.2215036  148.0107165   Australia       OSM\n",
      "2  Cape Pillar        locality   -53.1379539   73.4104006   Australia       OSM\n",
      "3  Cape Pillar            Cape  -43.22000122  148.0099945         TAS    TLCMap\n",
      "===>  Pirates' Bay\n",
      "  LocationName       Category     Latitude    Longitude      PartOf Gazetteer\n",
      "0  Pirates Bay            bay  -38.3792167  144.7708906   Australia       OSM\n",
      "1  Pirates Bay            bay   -43.021334  147.9384131   Australia       OSM\n",
      "2  pirates bay            bay   39.7149598   19.6571192       Ελλάς       OSM\n",
      "3  Pirates Bay     restaurant   -8.7998639  115.2354403   Indonesia       OSM\n",
      "4  Pirates Bay  travel_agency   -8.3647299  116.0860116   Indonesia       OSM\n",
      "===>  east\n",
      "     LocationName        Category    Latitude           Longitude         PartOf Gazetteer\n",
      "0             Est           state  12.2527495           0.8736106   Burkina Faso       OSM\n",
      "1             Est  administrative   3.9894393           14.178373       Cameroun       OSM\n",
      "2             Est  administrative   12.255555  1.0095763618883151   Burkina Faso       OSM\n",
      "3            East         village   3.4304084          31.7006378         Uganda       OSM\n",
      "4  Poblacion East         quarter   9.8276999         122.6439348    Philippines       OSM\n",
      "5            East            None   -30.59869            122.5848             WA    TLCMap\n",
      "===>  west\n",
      "           LocationName        Category           Latitude          Longitude          PartOf Gazetteer\n",
      "0               Western           state          0.5090396         34.5731341           Kenya       OSM\n",
      "1                 Ouest           state          5.5211184         10.6528684        Cameroun       OSM\n",
      "2                  West  administrative         31.8034812        -97.0933471   United States       OSM\n",
      "3               Western  administrative               -7.5                142   Papua Niugini       OSM\n",
      "4  西礁West (London) Reef            reef  8.861665949999999  112.1931736941656        Việt Nam       OSM\n",
      "===>  the Isle of Wight\n",
      "    LocationName        Category     Latitude            Longitude           PartOf Gazetteer\n",
      "0  Isle of Wight          island  50.67108245  -1.3328042802764226   United Kingdom       OSM\n",
      "1  Isle of Wight  administrative   50.6710482  -1.3327111133199459   United Kingdom       OSM\n",
      "2  Isle of Wight            fire   50.6710482  -1.3327111133199459   United Kingdom       OSM\n",
      "3  Isle of Wight       political   50.6710482  -1.3327111133199459   United Kingdom       OSM\n",
      "4  Isle of Wight      ceremonial   50.6710482  -1.3327111133199459   United Kingdom       OSM\n",
      "===>  the South-West Cape\n",
      "                               LocationName     Category     Latitude   Longitude         PartOf Gazetteer\n",
      "0                            The Oaks Close  residential  -33.9692821  22.4538144   South Africa       OSM\n",
      "1                           The Mews Street  residential  -33.9185222  18.6551518   South Africa       OSM\n",
      "2                          The Indraf Kafee  convenience  -33.9678234   22.456758   South Africa       OSM\n",
      "3                  The Best Of South Africa          yes  -34.1929297  18.4288931   South Africa       OSM\n",
      "4  MOSAIC Lagoon Cafe in the 1892 Spookhuis         cafe  -34.4267527  19.3539093   South Africa       OSM\n",
      "===>  Swan Port\n",
      "  LocationName       Category    Latitude   Longitude      PartOf Gazetteer\n",
      "0         Swan  travel_agency  -20.163587  57.5032798   Mauritius       OSM\n",
      "===>  Mediterranean\n",
      "    LocationName     Category            Latitude           Longitude            PartOf Gazetteer\n",
      "0  Mediterranean  residential  35.255701349999995  33.904011953206904   Κύπρος - Kıbrıs       OSM\n",
      "1  Mediterranean  residential          33.7439509        -116.3534839     United States       OSM\n",
      "2  Mediterranean  residential          30.5742005         -97.8235544     United States       OSM\n",
      "3  Mediterranean  residential           29.918687         -95.0748985     United States       OSM\n",
      "4  Mediterranean  residential          38.9919995         -74.8279859     United States       OSM\n",
      "===>  Maria Island\n",
      "   LocationName        Category             Latitude            Longitude        PartOf Gazetteer\n",
      "0  Maria Island          island  -42.655839799999995   148.10102607816566     Australia       OSM\n",
      "1  Maria Island          island   51.230872149999996   -55.91464496489806        Canada       OSM\n",
      "2  Maria Island  administrative          -42.6358214          148.0849313     Australia       OSM\n",
      "3  Maria Island           islet          52.16230075  -127.92088142973815        Canada       OSM\n",
      "4  Maria Island           islet           11.4927225     124.110195998596   Philippines       OSM\n",
      "5  Maria Island         island1         -42.61999893          148.0800018           TAS    TLCMap\n",
      "===>  Peninsula\n",
      "  LocationName        Category            Latitude           Longitude          PartOf Gazetteer\n",
      "0    Peninsula  administrative           41.241167          -81.552618   United States       OSM\n",
      "1    Peninsula   neighbourhood  38.221989199999996  -84.56188590725293   United States       OSM\n",
      "2    Peninsula  administrative  38.221989199999996  -84.56188590725293   United States       OSM\n",
      "3    Peninsula          hamlet          -1.8281384         -79.9893534         Ecuador       OSM\n",
      "4    Peninsula          hamlet         -11.0856935         -67.3161825         Bolivia       OSM\n",
      "5    Peninsula       homestead           -33.92686            116.0693              WA    TLCMap\n",
      "===>  Storm Bay\n",
      "  LocationName Category      Latitude            Longitude      PartOf Gazetteer\n",
      "0    Storm Bay      bay        -43.17            147.55569   Australia       OSM\n",
      "1    Storm Bay      bay    49.6780658          -94.3186347      Canada       OSM\n",
      "2    Storm Bay      bay   49.66505075  -123.82468428626042      Canada       OSM\n",
      "3    Storm Bay      bay   -34.6763083          150.8563045   Australia       OSM\n",
      "4    Storm Bay    beach  -34.34710185    115.1684147995006   Australia       OSM\n",
      "5    Storm Bay     None     -34.34778             115.1683          WA    TLCMap\n",
      "===>  Italy\n",
      "    LocationName Category   Latitude  Longitude  PartOf\n",
      "215        Italy  Country  12.483333       41.9  Europe\n",
      "===>  Sorrell\n",
      "  LocationName     Category            Latitude            Longitude           PartOf Gazetteer\n",
      "0      Sorrell       hamlet          37.9543033          -77.1958098    United States       OSM\n",
      "1      Sorrell       hamlet          40.2150201          -93.0204848    United States       OSM\n",
      "2      Sorrell  residential          32.5234174          -96.8170835    United States       OSM\n",
      "3      Sorrell  residential          34.6957312          -77.2180922    United States       OSM\n",
      "4      Sorrell   industrial  53.961450600000006  -1.0665293366389048   United Kingdom       OSM\n",
      "===>  Bruny Island\n",
      "   LocationName Category      Latitude          Longitude      PartOf Gazetteer\n",
      "0  Bruny Island   island   -43.2898931  147.2890737745002   Australia       OSM\n",
      "1  Bruny Island  island1  -43.29000092        147.2799988         TAS    TLCMap\n",
      "===>  Mount Royal\n",
      "  LocationName        Category             Latitude           Longitude          PartOf Gazetteer\n",
      "0  Mount Royal  administrative           46.6836433         -64.2583205          Canada       OSM\n",
      "1   Mont-Royal            peak           45.5085881         -73.5897111          Canada       OSM\n",
      "2   Mont-Royal  administrative           45.5143668         -73.6439247          Canada       OSM\n",
      "3  Mount Royal            peak           33.6634371          -85.791353   United States       OSM\n",
      "4  Mount Royal            peak            42.367304         -74.4251472   United States       OSM\n",
      "5  Mount Royal        mountain  -32.181666666666665  151.33444444444444             NSW    TLCMap\n",
      "===>  D'Entrecasteaux Channel\n",
      "              LocationName  Category      Latitude          Longitude      PartOf Gazetteer\n",
      "0  D'Entrecasteaux Channel    strait  -43.23647525  147.3052940560143   Australia       OSM\n",
      "1  D'Entrecasteaux Channel  Channel1  -43.25999832        147.2599945         TAS    TLCMap\n",
      "===>  Actaeon\n",
      "     LocationName Category    Latitude  Longitude      PartOf Gazetteer\n",
      "0  Tweedelig hert  artwork  51.9864345  5.6694395   Nederland       OSM\n",
      "===>  the South Cape\n",
      "  LocationName    Category    Latitude            Longitude           PartOf Gazetteer\n",
      "0         Cape  industrial  52.2840847  -1.9055396710979262   United Kingdom       OSM\n",
      "===>  New Norfolk\n",
      "  LocationName            Category      Latitude           Longitude      PartOf Gazetteer\n",
      "0  New Norfolk      administrative   -42.7801998         147.0615332   Australia       OSM\n",
      "1  New Norfolk             station   -42.7760355  147.05581769761721   Australia       OSM\n",
      "2  New Norfolk  locality (bounded)  -42.77999878         147.0500031         TAS    TLCMap\n",
      "===>  Derwent\n",
      "  LocationName        Category     Latitude            Longitude           PartOf Gazetteer\n",
      "0      Derwent  administrative  53.39788105  -1.7078207528115286   United Kingdom       OSM\n",
      "1      Derwent           river   53.3674775           -1.7013735   United Kingdom       OSM\n",
      "2      Derwent           river   53.3645119           -1.7020654   United Kingdom       OSM\n",
      "3      Derwent          hamlet   39.9231278          -81.5442893    United States       OSM\n",
      "4      Derwent          hamlet   53.6543655         -110.9657492           Canada       OSM\n",
      "5      Derwent          parish        -21.7   140.66666666666666              QLD    TLCMap\n",
      "===>  the Southern Ocean\n",
      "  LocationName   Category    Latitude   Longitude  PartOf Gazetteer\n",
      "0        ocean  nightclub  37.1034349  25.3748431   Ελλάς       OSM\n",
      "===>  Tamar\n",
      "  LocationName   Category    Latitude    Longitude        PartOf Gazetteer\n",
      "0         تدمر       town  34.5560155   38.2809746         سوريا       OSM\n",
      "1        Tamar       peak  46.2181038   13.9659246     Slovenija       OSM\n",
      "2        Tamar    village  24.8828759    80.997167         India       OSM\n",
      "3        Tamar    village  23.0508104     85.65307         India       OSM\n",
      "4        Tamar    village   6.9639579  124.3362665   Philippines       OSM\n",
      "5        Tamar  homestead   -34.86101     118.1174            WA    TLCMap\n",
      "===>  Victoria\n",
      "    LocationName Category  Latitude  Longitude      PartOf\n",
      "523     Victoria  Capital     55.45  -4.616667  Seychelles\n",
      "===>  Port Philip Bay\n",
      "                  LocationName Category             Latitude           Longitude      PartOf Gazetteer\n",
      "0              Yarra Bay Beach    beach         -33.97894325  151.22918594272664   Australia       OSM\n",
      "1  Yarra Bay Bicentennial Park     park  -33.977710200000004  151.22932069489116   Australia       OSM\n",
      "===>  Wellington\n",
      "    LocationName Category    Latitude  Longitude       PartOf\n",
      "531   Wellington  Capital  174.783333      -41.3  New Zealand\n",
      "===>  Dromedary\n",
      "           LocationName         Category      Latitude           Longitude                   PartOf Gazetteer\n",
      "0             Dromedary   administrative   -24.5859245  149.14648539120373                Australia       OSM\n",
      "1             Dromedary             peak    -50.793525         166.0213152   New Zealand / Aotearoa       OSM\n",
      "2             Dromedary         locality     -24.58722           149.12139                Australia       OSM\n",
      "3             Dromedary   administrative     -42.73886           147.16954                Australia       OSM\n",
      "4  Wielbłąd jednogarbny       attraction    51.1051282          17.0774613                   Polska       OSM\n",
      "5             Dromedary  Suburb/Locality  -42.74000168         147.1600037                      TAS    TLCMap\n",
      "===>  Mount Wellington\n",
      "                 LocationName  Category             Latitude           Longitude          PartOf Gazetteer\n",
      "0  kunanyi / Mount Wellington      peak           -42.896007         147.2373052       Australia       OSM\n",
      "1            Mount Wellington      peak           42.8053512         -74.8732068   United States       OSM\n",
      "2            Mount Wellington      peak           50.1389052        -123.9495681          Canada       OSM\n",
      "3            Mount Wellington      peak          -29.7009047         152.3844946       Australia       OSM\n",
      "4            Mount Wellington      peak          -22.6008333         149.8980556       Australia       OSM\n",
      "5            Mount Wellington  mountain  -29.698333333333334  152.38444444444443             NSW    TLCMap\n",
      "===>  Launceston\n",
      "         LocationName           Category     Latitude           Longitude           PartOf Gazetteer\n",
      "0          Launceston     administrative  -41.4340813         147.1373496        Australia       OSM\n",
      "1          Launceston     administrative  -41.4340813         147.1373496        Australia       OSM\n",
      "2          Launceston     administrative   50.6365062          -4.3604432   United Kingdom       OSM\n",
      "3  City of Launceston     administrative   -41.320994  147.27312884087405        Australia       OSM\n",
      "4          Launceston            station   50.6404065          -4.3648051   United Kingdom       OSM\n",
      "5          Launceston  Municipality/City      -41.361             147.304              TAS    TLCMap\n",
      "===>  Smyrna\n",
      "        LocationName        Category    Latitude    Longitude          PartOf Gazetteer\n",
      "0              İzmir            city  38.4224548   27.1310699         Türkiye       OSM\n",
      "1             Smyrna  administrative  39.2998339  -75.6046494   United States       OSM\n",
      "2             Smyrna  administrative   33.883887  -84.5147454   United States       OSM\n",
      "3             Smyrna            town  35.9824598  -86.5199492   United States       OSM\n",
      "4  Village of Smyrna  administrative  42.6872921  -75.5707376   United States       OSM\n",
      "===>  Pyramid Island\n",
      "     LocationName Category             Latitude           Longitude             PartOf Gazetteer\n",
      "0  Pyramid Island    islet          59.19742285  -135.4572064523979      United States       OSM\n",
      "1  Pyramid Island    islet            51.964949  178.31201332614398      United States       OSM\n",
      "2  Pyramid Island    islet  -62.417425699999995  -60.10306847698165     Pyramid Island       OSM\n",
      "3  Pyramid Island    islet  -52.002637750000005  -58.60553695423977   Falkland Islands       OSM\n",
      "4  Pyramid Island   island          -0.90142105   33.93945448162722              Kenya       OSM\n",
      "5  Pyramid Island   Island         -39.81999969         147.2299957                TAS    TLCMap\n",
      "===>  Rocky Point\n",
      "  LocationName        Category    Latitude            Longitude          PartOf Gazetteer\n",
      "0  Rocky Point  administrative  40.9525987          -72.9253805   United States       OSM\n",
      "1  Rocky Point          hamlet  32.5336665         -112.8482119   United States       OSM\n",
      "2  Rocky Point  administrative  46.2024075          -63.1505008          Canada       OSM\n",
      "3  Rocky Point        locality   47.731189  -114.18882405182927   United States       OSM\n",
      "4  Rocky Point            peak  42.1153704           -72.853709   United States       OSM\n",
      "5  Rocky Point       homestead  -29.958082           151.840401             NSW    TLCMap\n",
      "===>  Port Davey\n",
      "  LocationName Category      Latitude           Longitude      PartOf Gazetteer\n",
      "0   Port Davey      bay   -43.2729083  145.94968056120592   Australia       OSM\n",
      "1   Port Davey      Bay  -43.33000183         145.9100037         TAS    TLCMap\n",
      "===>  Mount Direction\n",
      "      LocationName        Category             Latitude          Longitude      PartOf Gazetteer\n",
      "0  Mount Direction            peak          -17.9786111           143.8775   Australia       OSM\n",
      "1  Mount Direction  administrative            -41.24326          147.01687   Australia       OSM\n",
      "2  Mount Direction            peak            -37.18681          143.33393   Australia       OSM\n",
      "3  Mount Direction            peak            -41.24125          147.03311   Australia       OSM\n",
      "4  Mount Direction            peak           -42.797977        147.3077395   Australia       OSM\n",
      "5  Mount Direction        mountain  -31.698333333333334  149.7011111111111         NSW    TLCMap\n",
      "===>  Macquarie Harbour\n",
      "        LocationName Category      Latitude         Longitude      PartOf Gazetteer\n",
      "0  Macquarie Harbour      bay  -42.33770255  145.403673139089   Australia       OSM\n",
      "1  Macquarie Harbour  Harbour  -42.29999924       145.3600006         TAS    TLCMap\n",
      "===>  Mount Heemskirk\n",
      "      LocationName  Category      Latitude    Longitude      PartOf Gazetteer\n",
      "0  Mount Heemskirk      peak     -41.85185    145.17221   Australia       OSM\n",
      "1  Mount Heemskirk  mountain  -41.84999847  145.1699982         TAS    TLCMap\n",
      "===>  Mount Zeehan\n",
      "   LocationName Category      Latitude    Longitude      PartOf Gazetteer\n",
      "0  Mount Zeehan     peak      -41.9267     145.3229   Australia       OSM\n",
      "1  Mount Zeehan     hill  -41.91999817  145.3200073         TAS    TLCMap\n",
      "===>  King's River\n",
      "   LocationName Category    Latitude   Longitude           PartOf Gazetteer\n",
      "0  King's River    river   52.536908  -7.3401677   Éire / Ireland       OSM\n",
      "1  King's River    river   52.529434  -7.4677341   Éire / Ireland       OSM\n",
      "2  King's River    river  52.5425973   -7.489768   Éire / Ireland       OSM\n",
      "3  King's River    river  52.5403557  -7.2580667   Éire / Ireland       OSM\n",
      "4  King's River    river  52.5345398  -7.3639866   Éire / Ireland       OSM\n",
      "===>  Sarah Island\n",
      "           LocationName    Category      Latitude           Longitude          PartOf Gazetteer\n",
      "0          Sarah Island  attraction   -42.3895803         145.4473843       Australia       OSM\n",
      "1          Sarah Island       islet   42.25787595  -70.88530562994794   United States       OSM\n",
      "2  ᐅᑲᓕᐊᕐᔪᒃ Sarah Island      island   63.20785695  -64.54777755281438          Canada       OSM\n",
      "3          Sarah Island       islet   43.58316255  -73.57714508862614   United States       OSM\n",
      "4          Sarah Island       islet     48.544094  -88.36470013398821          Canada       OSM\n",
      "5          Sarah Island     island1  -42.38000107         145.4400024             TAS    TLCMap\n",
      "===>  Philip's Island\n",
      "                    LocationName          Category    Latitude           Longitude           PartOf Gazetteer\n",
      "0  Saint Philip's Baptist Church  place_of_worship  40.6377174  -74.13135692832495    United States       OSM\n",
      "1          King Philip's Remains          memorial  41.7229465         -71.2835099    United States       OSM\n",
      "2                  Philip Street      unclassified  51.4427857          -2.5929537   United Kingdom       OSM\n",
      "3               St Philip's Road          tertiary  53.3898938          -1.4798071   United Kingdom       OSM\n",
      "4              St. Philip's Lane       residential  53.3895222          -1.4796846   United Kingdom       OSM\n",
      "===>  Hobart Town\n",
      "        LocationName        Category    Latitude    Longitude          PartOf Gazetteer\n",
      "0  Village of Hobart  administrative  42.3714704  -74.6704311   United States       OSM\n",
      "===>  earth\n",
      "  LocationName        Category     Latitude           Longitude          PartOf Gazetteer\n",
      "0        Earth  administrative   34.2331373        -102.4107493   United States       OSM\n",
      "1        Earth      university  10.21990825  -83.59177371174943      Costa Rica       OSM\n",
      "2        earth           track   49.7933447          13.8667052           Česko       OSM\n",
      "3        earth           track   49.5904859          14.6651358           Česko       OSM\n",
      "4        earth           track    49.802872          15.5172618           Česko       OSM\n",
      "===>  south-east\n",
      "                   LocationName        Category     Latitude           Longitude           PartOf Gazetteer\n",
      "0           South-East District  administrative  -24.9902332  25.726402352052464         Botswana       OSM\n",
      "1        Département du Sud-Est  administrative   18.2973566         -72.3745698            Ayiti       OSM\n",
      "2                       Sud-Est  administrative  44.97028655  28.282042663820434          România       OSM\n",
      "3  South East Constituency 1947       political   53.3262506  -6.236059861357543   Éire / Ireland       OSM\n",
      "4                    South East     residential    40.006443          -77.113805    United States       OSM\n",
      "===>  Ladybird\n",
      "  LocationName     Category            Latitude           Longitude                   PartOf Gazetteer\n",
      "0     Ladybird          bar          51.5360577          -0.1038735           United Kingdom       OSM\n",
      "1     Ladybird  convenience          44.8216508          -0.5827753                   France       OSM\n",
      "2     Ladybird         gift  50.233202399999996  -5.228724001225023           United Kingdom       OSM\n",
      "3     Ladybird       tailor           9.9642514          76.3020845                    India       OSM\n",
      "4     Ladybird      clothes         -43.6020782         172.7198237   New Zealand / Aotearoa       OSM\n",
      "===>  Port Arthur\n",
      "  LocationName        Category      Latitude    Longitude            PartOf Gazetteer\n",
      "0  Port Arthur  administrative    29.8988618  -93.9288723     United States       OSM\n",
      "1  Port Arthur  administrative   -43.1435301  147.8440404         Australia       OSM\n",
      "2          大连市            city    38.9181714  121.6282945                中国       OSM\n",
      "3  Port Arthur          suburb    60.4468775   22.2444076   Suomi / Finland       OSM\n",
      "4  Port Arthur          suburb    48.4348261  -89.2194423            Canada       OSM\n",
      "5  Port Arthur             Bay  -43.13999939  147.8399963               TAS    TLCMap\n",
      "===>  Honduras\n",
      "    LocationName Category   Latitude  Longitude           PartOf\n",
      "200     Honduras  Country -87.216667       14.1  Central America\n",
      "===>  Arthur\n",
      "    LocationName        Category             Latitude          Longitude          PartOf Gazetteer\n",
      "0  Arthur County  administrative           41.5721288       -101.6974898   United States       OSM\n",
      "1         Arthur  administrative              42.3353        -95.3475647   United States       OSM\n",
      "2         Arthur  administrative           39.7147552         -88.472278   United States       OSM\n",
      "3         Arthur  administrative           47.1041435        -97.2181431   United States       OSM\n",
      "4         Arthur  administrative           41.5706962       -101.6914885   United States       OSM\n",
      "5         Arthur          parish  -32.681666666666665  149.8011111111111             NSW    TLCMap\n",
      "===>  Hells Gates\n",
      "  LocationName Category             Latitude           Longitude      PartOf Gazetteer\n",
      "0  Hells Gates      bay           -31.518396         159.0721965   Australia       OSM\n",
      "1  Hells Gates   strait          -42.2101271         145.2142261   Australia       OSM\n",
      "2  Hells Gates    water           46.2939985         -66.8910642      Canada       OSM\n",
      "3  Hells Gates     bay1  -31.518472222222222  159.06355555555558         NSW    TLCMap\n",
      "===>  England\n",
      "  LocationName        Category             Latitude           Longitude           PartOf Gazetteer\n",
      "0      England  administrative           52.5310214          -1.2649062   United Kingdom       OSM\n",
      "1    Worcester  administrative           52.1911849          -2.2206585   United Kingdom       OSM\n",
      "2      England  administrative           34.5442609         -91.9690285    United States       OSM\n",
      "3      England   neighbourhood            54.495797           8.8784857      Deutschland       OSM\n",
      "4      England          hamlet           40.8403347         -82.2393255    United States       OSM\n",
      "5      England          parish  -27.433333333333334  152.46666666666667              QLD    TLCMap\n",
      "===>  New Town\n",
      "  LocationName            Category     Latitude           Longitude           PartOf Gazetteer\n",
      "0     New Town              suburb   55.9554575          -3.1989995   United Kingdom       OSM\n",
      "1     New Town      administrative    47.980848          -102.49018    United States       OSM\n",
      "2     New Town      administrative  -42.8588009         147.3058753        Australia       OSM\n",
      "3     New Town      administrative  -33.9557061  137.69672510873852        Australia       OSM\n",
      "4     New Town                town   22.5882834          88.4734476            India       OSM\n",
      "5     New Town  locality (bounded)    -33.95489           137.69592               SA    TLCMap\n",
      "===>  Grummet Island\n",
      "     LocationName Category      Latitude    Longitude PartOf Gazetteer\n",
      "0  Grummet Island   Island  -42.38000107  145.4499969    TAS    TLCMap\n",
      "===>  Grummet\n",
      "  LocationName     Category    Latitude   Longitude        PartOf Gazetteer\n",
      "0      Grummet     locality  50.3686748  10.8561277   Deutschland       OSM\n",
      "1      grummet  information  50.4723087    11.96739   Deutschland       OSM\n",
      "===>  Malabar\n",
      "  LocationName        Category     Latitude    Longitude          PartOf Gazetteer\n",
      "0      Malabar  administrative   27.9869722  -80.5870164   United States       OSM\n",
      "1      Malabar         volcano   -7.1404971  107.6313311       Indonesia       OSM\n",
      "2      Malabar  administrative  -33.9629779  151.2480171       Australia       OSM\n",
      "3      Malabar         village   -7.2880681  108.6960653       Indonesia       OSM\n",
      "4      Malabar         village   -6.9260791  107.6210172       Indonesia       OSM\n",
      "5      Malabar       homestead   -35.564599  148.3241805             NSW    TLCMap\n",
      "===>  Dawes\n",
      "   LocationName           Category            Latitude           Longitude          PartOf Gazetteer\n",
      "0  Dawes County     administrative            42.71723        -103.1216528   United States       OSM\n",
      "1         Dawes  isolated_dwelling          38.9490664         -123.085002   United States       OSM\n",
      "2         Dawes             hamlet          38.1428826         -81.4520584   United States       OSM\n",
      "3         Dawes             hamlet          30.6076926         -88.2552828   United States       OSM\n",
      "4         Dawes             hamlet          36.8814607         -94.9913489   United States       OSM\n",
      "5         Dawes             parish  -31.17527777777778  142.79805555555555             NSW    TLCMap\n",
      "===>  Sydney\n",
      "                       LocationName        Category     Latitude           Longitude      PartOf Gazetteer\n",
      "0                            Sydney  administrative  -33.8698439         151.2082848   Australia       OSM\n",
      "1  Sydney (Kingsford Smith) Airport       aerodrome  -33.9498935  151.18196819346016   Australia       OSM\n",
      "2                            Sydney  administrative    46.137977          -60.194092      Canada       OSM\n",
      "3                            Sydney  administrative   -33.867926  151.21013810170962   Australia       OSM\n",
      "4     Council of the City of Sydney  administrative  -33.8888621   151.2048978618509   Australia       OSM\n",
      "5                            Sydney            city      -33.865  151.20944444444444         NSW    TLCMap\n"
     ]
    }
   ],
   "source": [
    "matcheddata = [p for p in geolocdata \n",
    "             if (len(p['locations']['best_match'])!=0 or \n",
    "                 (p['locations']['candidates']!=None and \n",
    "                  p['locations']['candidates'])!=[])]\n",
    "alllocations=[]\n",
    "for p in matcheddata:\n",
    "    placename = p['placename']\n",
    "    locations = []\n",
    "    if len(p['locations']['best_match'])!=0:\n",
    "        locations=p['locations']['best_match']\n",
    "    else:\n",
    "        if p['locations']['candidates']!= None:\n",
    "            locations = pd.concat(p['locations']['candidates'],ignore_index=True) \n",
    "    print(\"===> \",placename)\n",
    "    print(locations)\n",
    "    alllocations=alllocations+[locations]\n",
    "    #pprint(locations, compact=True)    "
   ]
  },
  {
   "cell_type": "code",
   "execution_count": null,
   "metadata": {},
   "outputs": [],
   "source": []
  },
  {
   "cell_type": "code",
   "execution_count": 81,
   "metadata": {},
   "outputs": [
    {
     "name": "stdout",
     "output_type": "stream",
     "text": [
      "[        LocationName Category     Latitude           Longitude           PartOf Gazetteer\n",
      "0  The Bay of Biscay     park  52.95425415  -1.159789836905746   United Kingdom       OSM,\n",
      "   LocationName        Category    Latitude    Longitude          PartOf Gazetteer\n",
      "0        Heath  administrative  32.8365147   -96.474987   United States       OSM\n",
      "1        Heath  administrative  31.3607243  -86.4696811   United States       OSM\n",
      "2        Heath  administrative  40.0228421  -82.4445991   United States       OSM\n",
      "3        Heath  administrative  42.6898311  -72.8178076   United States       OSM\n",
      "4        Heath          hamlet   40.461147  -86.7333397   United States       OSM\n",
      "5        Heath          parish       -19.6        143.6             QLD    TLCMap,\n",
      "     LocationName Category  Latitude  Longitude          PartOf\n",
      "266       London  Capital -0.083333       51.5  United Kingdom,\n",
      "         LocationName        Category     Latitude            Longitude           PartOf Gazetteer\n",
      "0           Tasmania  administrative   -42.035067          146.6366887        Australia       OSM\n",
      "1  Van Diemen's Land            park  52.09974355  -0.5142026280666261   United Kingdom       OSM\n",
      "2  Van Diemen's Land         island1         None                 None              TAS    TLCMap,\n",
      "   LocationName     Category     Latitude            Longitude           PartOf Gazetteer\n",
      "0      Vickers       hamlet   41.6117096          -83.4958794    United States       OSM\n",
      "1      Vickers       hamlet   34.3525983            -83.93685    United States       OSM\n",
      "2      Vickers  residential    30.373898           -94.319196    United States       OSM\n",
      "3      Vickers      primary  51.59845985  -1.7415535311162076   United Kingdom       OSM\n",
      "4      Vickers  residential   29.6687304          -95.2244965    United States       OSM,\n",
      "   LocationName        Category    Latitude           Longitude          PartOf Gazetteer\n",
      "0       Sylvia  administrative  37.9580938         -98.4084398   United States       OSM\n",
      "1       Sylvia          hamlet  36.1717246         -87.4255674   United States       OSM\n",
      "2       Sylvia     residential  35.7593667         -91.6302065   United States       OSM\n",
      "3       Sylvia     residential   29.356695          -94.964718   United States       OSM\n",
      "4       Sylvia     residential  14.6413659          121.100725     Philippines       OSM\n",
      "5       Sylvia          parish      -20.85  143.81666666666666             QLD    TLCMap,\n",
      "   LocationName             Category    Latitude           Longitude           PartOf Gazetteer\n",
      "0         Bath                 city  51.3813864          -2.3596963   United Kingdom       OSM\n",
      "1  Bath County       administrative  38.1245248         -83.7249243    United States       OSM\n",
      "2         Bath       administrative   43.910755          -69.820862    United States       OSM\n",
      "3   Bath Abbey     place_of_worship  51.3814544  -2.358865873946672   United Kingdom       OSM\n",
      "4         Bath       administrative  40.1933784         -90.1409523    United States       OSM\n",
      "5         Bath  locality unbounded)   -34.83706           138.49131               SA    TLCMap,\n",
      "       LocationName        Category     Latitude   Longitude         PartOf Gazetteer\n",
      "0          Ferrere  administrative    44.875446    7.994732         Italia       OSM\n",
      "1            Frere          suburb  -28.8922222  29.7747222   South Africa       OSM\n",
      "2            Frere          hamlet   44.4701528    7.004274         Italia       OSM\n",
      "3            Frere          hamlet    45.879004   9.9476697         Italia       OSM\n",
      "4  Borgata Ferrere          hamlet   44.3666976   7.3916044         Italia       OSM,\n",
      "      LocationName        Category    Latitude    Longitude           PartOf Gazetteer\n",
      "0  Chatham County  administrative  35.7151316  -79.2533035    United States       OSM\n",
      "1  Chatham County  administrative  31.9668887  -81.0626008    United States       OSM\n",
      "2         Chatham            town  51.3819167     0.526559   United Kingdom       OSM\n",
      "3         Chatham            city  42.4057219  -82.1853837           Canada       OSM\n",
      "4         Chatham  administrative   39.676163  -89.7045439    United States       OSM\n",
      "5         Chatham       homestead   -31.30709     116.8343               WA    TLCMap,\n",
      "             LocationName  Category            Latitude            Longitude           PartOf Gazetteer\n",
      "0             Chapter II  detached          52.6189908   1.4697835518955997   United Kingdom       OSM\n",
      "1             Chapter II       bar          33.8546022           35.8947653            لبنان       OSM\n",
      "2  Chapter 2 Coffee Shop      cafe  53.284067199999996  -3.8021696863026877   United Kingdom       OSM,\n",
      "          LocationName Category             Latitude           Longitude      PartOf Gazetteer\n",
      "0  Surgeon's Quarters      yes  -29.057089050000002  167.95544200664628   Australia       OSM\n",
      "1   Surgeon's Kitchen      yes          -29.0569188         167.9554764   Australia       OSM,\n",
      "   LocationName        Category     Latitude    Longitude                   PartOf Gazetteer\n",
      "0   Coromandel  administrative   -18.473889   -47.200278                   Brasil       OSM\n",
      "1   Coromandel            town  -36.7571639  175.5007016   New Zealand / Aotearoa       OSM\n",
      "2   Coromandel          suburb  -20.1962831   57.4694395                Mauritius       OSM\n",
      "3   Coromandel         station  -35.0251942  138.6143361                Australia       OSM\n",
      "4   Coromandel     residential   51.6598155    -1.292693           United Kingdom       OSM\n",
      "5   Coromandel       homestead  -33.2754145   149.650143                      NSW    TLCMap,\n",
      "               LocationName        Category             Latitude           Longitude          PartOf Gazetteer\n",
      "0              Pine County  administrative           46.0820957         -92.7542126   United States       OSM\n",
      "1                     Pine  administrative           34.3842741        -111.4555672   United States       OSM\n",
      "2  Pinecrest Public School          school           45.3443641  -75.78478218194566          Canada       OSM\n",
      "3                     Pine          hamlet           41.6282297         -87.3944977   United States       OSM\n",
      "4                     Pine          hamlet           32.9131834         -94.9693811   United States       OSM\n",
      "5                     Pine          parish  -27.116666666666667  152.78333333333333             QLD    TLCMap,\n",
      "     LocationName Category  Latitude  Longitude PartOf\n",
      "206        India  Country      77.2       28.6   Asia,\n",
      "   LocationName  Category    Latitude    Longitude          PartOf Gazetteer\n",
      "0        Three  cycleway  43.9445278  -71.4940105   United States       OSM,\n",
      "                  LocationName            Category     Latitude    Longitude      PartOf Gazetteer\n",
      "0           Van Diemen Avenue         residential  -41.4654798  147.1314152   Australia       OSM\n",
      "1        Van Diemens Crescent         residential  -41.0585817  145.8838217   Australia       OSM\n",
      "2  Amsterdam-Van Diemenstraat  monitoring_station   52.3899851    4.8878686   Nederland       OSM\n",
      "3        Van Diemens Creamery           ice_cream  -41.4834771  146.5981326   Australia       OSM\n",
      "4              Van Gogh Court         residential  -41.3799529  147.1181359   Australia       OSM,\n",
      "                LocationName        Category      Latitude           Longitude                   PartOf Gazetteer\n",
      "0                    Tasman  administrative  -41.30222105  172.89453190955697   New Zealand / Aotearoa       OSM\n",
      "1                    Tasman         station    37.4086658        -121.9444674            United States       OSM\n",
      "2                    Tasman  administrative   -43.0422943  147.69664144273847                Australia       OSM\n",
      "3                    Tasman         village   -41.1891054         173.0526542   New Zealand / Aotearoa       OSM\n",
      "4  Mount Tasman / Rarakiroa            peak    -43.565698         170.1571884   New Zealand / Aotearoa       OSM\n",
      "5                    Tasman       homestead     -32.46015           144.58254                      NSW    TLCMap,\n",
      "   LocationName        Category      Latitude    Longitude      PartOf Gazetteer\n",
      "0  Cape Pillar  administrative   -43.1817045  147.9383047   Australia       OSM\n",
      "1  Cape Pillar            cape   -43.2215036  148.0107165   Australia       OSM\n",
      "2  Cape Pillar        locality   -53.1379539   73.4104006   Australia       OSM\n",
      "3  Cape Pillar            Cape  -43.22000122  148.0099945         TAS    TLCMap,\n",
      "   LocationName       Category     Latitude    Longitude      PartOf Gazetteer\n",
      "0  Pirates Bay            bay  -38.3792167  144.7708906   Australia       OSM\n",
      "1  Pirates Bay            bay   -43.021334  147.9384131   Australia       OSM\n",
      "2  pirates bay            bay   39.7149598   19.6571192       Ελλάς       OSM\n",
      "3  Pirates Bay     restaurant   -8.7998639  115.2354403   Indonesia       OSM\n",
      "4  Pirates Bay  travel_agency   -8.3647299  116.0860116   Indonesia       OSM,\n",
      "      LocationName        Category    Latitude           Longitude         PartOf Gazetteer\n",
      "0             Est           state  12.2527495           0.8736106   Burkina Faso       OSM\n",
      "1             Est  administrative   3.9894393           14.178373       Cameroun       OSM\n",
      "2             Est  administrative   12.255555  1.0095763618883151   Burkina Faso       OSM\n",
      "3            East         village   3.4304084          31.7006378         Uganda       OSM\n",
      "4  Poblacion East         quarter   9.8276999         122.6439348    Philippines       OSM\n",
      "5            East            None   -30.59869            122.5848             WA    TLCMap,\n",
      "            LocationName        Category           Latitude          Longitude          PartOf Gazetteer\n",
      "0               Western           state          0.5090396         34.5731341           Kenya       OSM\n",
      "1                 Ouest           state          5.5211184         10.6528684        Cameroun       OSM\n",
      "2                  West  administrative         31.8034812        -97.0933471   United States       OSM\n",
      "3               Western  administrative               -7.5                142   Papua Niugini       OSM\n",
      "4  西礁West (London) Reef            reef  8.861665949999999  112.1931736941656        Việt Nam       OSM,\n",
      "     LocationName        Category     Latitude            Longitude           PartOf Gazetteer\n",
      "0  Isle of Wight          island  50.67108245  -1.3328042802764226   United Kingdom       OSM\n",
      "1  Isle of Wight  administrative   50.6710482  -1.3327111133199459   United Kingdom       OSM\n",
      "2  Isle of Wight            fire   50.6710482  -1.3327111133199459   United Kingdom       OSM\n",
      "3  Isle of Wight       political   50.6710482  -1.3327111133199459   United Kingdom       OSM\n",
      "4  Isle of Wight      ceremonial   50.6710482  -1.3327111133199459   United Kingdom       OSM,\n",
      "                                LocationName     Category     Latitude   Longitude         PartOf Gazetteer\n",
      "0                            The Oaks Close  residential  -33.9692821  22.4538144   South Africa       OSM\n",
      "1                           The Mews Street  residential  -33.9185222  18.6551518   South Africa       OSM\n",
      "2                          The Indraf Kafee  convenience  -33.9678234   22.456758   South Africa       OSM\n",
      "3                  The Best Of South Africa          yes  -34.1929297  18.4288931   South Africa       OSM\n",
      "4  MOSAIC Lagoon Cafe in the 1892 Spookhuis         cafe  -34.4267527  19.3539093   South Africa       OSM,\n",
      "   LocationName       Category    Latitude   Longitude      PartOf Gazetteer\n",
      "0         Swan  travel_agency  -20.163587  57.5032798   Mauritius       OSM,\n",
      "     LocationName     Category            Latitude           Longitude            PartOf Gazetteer\n",
      "0  Mediterranean  residential  35.255701349999995  33.904011953206904   Κύπρος - Kıbrıs       OSM\n",
      "1  Mediterranean  residential          33.7439509        -116.3534839     United States       OSM\n",
      "2  Mediterranean  residential          30.5742005         -97.8235544     United States       OSM\n",
      "3  Mediterranean  residential           29.918687         -95.0748985     United States       OSM\n",
      "4  Mediterranean  residential          38.9919995         -74.8279859     United States       OSM,\n",
      "    LocationName        Category             Latitude            Longitude        PartOf Gazetteer\n",
      "0  Maria Island          island  -42.655839799999995   148.10102607816566     Australia       OSM\n",
      "1  Maria Island          island   51.230872149999996   -55.91464496489806        Canada       OSM\n",
      "2  Maria Island  administrative          -42.6358214          148.0849313     Australia       OSM\n",
      "3  Maria Island           islet          52.16230075  -127.92088142973815        Canada       OSM\n",
      "4  Maria Island           islet           11.4927225     124.110195998596   Philippines       OSM\n",
      "5  Maria Island         island1         -42.61999893          148.0800018           TAS    TLCMap,\n",
      "   LocationName        Category            Latitude           Longitude          PartOf Gazetteer\n",
      "0    Peninsula  administrative           41.241167          -81.552618   United States       OSM\n",
      "1    Peninsula   neighbourhood  38.221989199999996  -84.56188590725293   United States       OSM\n",
      "2    Peninsula  administrative  38.221989199999996  -84.56188590725293   United States       OSM\n",
      "3    Peninsula          hamlet          -1.8281384         -79.9893534         Ecuador       OSM\n",
      "4    Peninsula          hamlet         -11.0856935         -67.3161825         Bolivia       OSM\n",
      "5    Peninsula       homestead           -33.92686            116.0693              WA    TLCMap,\n",
      "   LocationName Category      Latitude            Longitude      PartOf Gazetteer\n",
      "0    Storm Bay      bay        -43.17            147.55569   Australia       OSM\n",
      "1    Storm Bay      bay    49.6780658          -94.3186347      Canada       OSM\n",
      "2    Storm Bay      bay   49.66505075  -123.82468428626042      Canada       OSM\n",
      "3    Storm Bay      bay   -34.6763083          150.8563045   Australia       OSM\n",
      "4    Storm Bay    beach  -34.34710185    115.1684147995006   Australia       OSM\n",
      "5    Storm Bay     None     -34.34778             115.1683          WA    TLCMap,\n",
      "     LocationName Category   Latitude  Longitude  PartOf\n",
      "215        Italy  Country  12.483333       41.9  Europe,\n",
      "   LocationName     Category            Latitude            Longitude           PartOf Gazetteer\n",
      "0      Sorrell       hamlet          37.9543033          -77.1958098    United States       OSM\n",
      "1      Sorrell       hamlet          40.2150201          -93.0204848    United States       OSM\n",
      "2      Sorrell  residential          32.5234174          -96.8170835    United States       OSM\n",
      "3      Sorrell  residential          34.6957312          -77.2180922    United States       OSM\n",
      "4      Sorrell   industrial  53.961450600000006  -1.0665293366389048   United Kingdom       OSM,\n",
      "    LocationName Category      Latitude          Longitude      PartOf Gazetteer\n",
      "0  Bruny Island   island   -43.2898931  147.2890737745002   Australia       OSM\n",
      "1  Bruny Island  island1  -43.29000092        147.2799988         TAS    TLCMap,\n",
      "   LocationName        Category             Latitude           Longitude          PartOf Gazetteer\n",
      "0  Mount Royal  administrative           46.6836433         -64.2583205          Canada       OSM\n",
      "1   Mont-Royal            peak           45.5085881         -73.5897111          Canada       OSM\n",
      "2   Mont-Royal  administrative           45.5143668         -73.6439247          Canada       OSM\n",
      "3  Mount Royal            peak           33.6634371          -85.791353   United States       OSM\n",
      "4  Mount Royal            peak            42.367304         -74.4251472   United States       OSM\n",
      "5  Mount Royal        mountain  -32.181666666666665  151.33444444444444             NSW    TLCMap,\n",
      "               LocationName  Category      Latitude          Longitude      PartOf Gazetteer\n",
      "0  D'Entrecasteaux Channel    strait  -43.23647525  147.3052940560143   Australia       OSM\n",
      "1  D'Entrecasteaux Channel  Channel1  -43.25999832        147.2599945         TAS    TLCMap,\n",
      "      LocationName Category    Latitude  Longitude      PartOf Gazetteer\n",
      "0  Tweedelig hert  artwork  51.9864345  5.6694395   Nederland       OSM,\n",
      "   LocationName    Category    Latitude            Longitude           PartOf Gazetteer\n",
      "0         Cape  industrial  52.2840847  -1.9055396710979262   United Kingdom       OSM,\n",
      "   LocationName            Category      Latitude           Longitude      PartOf Gazetteer\n",
      "0  New Norfolk      administrative   -42.7801998         147.0615332   Australia       OSM\n",
      "1  New Norfolk             station   -42.7760355  147.05581769761721   Australia       OSM\n",
      "2  New Norfolk  locality (bounded)  -42.77999878         147.0500031         TAS    TLCMap,\n",
      "   LocationName        Category     Latitude            Longitude           PartOf Gazetteer\n",
      "0      Derwent  administrative  53.39788105  -1.7078207528115286   United Kingdom       OSM\n",
      "1      Derwent           river   53.3674775           -1.7013735   United Kingdom       OSM\n",
      "2      Derwent           river   53.3645119           -1.7020654   United Kingdom       OSM\n",
      "3      Derwent          hamlet   39.9231278          -81.5442893    United States       OSM\n",
      "4      Derwent          hamlet   53.6543655         -110.9657492           Canada       OSM\n",
      "5      Derwent          parish        -21.7   140.66666666666666              QLD    TLCMap,\n",
      "   LocationName   Category    Latitude   Longitude  PartOf Gazetteer\n",
      "0        ocean  nightclub  37.1034349  25.3748431   Ελλάς       OSM,\n",
      "   LocationName   Category    Latitude    Longitude        PartOf Gazetteer\n",
      "0         تدمر       town  34.5560155   38.2809746         سوريا       OSM\n",
      "1        Tamar       peak  46.2181038   13.9659246     Slovenija       OSM\n",
      "2        Tamar    village  24.8828759    80.997167         India       OSM\n",
      "3        Tamar    village  23.0508104     85.65307         India       OSM\n",
      "4        Tamar    village   6.9639579  124.3362665   Philippines       OSM\n",
      "5        Tamar  homestead   -34.86101     118.1174            WA    TLCMap,\n",
      "     LocationName Category  Latitude  Longitude      PartOf\n",
      "523     Victoria  Capital     55.45  -4.616667  Seychelles,\n",
      "                   LocationName Category             Latitude           Longitude      PartOf Gazetteer\n",
      "0              Yarra Bay Beach    beach         -33.97894325  151.22918594272664   Australia       OSM\n",
      "1  Yarra Bay Bicentennial Park     park  -33.977710200000004  151.22932069489116   Australia       OSM,\n",
      "     LocationName Category    Latitude  Longitude       PartOf\n",
      "531   Wellington  Capital  174.783333      -41.3  New Zealand,\n",
      "            LocationName         Category      Latitude           Longitude                   PartOf Gazetteer\n",
      "0             Dromedary   administrative   -24.5859245  149.14648539120373                Australia       OSM\n",
      "1             Dromedary             peak    -50.793525         166.0213152   New Zealand / Aotearoa       OSM\n",
      "2             Dromedary         locality     -24.58722           149.12139                Australia       OSM\n",
      "3             Dromedary   administrative     -42.73886           147.16954                Australia       OSM\n",
      "4  Wielbłąd jednogarbny       attraction    51.1051282          17.0774613                   Polska       OSM\n",
      "5             Dromedary  Suburb/Locality  -42.74000168         147.1600037                      TAS    TLCMap,\n",
      "                  LocationName  Category             Latitude           Longitude          PartOf Gazetteer\n",
      "0  kunanyi / Mount Wellington      peak           -42.896007         147.2373052       Australia       OSM\n",
      "1            Mount Wellington      peak           42.8053512         -74.8732068   United States       OSM\n",
      "2            Mount Wellington      peak           50.1389052        -123.9495681          Canada       OSM\n",
      "3            Mount Wellington      peak          -29.7009047         152.3844946       Australia       OSM\n",
      "4            Mount Wellington      peak          -22.6008333         149.8980556       Australia       OSM\n",
      "5            Mount Wellington  mountain  -29.698333333333334  152.38444444444443             NSW    TLCMap,\n",
      "          LocationName           Category     Latitude           Longitude           PartOf Gazetteer\n",
      "0          Launceston     administrative  -41.4340813         147.1373496        Australia       OSM\n",
      "1          Launceston     administrative  -41.4340813         147.1373496        Australia       OSM\n",
      "2          Launceston     administrative   50.6365062          -4.3604432   United Kingdom       OSM\n",
      "3  City of Launceston     administrative   -41.320994  147.27312884087405        Australia       OSM\n",
      "4          Launceston            station   50.6404065          -4.3648051   United Kingdom       OSM\n",
      "5          Launceston  Municipality/City      -41.361             147.304              TAS    TLCMap,\n",
      "         LocationName        Category    Latitude    Longitude          PartOf Gazetteer\n",
      "0              İzmir            city  38.4224548   27.1310699         Türkiye       OSM\n",
      "1             Smyrna  administrative  39.2998339  -75.6046494   United States       OSM\n",
      "2             Smyrna  administrative   33.883887  -84.5147454   United States       OSM\n",
      "3             Smyrna            town  35.9824598  -86.5199492   United States       OSM\n",
      "4  Village of Smyrna  administrative  42.6872921  -75.5707376   United States       OSM,\n",
      "      LocationName Category             Latitude           Longitude             PartOf Gazetteer\n",
      "0  Pyramid Island    islet          59.19742285  -135.4572064523979      United States       OSM\n",
      "1  Pyramid Island    islet            51.964949  178.31201332614398      United States       OSM\n",
      "2  Pyramid Island    islet  -62.417425699999995  -60.10306847698165     Pyramid Island       OSM\n",
      "3  Pyramid Island    islet  -52.002637750000005  -58.60553695423977   Falkland Islands       OSM\n",
      "4  Pyramid Island   island          -0.90142105   33.93945448162722              Kenya       OSM\n",
      "5  Pyramid Island   Island         -39.81999969         147.2299957                TAS    TLCMap,\n",
      "   LocationName        Category    Latitude            Longitude          PartOf Gazetteer\n",
      "0  Rocky Point  administrative  40.9525987          -72.9253805   United States       OSM\n",
      "1  Rocky Point          hamlet  32.5336665         -112.8482119   United States       OSM\n",
      "2  Rocky Point  administrative  46.2024075          -63.1505008          Canada       OSM\n",
      "3  Rocky Point        locality   47.731189  -114.18882405182927   United States       OSM\n",
      "4  Rocky Point            peak  42.1153704           -72.853709   United States       OSM\n",
      "5  Rocky Point       homestead  -29.958082           151.840401             NSW    TLCMap,\n",
      "   LocationName Category      Latitude           Longitude      PartOf Gazetteer\n",
      "0   Port Davey      bay   -43.2729083  145.94968056120592   Australia       OSM\n",
      "1   Port Davey      Bay  -43.33000183         145.9100037         TAS    TLCMap,\n",
      "       LocationName        Category             Latitude          Longitude      PartOf Gazetteer\n",
      "0  Mount Direction            peak          -17.9786111           143.8775   Australia       OSM\n",
      "1  Mount Direction  administrative            -41.24326          147.01687   Australia       OSM\n",
      "2  Mount Direction            peak            -37.18681          143.33393   Australia       OSM\n",
      "3  Mount Direction            peak            -41.24125          147.03311   Australia       OSM\n",
      "4  Mount Direction            peak           -42.797977        147.3077395   Australia       OSM\n",
      "5  Mount Direction        mountain  -31.698333333333334  149.7011111111111         NSW    TLCMap,\n",
      "         LocationName Category      Latitude         Longitude      PartOf Gazetteer\n",
      "0  Macquarie Harbour      bay  -42.33770255  145.403673139089   Australia       OSM\n",
      "1  Macquarie Harbour  Harbour  -42.29999924       145.3600006         TAS    TLCMap,\n",
      "       LocationName  Category      Latitude    Longitude      PartOf Gazetteer\n",
      "0  Mount Heemskirk      peak     -41.85185    145.17221   Australia       OSM\n",
      "1  Mount Heemskirk  mountain  -41.84999847  145.1699982         TAS    TLCMap,\n",
      "    LocationName Category      Latitude    Longitude      PartOf Gazetteer\n",
      "0  Mount Zeehan     peak      -41.9267     145.3229   Australia       OSM\n",
      "1  Mount Zeehan     hill  -41.91999817  145.3200073         TAS    TLCMap,\n",
      "    LocationName Category    Latitude   Longitude           PartOf Gazetteer\n",
      "0  King's River    river   52.536908  -7.3401677   Éire / Ireland       OSM\n",
      "1  King's River    river   52.529434  -7.4677341   Éire / Ireland       OSM\n",
      "2  King's River    river  52.5425973   -7.489768   Éire / Ireland       OSM\n",
      "3  King's River    river  52.5403557  -7.2580667   Éire / Ireland       OSM\n",
      "4  King's River    river  52.5345398  -7.3639866   Éire / Ireland       OSM,\n",
      "            LocationName    Category      Latitude           Longitude          PartOf Gazetteer\n",
      "0          Sarah Island  attraction   -42.3895803         145.4473843       Australia       OSM\n",
      "1          Sarah Island       islet   42.25787595  -70.88530562994794   United States       OSM\n",
      "2  ᐅᑲᓕᐊᕐᔪᒃ Sarah Island      island   63.20785695  -64.54777755281438          Canada       OSM\n",
      "3          Sarah Island       islet   43.58316255  -73.57714508862614   United States       OSM\n",
      "4          Sarah Island       islet     48.544094  -88.36470013398821          Canada       OSM\n",
      "5          Sarah Island     island1  -42.38000107         145.4400024             TAS    TLCMap,\n",
      "                     LocationName          Category    Latitude           Longitude           PartOf Gazetteer\n",
      "0  Saint Philip's Baptist Church  place_of_worship  40.6377174  -74.13135692832495    United States       OSM\n",
      "1          King Philip's Remains          memorial  41.7229465         -71.2835099    United States       OSM\n",
      "2                  Philip Street      unclassified  51.4427857          -2.5929537   United Kingdom       OSM\n",
      "3               St Philip's Road          tertiary  53.3898938          -1.4798071   United Kingdom       OSM\n",
      "4              St. Philip's Lane       residential  53.3895222          -1.4796846   United Kingdom       OSM,\n",
      "         LocationName        Category    Latitude    Longitude          PartOf Gazetteer\n",
      "0  Village of Hobart  administrative  42.3714704  -74.6704311   United States       OSM,\n",
      "   LocationName        Category     Latitude           Longitude          PartOf Gazetteer\n",
      "0        Earth  administrative   34.2331373        -102.4107493   United States       OSM\n",
      "1        Earth      university  10.21990825  -83.59177371174943      Costa Rica       OSM\n",
      "2        earth           track   49.7933447          13.8667052           Česko       OSM\n",
      "3        earth           track   49.5904859          14.6651358           Česko       OSM\n",
      "4        earth           track    49.802872          15.5172618           Česko       OSM,\n",
      "                    LocationName        Category     Latitude           Longitude           PartOf Gazetteer\n",
      "0           South-East District  administrative  -24.9902332  25.726402352052464         Botswana       OSM\n",
      "1        Département du Sud-Est  administrative   18.2973566         -72.3745698            Ayiti       OSM\n",
      "2                       Sud-Est  administrative  44.97028655  28.282042663820434          România       OSM\n",
      "3  South East Constituency 1947       political   53.3262506  -6.236059861357543   Éire / Ireland       OSM\n",
      "4                    South East     residential    40.006443          -77.113805    United States       OSM,\n",
      "   LocationName     Category            Latitude           Longitude                   PartOf Gazetteer\n",
      "0     Ladybird          bar          51.5360577          -0.1038735           United Kingdom       OSM\n",
      "1     Ladybird  convenience          44.8216508          -0.5827753                   France       OSM\n",
      "2     Ladybird         gift  50.233202399999996  -5.228724001225023           United Kingdom       OSM\n",
      "3     Ladybird       tailor           9.9642514          76.3020845                    India       OSM\n",
      "4     Ladybird      clothes         -43.6020782         172.7198237   New Zealand / Aotearoa       OSM,\n",
      "   LocationName        Category      Latitude    Longitude            PartOf Gazetteer\n",
      "0  Port Arthur  administrative    29.8988618  -93.9288723     United States       OSM\n",
      "1  Port Arthur  administrative   -43.1435301  147.8440404         Australia       OSM\n",
      "2          大连市            city    38.9181714  121.6282945                中国       OSM\n",
      "3  Port Arthur          suburb    60.4468775   22.2444076   Suomi / Finland       OSM\n",
      "4  Port Arthur          suburb    48.4348261  -89.2194423            Canada       OSM\n",
      "5  Port Arthur             Bay  -43.13999939  147.8399963               TAS    TLCMap,\n",
      "     LocationName Category   Latitude  Longitude           PartOf\n",
      "200     Honduras  Country -87.216667       14.1  Central America,\n",
      "     LocationName        Category             Latitude          Longitude          PartOf Gazetteer\n",
      "0  Arthur County  administrative           41.5721288       -101.6974898   United States       OSM\n",
      "1         Arthur  administrative              42.3353        -95.3475647   United States       OSM\n",
      "2         Arthur  administrative           39.7147552         -88.472278   United States       OSM\n",
      "3         Arthur  administrative           47.1041435        -97.2181431   United States       OSM\n",
      "4         Arthur  administrative           41.5706962       -101.6914885   United States       OSM\n",
      "5         Arthur          parish  -32.681666666666665  149.8011111111111             NSW    TLCMap,\n",
      "   LocationName Category             Latitude           Longitude      PartOf Gazetteer\n",
      "0  Hells Gates      bay           -31.518396         159.0721965   Australia       OSM\n",
      "1  Hells Gates   strait          -42.2101271         145.2142261   Australia       OSM\n",
      "2  Hells Gates    water           46.2939985         -66.8910642      Canada       OSM\n",
      "3  Hells Gates     bay1  -31.518472222222222  159.06355555555558         NSW    TLCMap,\n",
      "   LocationName        Category             Latitude           Longitude           PartOf Gazetteer\n",
      "0      England  administrative           52.5310214          -1.2649062   United Kingdom       OSM\n",
      "1    Worcester  administrative           52.1911849          -2.2206585   United Kingdom       OSM\n",
      "2      England  administrative           34.5442609         -91.9690285    United States       OSM\n",
      "3      England   neighbourhood            54.495797           8.8784857      Deutschland       OSM\n",
      "4      England          hamlet           40.8403347         -82.2393255    United States       OSM\n",
      "5      England          parish  -27.433333333333334  152.46666666666667              QLD    TLCMap,\n",
      "   LocationName            Category     Latitude           Longitude           PartOf Gazetteer\n",
      "0     New Town              suburb   55.9554575          -3.1989995   United Kingdom       OSM\n",
      "1     New Town      administrative    47.980848          -102.49018    United States       OSM\n",
      "2     New Town      administrative  -42.8588009         147.3058753        Australia       OSM\n",
      "3     New Town      administrative  -33.9557061  137.69672510873852        Australia       OSM\n",
      "4     New Town                town   22.5882834          88.4734476            India       OSM\n",
      "5     New Town  locality (bounded)    -33.95489           137.69592               SA    TLCMap,\n",
      "      LocationName Category      Latitude    Longitude PartOf Gazetteer\n",
      "0  Grummet Island   Island  -42.38000107  145.4499969    TAS    TLCMap,\n",
      "   LocationName     Category    Latitude   Longitude        PartOf Gazetteer\n",
      "0      Grummet     locality  50.3686748  10.8561277   Deutschland       OSM\n",
      "1      grummet  information  50.4723087    11.96739   Deutschland       OSM,\n",
      "   LocationName        Category     Latitude    Longitude          PartOf Gazetteer\n",
      "0      Malabar  administrative   27.9869722  -80.5870164   United States       OSM\n",
      "1      Malabar         volcano   -7.1404971  107.6313311       Indonesia       OSM\n",
      "2      Malabar  administrative  -33.9629779  151.2480171       Australia       OSM\n",
      "3      Malabar         village   -7.2880681  108.6960653       Indonesia       OSM\n",
      "4      Malabar         village   -6.9260791  107.6210172       Indonesia       OSM\n",
      "5      Malabar       homestead   -35.564599  148.3241805             NSW    TLCMap,\n",
      "    LocationName           Category            Latitude           Longitude          PartOf Gazetteer\n",
      "0  Dawes County     administrative            42.71723        -103.1216528   United States       OSM\n",
      "1         Dawes  isolated_dwelling          38.9490664         -123.085002   United States       OSM\n",
      "2         Dawes             hamlet          38.1428826         -81.4520584   United States       OSM\n",
      "3         Dawes             hamlet          30.6076926         -88.2552828   United States       OSM\n",
      "4         Dawes             hamlet          36.8814607         -94.9913489   United States       OSM\n",
      "5         Dawes             parish  -31.17527777777778  142.79805555555555             NSW    TLCMap,\n",
      "                        LocationName        Category     Latitude           Longitude      PartOf Gazetteer\n",
      "0                            Sydney  administrative  -33.8698439         151.2082848   Australia       OSM\n",
      "1  Sydney (Kingsford Smith) Airport       aerodrome  -33.9498935  151.18196819346016   Australia       OSM\n",
      "2                            Sydney  administrative    46.137977          -60.194092      Canada       OSM\n",
      "3                            Sydney  administrative   -33.867926  151.21013810170962   Australia       OSM\n",
      "4     Council of the City of Sydney  administrative  -33.8888621   151.2048978618509   Australia       OSM\n",
      "5                            Sydney            city      -33.865  151.20944444444444         NSW    TLCMap]\n"
     ]
    }
   ],
   "source": [
    "pprint(alllocations)"
   ]
  },
  {
   "cell_type": "code",
   "execution_count": 83,
   "metadata": {},
   "outputs": [
    {
     "name": "stdout",
     "output_type": "stream",
     "text": [
      "Saving to location data to  ../ner_output/FtToHNL_matchedlocations.csv\n"
     ]
    },
    {
     "name": "stderr",
     "output_type": "stream",
     "text": [
      "/Users/niemann/opt/anaconda3/lib/python3.7/site-packages/numpy/lib/npyio.py:1378: VisibleDeprecationWarning: Creating an ndarray from ragged nested sequences (which is a list-or-tuple of lists-or-tuples-or ndarrays with different lengths or shapes) is deprecated. If you meant to do this, you must specify 'dtype=object' when creating the ndarray.\n",
      "  X = np.asarray(X)\n"
     ]
    }
   ],
   "source": [
    "filename = \"FtToHNL_matchedlocations.csv\"\n",
    "save_location = os.path.normpath(os.path.join(csv_directory, filename))\n",
    "save_filename = os.path.basename(save_location)\n",
    "print(\"Saving to location data to \",save_location)\n",
    "\n",
    "# save the list \n",
    "# using the savetxt from the numpy module\n",
    "np.savetxt(save_location, \n",
    "           alllocations,\n",
    "           delimiter =\", \", \n",
    "           fmt ='% s')"
   ]
  }
 ],
 "metadata": {
  "kernelspec": {
   "display_name": "Python 3",
   "language": "python",
   "name": "python3"
  },
  "language_info": {
   "codemirror_mode": {
    "name": "ipython",
    "version": 3
   },
   "file_extension": ".py",
   "mimetype": "text/x-python",
   "name": "python",
   "nbconvert_exporter": "python",
   "pygments_lexer": "ipython3",
   "version": "3.7.6"
  }
 },
 "nbformat": 4,
 "nbformat_minor": 4
}
